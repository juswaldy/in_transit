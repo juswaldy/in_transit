{
 "cells": [
  {
   "cell_type": "code",
   "execution_count": 1,
   "metadata": {},
   "outputs": [],
   "source": [
    "import math\n",
    "import cv2\n",
    "import numpy as np\n",
    "import os\n",
    "from glob import glob\n",
    "import matplotlib.pyplot as plt\n",
    "from PIL import Image\n",
    "import pandas as pd\n",
    "DEBUG = True"
   ]
  },
  {
   "cell_type": "code",
   "execution_count": 2,
   "metadata": {},
   "outputs": [],
   "source": [
    "# Break up data into consecutive groups.\n",
    "def consecutive_groups(x, stepsize=1):\n",
    "    return [ i for i in range(1, len(x), stepsize) if x[i] != x[i-1] ]"
   ]
  },
  {
   "cell_type": "code",
   "execution_count": 3,
   "metadata": {},
   "outputs": [],
   "source": [
    "def adjust_gamma(image, gamma=1.0):\n",
    "    invGamma = 1.0 / gamma\n",
    "    table = np.array([((i / 255.0) ** invGamma) * 255\n",
    "        for i in np.arange(0, 256)]).astype(\"uint8\")\n",
    "    return cv2.LUT(image, table)"
   ]
  },
  {
   "cell_type": "code",
   "execution_count": 8,
   "metadata": {},
   "outputs": [],
   "source": [
    "def get_horz_vert(inpath, ksize, erosion_iterations, gamma=1.0):\n",
    "    img = cv2.imread(inpath, cv2.IMREAD_GRAYSCALE)\n",
    "    img = adjust_gamma(img, gamma) if gamma != 1.0 else img\n",
    "    ret, thresh = cv2.threshold(img.copy(), 127, 255, cv2.THRESH_BINARY)\n",
    "    eroded = cv2.erode(thresh, kernel, iterations = erosion_iterations)\n",
    "    horizontal = consecutive_groups(eroded[0])\n",
    "    vertical = consecutive_groups(np.transpose(eroded)[0])\n",
    "\n",
    "    return horizontal, vertical"
   ]
  },
  {
   "cell_type": "code",
   "execution_count": 5,
   "metadata": {},
   "outputs": [],
   "source": [
    "def save_cropped(inpath, outpath, y1, y2, x1, x2):\n",
    "    img = cv2.imread(inpath)\n",
    "    img = cv2.cvtColor(img, cv2.COLOR_BGR2RGB)\n",
    "    framed = img[y1:y2, x1:x2]\n",
    "    z = Image.fromarray(framed)\n",
    "    z.save(outpath)"
   ]
  },
  {
   "cell_type": "code",
   "execution_count": 9,
   "metadata": {},
   "outputs": [
    {
     "name": "stdout",
     "output_type": "stream",
     "text": [
      "7.final/john0004.jpg\n",
      "7.final/john0005.jpg\n",
      "7.final/john0009.jpg\n",
      "7.final/john0016.jpg\n",
      "7.final/john0021.jpg\n",
      "7.final/john0022.jpg\n",
      "7.final/john0023.jpg\n",
      "7.final/john0024.jpg\n",
      "7.final/john0025.jpg\n",
      "7.final/john0026.jpg\n",
      "7.final/john0028.jpg\n",
      "7.final/john0030.jpg\n",
      "7.final/john0031.jpg\n",
      "7.final/john0032.jpg\n",
      "7.final/john0033.jpg\n",
      "7.final/john0034.jpg\n",
      "7.final/john0035.jpg\n",
      "7.final/john0037.jpg\n",
      "7.final/john0038.jpg\n",
      "7.final/john0039.jpg\n",
      "7.final/john0040.jpg\n",
      "7.final/john0041.jpg\n",
      "7.final/john0047.jpg\n",
      "7.final/john0048.jpg\n",
      "7.final/john0049.jpg\n",
      "7.final/john0050.jpg\n",
      "7.final/john0051.jpg\n",
      "7.final/john0052.jpg\n",
      "7.final/john0054.jpg\n",
      "7.final/john0055.jpg\n",
      "7.final/john0066.jpg\n",
      "7.final/john0067.jpg\n"
     ]
    }
   ],
   "source": [
    "ksize = 5\n",
    "kernel_size = (ksize, ksize)\n",
    "kernel = cv2.getStructuringElement(cv2.MORPH_RECT, kernel_size)\n",
    "erosion_iterations = 10\n",
    "\n",
    "moveup = 170\n",
    "padding = 15\n",
    "docwidth = 1712\n",
    "docheight = 2832\n",
    "\n",
    "for f in range(1, 70):    \n",
    "    filename = 'john{:04d}.jpg'.format(f)\n",
    "    inpath = '4.rotated/{}'.format(filename)\n",
    "    outpath = '7.final/{}'.format(filename)\n",
    "\n",
    "    horizontal, vertical = get_horz_vert(inpath, ksize, erosion_iterations)\n",
    "    \n",
    "    if len(horizontal) >= 4 and len(vertical) >= 4:\n",
    "        x, y = horizontal[0], vertical[0]\n",
    "        save_cropped(inpath, outpath, y-moveup, y+docheight-padding, x+padding, x+docwidth-padding)\n",
    "\n",
    "    else:\n",
    "        horizontal, vertical = get_horz_vert(inpath, ksize, erosion_iterations, gamma=0.5)\n",
    "        x, y = horizontal[0], vertical[0]\n",
    "        if x < 500 and y < 500:\n",
    "            save_cropped(inpath, outpath, y-moveup, y+docheight-padding, x+padding, x+docwidth-padding)\n",
    "            print(outpath)\n",
    "        else:\n",
    "            print(filename, horizontal, vertical)"
   ]
  }
 ],
 "metadata": {
  "kernelspec": {
   "display_name": "Python 3",
   "language": "python",
   "name": "python3"
  },
  "language_info": {
   "codemirror_mode": {
    "name": "ipython",
    "version": 3
   },
   "file_extension": ".py",
   "mimetype": "text/x-python",
   "name": "python",
   "nbconvert_exporter": "python",
   "pygments_lexer": "ipython3",
   "version": "3.7.4"
  }
 },
 "nbformat": 4,
 "nbformat_minor": 2
}
