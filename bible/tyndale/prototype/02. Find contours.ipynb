{
 "cells": [
  {
   "cell_type": "code",
   "execution_count": 1,
   "metadata": {},
   "outputs": [],
   "source": [
    "import cv2\n",
    "import numpy as np\n",
    "import os\n",
    "from glob import glob\n",
    "import matplotlib.pyplot as plt\n",
    "from PIL import Image"
   ]
  },
  {
   "cell_type": "code",
   "execution_count": 3,
   "metadata": {
    "scrolled": true
   },
   "outputs": [
    {
     "name": "stdout",
     "output_type": "stream",
     "text": [
      "1.cropped/john0001.jpg\n",
      "1.cropped/john0002.jpg\n",
      "1.cropped/john0003.jpg\n",
      "1.cropped/john0004.jpg\n",
      "1.cropped/john0005.jpg\n",
      "1.cropped/john0006.jpg\n",
      "1.cropped/john0007.jpg\n",
      "1.cropped/john0008.jpg\n",
      "1.cropped/john0009.jpg\n",
      "1.cropped/john0010.jpg\n",
      "1.cropped/john0011.jpg\n",
      "1.cropped/john0012.jpg\n",
      "1.cropped/john0013.jpg\n",
      "1.cropped/john0014.jpg\n",
      "1.cropped/john0015.jpg\n",
      "1.cropped/john0016.jpg\n",
      "1.cropped/john0017.jpg\n",
      "1.cropped/john0018.jpg\n",
      "1.cropped/john0019.jpg\n",
      "1.cropped/john0020.jpg\n",
      "1.cropped/john0021.jpg\n",
      "1.cropped/john0022.jpg\n",
      "1.cropped/john0023.jpg\n",
      "1.cropped/john0024.jpg\n",
      "1.cropped/john0025.jpg\n",
      "1.cropped/john0026.jpg\n",
      "1.cropped/john0027.jpg\n",
      "1.cropped/john0028.jpg\n",
      "1.cropped/john0029.jpg\n",
      "1.cropped/john0030.jpg\n",
      "1.cropped/john0031.jpg\n",
      "1.cropped/john0032.jpg\n",
      "1.cropped/john0033.jpg\n",
      "1.cropped/john0034.jpg\n",
      "1.cropped/john0035.jpg\n",
      "1.cropped/john0036.jpg\n",
      "1.cropped/john0037.jpg\n",
      "1.cropped/john0038.jpg\n",
      "1.cropped/john0039.jpg\n",
      "1.cropped/john0040.jpg\n",
      "1.cropped/john0041.jpg\n",
      "1.cropped/john0042.jpg\n",
      "1.cropped/john0043.jpg\n",
      "1.cropped/john0044.jpg\n",
      "1.cropped/john0045.jpg\n",
      "1.cropped/john0046.jpg\n",
      "1.cropped/john0047.jpg\n",
      "1.cropped/john0048.jpg\n",
      "1.cropped/john0049.jpg\n",
      "1.cropped/john0050.jpg\n",
      "1.cropped/john0051.jpg\n",
      "1.cropped/john0052.jpg\n",
      "1.cropped/john0053.jpg\n",
      "1.cropped/john0054.jpg\n",
      "1.cropped/john0055.jpg\n",
      "1.cropped/john0056.jpg\n",
      "1.cropped/john0057.jpg\n",
      "1.cropped/john0058.jpg\n",
      "1.cropped/john0059.jpg\n",
      "1.cropped/john0060.jpg\n",
      "1.cropped/john0061.jpg\n",
      "1.cropped/john0062.jpg\n",
      "1.cropped/john0063.jpg\n",
      "1.cropped/john0064.jpg\n",
      "1.cropped/john0065.jpg\n",
      "1.cropped/john0066.jpg\n",
      "1.cropped/john0067.jpg\n",
      "1.cropped/john0068.jpg\n",
      "1.cropped/john0069.jpg\n"
     ]
    }
   ],
   "source": [
    "longenough = 600.0\n",
    "for f in sorted(glob(\"1.cropped/*.jpg\")):\n",
    "    filename = f.split('/')[-1]\n",
    "    img = cv2.imread(f)\n",
    "    gray = cv2.cvtColor(img.copy(), cv2.COLOR_BGR2GRAY)\n",
    "    thresh = cv2.threshold(gray.copy(), 225, 255, cv2.THRESH_BINARY_INV)[1]\n",
    "    edges = cv2.Canny(gray, 10, 250, apertureSize=7)\n",
    "    (_, cnts, hier) = cv2.findContours(thresh.copy(), cv2.RETR_LIST, cv2.CHAIN_APPROX_SIMPLE)\n",
    "    lines = []\n",
    "    for c in cnts:\n",
    "        epsilon = 0.1*cv2.arcLength(c,True)\n",
    "        approx = cv2.approxPolyDP(c,epsilon,True)\n",
    "        if cv2.arcLength(c, True) > longenough:\n",
    "            lines.append(c)\n",
    "    len(lines)\n",
    "    cnt = np.array(lines)\n",
    "    blank = np.ones(img.shape, np.uint8)*255\n",
    "    wc = cv2.drawContours(blank, cnt, -1, (255, 0, 0), 7)\n",
    "    output = Image.fromarray(wc)\n",
    "    output.save(\"2.contours/{}\".format(filename))\n",
    "    print(f)"
   ]
  }
 ],
 "metadata": {
  "kernelspec": {
   "display_name": "Python 3",
   "language": "python",
   "name": "python3"
  },
  "language_info": {
   "codemirror_mode": {
    "name": "ipython",
    "version": 3
   },
   "file_extension": ".py",
   "mimetype": "text/x-python",
   "name": "python",
   "nbconvert_exporter": "python",
   "pygments_lexer": "ipython3",
   "version": "3.7.4"
  }
 },
 "nbformat": 4,
 "nbformat_minor": 2
}
