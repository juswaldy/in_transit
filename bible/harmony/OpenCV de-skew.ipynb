{
 "cells": [
  {
   "cell_type": "code",
   "execution_count": 4,
   "metadata": {
    "collapsed": true
   },
   "outputs": [],
   "source": [
    "import numpy as np\n",
    "import cv2\n",
    "import os\n",
    "from glob import glob"
   ]
  },
  {
   "cell_type": "code",
   "execution_count": 5,
   "metadata": {
    "collapsed": true
   },
   "outputs": [],
   "source": [
    "def deskew(image):\n",
    "    # Convert to grayscale and invert.\n",
    "    gray = cv2.cvtColor(image, cv2.COLOR_BGR2GRAY)\n",
    "    gray = cv2.bitwise_not(gray)\n",
    "    \n",
    "    # Threshold.\n",
    "    thresh = cv2.threshold(gray, 0, 255, cv2.THRESH_BINARY | cv2.THRESH_OTSU)[1]\n",
    "    \n",
    "    # Get bounding box.\n",
    "    coords = np.column_stack(np.where(thresh > 0))\n",
    "    angle = cv2.minAreaRect(coords)[-1]\n",
    "    \n",
    "    # Fix angle.\n",
    "    if angle < -45:\n",
    "        angle = -(90 + angle)\n",
    "    else:\n",
    "        angle = -angle\n",
    "    \n",
    "    # Rotate to deskew.\n",
    "    (h, w) = image.shape[:2]\n",
    "    center = (w // 2, h // 2)\n",
    "    M = cv2.getRotationMatrix2D(center, angle, 1.0)\n",
    "    rotated = cv2.warpAffine(image, M, (w, h), flags=cv2.INTER_CUBIC, borderMode=cv2.BORDER_REPLICATE)\n",
    "    \n",
    "    return rotated, angle"
   ]
  },
  {
   "cell_type": "code",
   "execution_count": 7,
   "metadata": {},
   "outputs": [
    {
     "name": "stdout",
     "output_type": "stream",
     "text": [
      "harmony-0.2.jpg = 0.6351822018623352\n",
      "harmony-1.1.jpg = -0.06394195556640625\n",
      "harmony-1.2.jpg = -0.19671630859375\n",
      "harmony-2.1.jpg = 0.09827739745378494\n",
      "harmony-2.2.jpg = -0.173614501953125\n",
      "harmony-3.1.jpg = 0.38452962040901184\n",
      "harmony-3.2.jpg = -0.3475494384765625\n",
      "harmony-4.1.jpg = 0.950316846370697\n",
      "harmony-4.2.jpg = 0.17180092632770538\n",
      "harmony-5.1.jpg = 0.20174485445022583\n",
      "harmony-5.2.jpg = -0.9405136108398438\n",
      "harmony-6.1.jpg = 0.531785786151886\n",
      "harmony-6.2.jpg = -0.719970703125\n",
      "harmony-7.1.jpg = 1.007551908493042\n",
      "harmony-7.2.jpg = 0.4703981578350067\n"
     ]
    }
   ],
   "source": [
    "for filepath in sorted(glob(\"cut/harmony-*.[Jj][Pp][Gg]\")):\n",
    "    filename = os.path.basename(filepath)\n",
    "    image = cv2.imread(filepath)\n",
    "    rotated, angle = deskew(image)\n",
    "\n",
    "    print(\"{} = {}\".format(filename, angle))\n",
    "    \n",
    "    cv2.imwrite(\"rotated/\" + filename, rotated)"
   ]
  }
 ],
 "metadata": {
  "kernelspec": {
   "display_name": "Python 3",
   "language": "python",
   "name": "python3"
  },
  "language_info": {
   "codemirror_mode": {
    "name": "ipython",
    "version": 3
   },
   "file_extension": ".py",
   "mimetype": "text/x-python",
   "name": "python",
   "nbconvert_exporter": "python",
   "pygments_lexer": "ipython3",
   "version": "3.5.2"
  }
 },
 "nbformat": 4,
 "nbformat_minor": 2
}
