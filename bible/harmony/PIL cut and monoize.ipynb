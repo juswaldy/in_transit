{
 "cells": [
  {
   "cell_type": "code",
   "execution_count": 72,
   "metadata": {
    "collapsed": true
   },
   "outputs": [],
   "source": [
    "import os\n",
    "from glob import glob\n",
    "from PIL import Image\n",
    "import numpy as np"
   ]
  },
  {
   "cell_type": "code",
   "execution_count": 73,
   "metadata": {
    "collapsed": true
   },
   "outputs": [],
   "source": [
    "def getLeftRight(filepath, leftbox=(200, 150, 2550, 3000), rightbox=(50, 150, 2400, 3000)):\n",
    "    image = Image.open(filepath)\n",
    "    \n",
    "    # Get the left and right sides.\n",
    "    width, height = image.size\n",
    "    left = image.crop((0, 0, width/2, height))\n",
    "    right = image.crop((width/2, 0, width, height))\n",
    "\n",
    "    # Crop left and right sides.\n",
    "    left = left.crop(leftbox)\n",
    "    right = right.crop(rightbox)\n",
    "\n",
    "    return (left, right)"
   ]
  },
  {
   "cell_type": "code",
   "execution_count": 74,
   "metadata": {},
   "outputs": [],
   "source": [
    "def makeMono(image, cutoff=200):\n",
    "    width, height = image.size\n",
    "    mono = image.convert('L')\n",
    "    mono = np.array(mono)\n",
    "\n",
    "    # Clean up using cutoff value.\n",
    "    x = mono.flatten()\n",
    "    x[x < cutoff] = 0\n",
    "    x[x >= cutoff] = 255\n",
    "\n",
    "    x = np.reshape(x, (height, width)).astype('uint8')\n",
    "\n",
    "    return Image.fromarray(x)"
   ]
  },
  {
   "cell_type": "code",
   "execution_count": 75,
   "metadata": {
    "scrolled": true
   },
   "outputs": [
    {
     "name": "stdout",
     "output_type": "stream",
     "text": [
      "harmony-0.jpg\n",
      "harmony-1.jpg\n",
      "harmony-2.jpg\n",
      "harmony-3.jpg\n",
      "harmony-4.jpg\n",
      "harmony-5.jpg\n",
      "harmony-6.jpg\n",
      "harmony-7.jpg\n"
     ]
    }
   ],
   "source": [
    "for filepath in sorted(glob(\"harmony-*.[Jj][Pp][Gg]\")):\n",
    "    left, right = getLeftRight(filepath)\n",
    "    left = makeMono(left)\n",
    "    right = makeMono(right)\n",
    "    \n",
    "    filename = os.path.basename(filepath)\n",
    "    base = os.path.splitext(filename)[0]\n",
    "\n",
    "    left.save('cut/' + base + '.1.jpg')\n",
    "    right.save('cut/' + base + '.2.jpg')\n",
    "\n",
    "    print(filepath)"
   ]
  }
 ],
 "metadata": {
  "kernelspec": {
   "display_name": "Python 3",
   "language": "python",
   "name": "python3"
  },
  "language_info": {
   "codemirror_mode": {
    "name": "ipython",
    "version": 3
   },
   "file_extension": ".py",
   "mimetype": "text/x-python",
   "name": "python",
   "nbconvert_exporter": "python",
   "pygments_lexer": "ipython3",
   "version": "3.5.2"
  }
 },
 "nbformat": 4,
 "nbformat_minor": 2
}
