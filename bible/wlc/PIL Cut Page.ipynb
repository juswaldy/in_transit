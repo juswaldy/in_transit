{
 "cells": [
  {
   "cell_type": "code",
   "execution_count": 18,
   "metadata": {},
   "outputs": [],
   "source": [
    "import os\n",
    "from glob import glob\n",
    "from PIL import Image, ImageDraw\n",
    "import numpy as np"
   ]
  },
  {
   "cell_type": "code",
   "execution_count": 76,
   "metadata": {},
   "outputs": [],
   "source": [
    "def makeMono(image, cutoff=234):\n",
    "    width, height = image.size\n",
    "    mono = image.convert('L')\n",
    "    mono = np.array(mono)\n",
    "\n",
    "    # Clean up using cutoff value.\n",
    "    x = mono.flatten()\n",
    "    x[x < cutoff] = 0\n",
    "    x[x >= cutoff] = 255\n",
    "\n",
    "    x = np.reshape(x, (height, width)).astype('uint8')\n",
    "    \n",
    "    return Image.fromarray(x)"
   ]
  },
  {
   "cell_type": "code",
   "execution_count": 77,
   "metadata": {},
   "outputs": [],
   "source": [
    "def getBoundingRect(image, cutoff=100):\n",
    "    x = makeMono(image, cutoff)\n",
    "    dust = 12\n",
    "    width, height = image.size\n",
    "\n",
    "    # Get top and bottom.\n",
    "    top = next(n for n in range(height) if sum(x[n]) < 255*(width-dust))\n",
    "    bottom = next(n for n in range(height-1, 0, -1) if sum(x[n]) < 255*(width-dust))\n",
    "\n",
    "    # Get left and right.\n",
    "    y = x.transpose()\n",
    "    left = next(n for n in range(width) if sum(y[n]) < 255*(height-dust))\n",
    "    right = next(n for n in range(width-1, 0, -1) if sum(y[n]) < 255*(height-dust))\n",
    "\n",
    "    return (left, top, right, bottom)"
   ]
  },
  {
   "cell_type": "code",
   "execution_count": 78,
   "metadata": {},
   "outputs": [],
   "source": [
    "def cutText(filepath, leftside = True):\n",
    "    width = 3275\n",
    "    height = 5150\n",
    "    leftx = 140\n",
    "    lefty = 110\n",
    "    rightx = 75\n",
    "    righty = 150\n",
    "    leftpage = (leftx, lefty, leftx+width, lefty+height)\n",
    "    rightpage = (rightx, righty, rightx+width, righty+height)\n",
    "    image = Image.open(filepath)\n",
    "\n",
    "    if leftside:\n",
    "        textbox = image.crop(leftpage)\n",
    "    else:\n",
    "        textbox = image.crop(rightpage)\n",
    "\n",
    "    return textbox"
   ]
  },
  {
   "cell_type": "code",
   "execution_count": 79,
   "metadata": {
    "scrolled": true
   },
   "outputs": [
    {
     "name": "stdout",
     "output_type": "stream",
     "text": [
      "bereshit1/01-02.0000000.jpg\n",
      "bereshit1/01-02.0000001.jpg\n",
      "bereshit1/01-02.0000002.jpg\n",
      "bereshit1/01-02.0000003.jpg\n",
      "bereshit1/01-02.0000004.jpg\n",
      "bereshit1/01-02.0000005.jpg\n",
      "bereshit1/01-02.0000006.jpg\n",
      "bereshit1/01-02.0000007.jpg\n",
      "bereshit1/01-02.0000008.jpg\n",
      "bereshit1/01-02.0000009.jpg\n",
      "bereshit1/01-02.0000010.jpg\n",
      "bereshit1/01-02.0000011.jpg\n",
      "bereshit1/01-02.0000012.jpg\n",
      "bereshit1/01-02.0000013.jpg\n",
      "bereshit1/01-02.0000014.jpg\n",
      "bereshit1/01-02.0000015.jpg\n",
      "bereshit1/01-02.0000016.jpg\n",
      "bereshit1/03-04.0000001.jpg\n",
      "bereshit1/03-04.0000002.jpg\n",
      "bereshit1/03-04.0000003.jpg\n",
      "bereshit1/03-04.0000004.jpg\n",
      "bereshit1/03-04.0000005.jpg\n",
      "bereshit1/03-04.0000006.jpg\n",
      "bereshit1/03-04.0000007.jpg\n",
      "bereshit1/03-04.0000008.jpg\n",
      "bereshit1/03-04.0000009.jpg\n",
      "bereshit1/03-04.0000010.jpg\n",
      "bereshit1/03-04.0000011.jpg\n",
      "bereshit1/03-04.0000012.jpg\n",
      "bereshit1/03-04.0000013.jpg\n",
      "bereshit1/03-04.0000014.jpg\n",
      "bereshit1/03-04.0000015.jpg\n",
      "bereshit1/03-04.0000016.jpg\n",
      "bereshit1/05-06.0000000.jpg\n",
      "bereshit1/05-06.0000001.jpg\n",
      "bereshit1/05-06.0000002.jpg\n",
      "bereshit1/05-06.0000003.jpg\n",
      "bereshit1/05-06.0000004.jpg\n",
      "bereshit1/05-06.0000005.jpg\n",
      "bereshit1/05-06.0000006.jpg\n",
      "bereshit1/05-06.0000007.jpg\n",
      "bereshit1/05-06.0000008.jpg\n",
      "bereshit1/05-06.0000009.jpg\n",
      "bereshit1/05-06.0000010.jpg\n"
     ]
    }
   ],
   "source": [
    "leftside = True\n",
    "for filepath in sorted(glob(\"bereshit1/*.*.[Jj][Pp][Gg]\")):\n",
    "    textbox = cutText(filepath, leftside)\n",
    "    filename = os.path.basename(filepath)\n",
    "    textbox.save('cut/' + filename)\n",
    "    print(filepath)\n",
    "    leftside = not(leftside)"
   ]
  }
 ],
 "metadata": {
  "kernelspec": {
   "display_name": "Python 3",
   "language": "python",
   "name": "python3"
  },
  "language_info": {
   "codemirror_mode": {
    "name": "ipython",
    "version": 3
   },
   "file_extension": ".py",
   "mimetype": "text/x-python",
   "name": "python",
   "nbconvert_exporter": "python",
   "pygments_lexer": "ipython3",
   "version": "3.6.6"
  }
 },
 "nbformat": 4,
 "nbformat_minor": 2
}
