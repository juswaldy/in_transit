{
 "cells": [
  {
   "cell_type": "code",
   "execution_count": 6,
   "metadata": {},
   "outputs": [],
   "source": [
    "import cv2\n",
    "import numpy as np\n",
    "import os\n",
    "from glob import glob\n",
    "import matplotlib.pyplot as plt\n",
    "plt.rcParams[\"figure.figsize\"] = (25, 20)"
   ]
  },
  {
   "cell_type": "code",
   "execution_count": 17,
   "metadata": {},
   "outputs": [],
   "source": [
    "def compute_skew(image):\n",
    "    image = cv2.bitwise_not(image)\n",
    "    height, width = image.shape\n",
    "    \n",
    "    # Remove filter.\n",
    "    # edges = cv2.Canny(image, 150, 200, 3, 5)\n",
    "    \n",
    "    lines = cv2.HoughLinesP(image, 1, np.pi/180, 100, minLineLength=width / 2.0, maxLineGap=20)\n",
    "    angle = 0.0\n",
    "    if lines is None or len(lines) == 0:\n",
    "        print(\"No hough lines!\")\n",
    "    else:\n",
    "        nlines = lines.size\n",
    "\n",
    "        # Reshape from (n_lines,1,4) to (n_lines,4).\n",
    "        lines = lines.reshape(lines.shape[0], 4)\n",
    "\n",
    "        # Remove [0] because of the new shape.\n",
    "        # for x1, y1, x2, y2 in lines[0]:\n",
    "        for x1, y1, x2, y2 in lines:\n",
    "            angle += np.arctan2(y2 - y1, x2 - x1)\n",
    "\n",
    "        # The function cv2.getRotationMatrix2D recieves as input the\n",
    "        # angle in degrees, so I converted the return\n",
    "        # https://docs.opencv.org/2.4/modules/imgproc/doc/geometric_transformations.html#getrotationmatrix2d\n",
    "        #return angle / nlines\n",
    "\n",
    "        angle /= nlines\n",
    "    return angle*180/np.pi"
   ]
  },
  {
   "cell_type": "code",
   "execution_count": 19,
   "metadata": {},
   "outputs": [],
   "source": [
    "def deskew(image, angle):\n",
    "    image = cv2.bitwise_not(image)\n",
    "    non_zero_pixels = cv2.findNonZero(image)\n",
    "    center, wh, theta = cv2.minAreaRect(non_zero_pixels)\n",
    "\n",
    "    root_mat = cv2.getRotationMatrix2D(center, angle, 1)\n",
    "    rows, cols = image.shape\n",
    "    rotated = cv2.warpAffine(image, root_mat, (cols, rows), flags=cv2.INTER_CUBIC)\n",
    "    rotated = cv2.getRectSubPix(rotated, (cols, rows), center)\n",
    "    rotated = cv2.bitwise_not(rotated)\n",
    "\n",
    "    return rotated"
   ]
  },
  {
   "cell_type": "code",
   "execution_count": 20,
   "metadata": {
    "scrolled": true
   },
   "outputs": [
    {
     "name": "stdout",
     "output_type": "stream",
     "text": [
      "01-02.0000000.jpg = 0.0\n",
      "01-02.0000001.jpg = 0.0\n",
      "01-02.0000002.jpg = 0.0\n",
      "01-02.0000003.jpg = 0.0\n",
      "01-02.0000004.jpg = 0.0\n",
      "01-02.0000005.jpg = 0.07482241706822591\n",
      "01-02.0000006.jpg = 0.0\n",
      "01-02.0000007.jpg = 0.0\n",
      "01-02.0000008.jpg = 0.0\n",
      "01-02.0000009.jpg = 0.0\n",
      "01-02.0000010.jpg = 0.19954657212221485\n",
      "01-02.0000011.jpg = 0.0\n",
      "01-02.0000012.jpg = 0.0\n",
      "01-02.0000013.jpg = 0.0034111182711708643\n",
      "01-02.0000014.jpg = 0.0\n",
      "01-02.0000015.jpg = 0.0\n",
      "01-02.0000016.jpg = 0.0\n",
      "03-04.0000001.jpg = 0.0\n",
      "03-04.0000002.jpg = 0.0\n",
      "03-04.0000003.jpg = 0.0\n",
      "03-04.0000004.jpg = 0.0\n",
      "03-04.0000005.jpg = 0.24847524097248871\n",
      "03-04.0000006.jpg = 0.0\n",
      "03-04.0000007.jpg = 0.0\n",
      "03-04.0000008.jpg = 0.0\n",
      "03-04.0000009.jpg = 0.0\n",
      "03-04.0000010.jpg = 0.0\n",
      "03-04.0000011.jpg = 0.0\n",
      "03-04.0000012.jpg = -0.25043223633551376\n",
      "No hough lines!\n",
      "03-04.0000013.jpg = 0.0\n",
      "03-04.0000014.jpg = 0.0\n",
      "03-04.0000015.jpg = 0.25007075571056725\n",
      "03-04.0000016.jpg = 0.0\n",
      "05-06.0000000.jpg = 0.0\n",
      "05-06.0000001.jpg = 0.0\n",
      "05-06.0000002.jpg = -0.2500489067913128\n",
      "05-06.0000003.jpg = 0.0\n",
      "05-06.0000004.jpg = 0.0\n",
      "05-06.0000005.jpg = 0.0\n",
      "05-06.0000006.jpg = 0.0\n",
      "05-06.0000007.jpg = 0.0\n",
      "05-06.0000008.jpg = 0.24954485879289923\n",
      "05-06.0000009.jpg = 0.0\n",
      "05-06.0000010.jpg = 0.2508788305363243\n"
     ]
    }
   ],
   "source": [
    "for filepath in sorted(glob(\"cut/*.*.[Jj][Pp][Gg]\")):\n",
    "    filename = os.path.basename(filepath)\n",
    "    img = cv2.imread(filepath, cv2.IMREAD_GRAYSCALE)\n",
    "    angle = compute_skew(img)\n",
    "    rotated = deskew(img.copy(), angle)\n",
    "    \n",
    "    print(\"{} = {}\".format(filename, angle))\n",
    "    cv2.imwrite(\"rotated/\" + filename, rotated)\n"
   ]
  }
 ],
 "metadata": {
  "kernelspec": {
   "display_name": "Python 3",
   "language": "python",
   "name": "python3"
  },
  "language_info": {
   "codemirror_mode": {
    "name": "ipython",
    "version": 3
   },
   "file_extension": ".py",
   "mimetype": "text/x-python",
   "name": "python",
   "nbconvert_exporter": "python",
   "pygments_lexer": "ipython3",
   "version": "3.6.6"
  }
 },
 "nbformat": 4,
 "nbformat_minor": 2
}
