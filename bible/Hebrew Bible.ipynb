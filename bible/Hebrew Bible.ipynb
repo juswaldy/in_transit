{
 "cells": [
  {
   "cell_type": "markdown",
   "metadata": {
    "azdata_cell_guid": "245c6847-68f4-4285-b57a-b3af4f7c865b"
   },
   "source": [
    "# Hebrew Bible"
   ]
  },
  {
   "cell_type": "code",
   "execution_count": 1,
   "metadata": {
    "azdata_cell_guid": "68bcde75-cc55-4596-af51-dc884a58ac79"
   },
   "outputs": [
    {
     "data": {
      "text/html": [
       "Commands completed successfully."
      ]
     },
     "metadata": {},
     "output_type": "display_data"
    },
    {
     "data": {
      "text/html": [
       "Total execution time: 00:00:00.048"
      ]
     },
     "metadata": {},
     "output_type": "display_data"
    }
   ],
   "source": [
    "USE jus;"
   ]
  },
  {
   "cell_type": "code",
   "execution_count": 17,
   "metadata": {
    "azdata_cell_guid": "c9b29508-72e8-4567-af80-2e92d4d5a62a"
   },
   "outputs": [
    {
     "data": {
      "text/html": [
       "(49 rows affected)"
      ]
     },
     "metadata": {},
     "output_type": "display_data"
    },
    {
     "data": {
      "text/html": [
       "Total execution time: 00:00:00.477"
      ]
     },
     "metadata": {},
     "output_type": "display_data"
    },
    {
     "data": {
      "application/vnd.dataresource+json": {
       "data": [
        {
         "0": "Genesis 6:14",
         "1": "עֲשֵׂ֤ה לְךָ֙ תֵּבַ֣ת עֲצֵי גֹ֔פֶר קִנִּ֖ים תַּֽעֲשֶׂ֣ה אֶת הַתֵּבָ֑ה וְכָֽפַרְתָּ֥ אֹתָ֛הּ מִבַּ֥יִת וּמִח֖וּץ בַּכֹּֽפֶר",
         "2": "Make yourself an ark of gopher wood. Make rooms in the ark, and cover it inside and out with pitch."
        },
        {
         "0": "Exodus 25:18",
         "1": "וְעָשִׂ֛יתָ שְׁנַ֥יִם כְּרֻבִ֖ים זָהָ֑ב מִקְשָׁה֙ תַּעֲשֶׂ֣ה אֹתָ֔ם מִשְּׁנֵ֖י קְצ֥וֹת הַכַּפֹּֽרֶת",
         "2": "And you shall make two cherubim of gold; of hammered work shall you make them, on the two ends of the mercy seat."
        },
        {
         "0": "Exodus 25:20",
         "1": "וְהָי֣וּ הַכְּרֻבִים֩ פֹּרְשֵׂ֨י כְנָפַ֜יִם לְמַ֗עְלָה סֹכְכִ֤ים בְּכַנְפֵיהֶם֙ עַל הַכַּפֹּ֔רֶת וּפְנֵיהֶ֖ם אִ֣ישׁ אֶל אָחִ֑יו אֶל הַכַּפֹּ֔רֶת יִהְי֖וּ פְּנֵ֥י הַכְּרֻבִֽים",
         "2": "The cherubim shall spread out their wings above, overshadowing the mercy seat with their wings, their faces one to another; toward the mercy seat shall the faces of the cherubim be."
        },
        {
         "0": "Exodus 29:36",
         "1": "וּפַ֨ר חַטָּ֜את תַּעֲשֶׂ֤ה לַיּוֹם֙ עַל הַכִּפֻּרִ֔ים וְחִטֵּאתָ֙ עַל הַמִּזְבֵּ֔חַ בְּכַפֶּרְךָ֖ עָלָ֑יו וּמָֽשַׁחְתָּ֥ אֹת֖וֹ לְקַדְּשֽׁוֹ",
         "2": "and every day you shall offer a bull as a sin offering for atonement. Also you shall purify the altar, when you make atonement for it, and shall anoint it to consecrate it."
        },
        {
         "0": "Exodus 29:37",
         "1": "שִׁבְעַ֣ת יָמִ֗ים תְּכַפֵּר֙ עַל הַמִּזְבֵּ֔חַ וְקִדַּשְׁתָּ֖ אֹת֑וֹ וְהָיָ֤ה הַמִּזְבֵּ֨חַ֙ קֹ֣דֶשׁ קָֽדָשִׁ֔ים כָּל הַנֹּגֵ֥עַ בַּמִּזְבֵּ֖חַ יִקְדָּֽשׁ",
         "2": "Seven days you shall make atonement for the altar and consecrate it, and the altar shall be most holy. Whatever touches the altar shall become holy."
        },
        {
         "0": "Exodus 30:10",
         "1": "וְכִפֶּ֤ר אַהֲרֹן֙ עַל קַרְנֹתָ֔יו אַחַ֖ת בַּשָּׁנָ֑ה מִדַּ֞ם חַטַּ֣את הַכִּפֻּרִ֗ים אַחַ֤ת בַּשָּׁנָה֙ יְכַפֵּ֤ר עָלָיו֙ לְדֹרֹ֣תֵיכֶ֔ם קֹֽדֶשׁ קָֽדָשִׁ֥ים ה֖וּא לַיהוָֽה",
         "2": "Aaron shall make atonement on its horns once a year. With the blood of the sin offering of atonement he shall make atonement for it once in the year throughout your generations. It is most holy to the LORD.”"
        },
        {
         "0": "Exodus 30:15",
         "1": "הֶֽעָשִׁ֣יר לֹֽא יַרְבֶּ֗ה וְהַדַּל֙ לֹ֣א יַמְעִ֔יט מִֽמַּחֲצִ֖ית הַשָּׁ֑קֶל לָתֵת֙ אֶת תְּרוּמַ֣ת יְהוָ֔ה לְכַפֵּ֖ר עַל נַפְשֹׁתֵיכֶֽם",
         "2": "The rich shall not give more, and the poor shall not give less, than the half shekel, when you give the LORD's offering to make atonement for your lives."
        },
        {
         "0": "Exodus 30:16",
         "1": "וְלָקַחְתָּ֞ אֶת כֶּ֣סֶף הַכִּפֻּרִ֗ים מֵאֵת֙ בְּנֵ֣י יִשְׂרָאֵ֔ל וְנָתַתָּ֣ אֹת֔וֹ עַל עֲבֹדַ֖ת אֹ֣הֶל מוֹעֵ֑ד וְהָיָה֩ לִבְנֵ֨י יִשְׂרָאֵ֤ל לְזִכָּרוֹן֙ לִפְנֵ֣י יְהוָ֔ה לְכַפֵּ֖ר עַל נַפְשֹׁתֵיכֶֽם",
         "2": "You shall take the atonement money from the people of Israel and shall give it for the service of the tent of meeting, that it may bring the people of Israel to remembrance before the LORD, so as to make atonement for your lives.”"
        },
        {
         "0": "Exodus 37:7",
         "1": "וַיַּ֛עַשׂ שְׁנֵ֥י כְרֻבִ֖ים זָהָ֑ב מִקְשָׁה֙ עָשָׂ֣ה אֹתָ֔ם מִשְּׁנֵ֖י קְצ֥וֹת הַכַּפֹּֽרֶת",
         "2": "And he made two cherubim of gold. He made them of hammered work on the two ends of the mercy seat,"
        },
        {
         "0": "Exodus 37:9",
         "1": "וַיִּהְי֣וּ הַכְּרֻבִים֩ פֹּרְשֵׂ֨י כְנָפַ֜יִם לְמַ֗עְלָה סֹֽכְכִ֤ים בְּכַנְפֵיהֶם֙ עַל הַכַּפֹּ֔רֶת וּפְנֵיהֶ֖ם אִ֣ישׁ אֶל אָחִ֑יו אֶל הַכַּפֹּ֔רֶת הָי֖וּ פְּנֵ֥י הַכְּרֻבִֽים",
         "2": "The cherubim spread out their wings above, overshadowing the mercy seat with their wings, with their faces one to another; toward the mercy seat were the faces of the cherubim."
        },
        {
         "0": "Exodus 40:20",
         "1": "וַיִּקַּ֞ח וַיִּתֵּ֤ן אֶת הָעֵדֻת֙ אֶל הָ֣אָרֹ֔ן וַיָּ֥שֶׂם אֶת הַבַּדִּ֖ים עַל הָאָרֹ֑ן וַיִּתֵּ֧ן אֶת הַכַּפֹּ֛רֶת עַל הָאָרֹ֖ן מִלְמָֽעְלָה",
         "2": "He took the testimony and put it into the ark, and put the poles on the ark and set the mercy seat above on the ark."
        },
        {
         "0": "Leviticus 4:26",
         "1": "וְאֶת כָּל חֶלְבּוֹ֙ יַקְטִ֣יר הַמִּזְבֵּ֔חָה כְּחֵ֖לֶב זֶ֣בַח הַשְּׁלָמִ֑ים וְכִפֶּ֨ר עָלָ֧יו הַכֹּהֵ֛ן מֵחַטָּאת֖וֹ וְנִסְלַ֥ח לֽוֹ",
         "2": "And all its fat he shall burn on the altar, like the fat of the sacrifice of peace offerings. So the priest shall make atonement for him for his sin, and he shall be forgiven."
        },
        {
         "0": "Leviticus 4:31",
         "1": "וְאֶת כָּל חֶלְבָּ֣הּ יָסִ֗יר כַּאֲשֶׁ֨ר הוּסַ֣ר חֵלֶב֮ מֵעַ֣ל זֶ֣בַח הַשְּׁלָמִים֒ וְהִקְטִ֤יר הַכֹּהֵן֙ הַמִּזְבֵּ֔חָה לְרֵ֥יחַ נִיחֹ֖חַ לַיהוָ֑ה וְכִפֶּ֥ר עָלָ֛יו הַכֹּהֵ֖ן וְנִסְלַ֥ח לֽוֹ",
         "2": "And all its fat he shall remove, as the fat is removed from the peace offerings, and the priest shall burn it on the altar for a pleasing aroma to the LORD. And the priest shall make atonement for him, and he shall be forgiven."
        },
        {
         "0": "Leviticus 4:35",
         "1": "וְאֶת כָּל חֶלְבָּ֣ה יָסִ֗יר כַּאֲשֶׁ֨ר יוּסַ֥ר חֵֽלֶב הַכֶּשֶׂב֮ מִזֶּ֣בַח הַשְּׁלָמִים֒ וְהִקְטִ֨יר הַכֹּהֵ֤ן אֹתָם֙ הַמִּזְבֵּ֔חָה עַ֖ל אִשֵּׁ֣י יְהוָ֑ה וְכִפֶּ֨ר עָלָ֧יו הַכֹּהֵ֛ן עַל חַטָּאת֥וֹ אֲשֶׁר חָטָ֖א וְנִסְלַ֥ח לֽוֹ",
         "2": "And all its fat he shall remove as the fat of the lamb is removed from the sacrifice of peace offerings, and the priest shall burn it on the altar, on top of the LORD's food offerings. And the priest shall make atonement for him for the sin which he has committed, and he shall be forgiven."
        },
        {
         "0": "Leviticus 5:6",
         "1": "וְהֵבִ֣יא אֶת אֲשָׁמ֣וֹ לַיהוָ֡ה עַ֣ל חַטָּאתוֹ֩ אֲשֶׁ֨ר חָטָ֜א נְקֵבָ֨ה מִן הַצֹּ֥אן כִּשְׂבָּ֛ה אֽוֹ שְׂעִירַ֥ת עִזִּ֖ים לְחַטָּ֑את וְכִפֶּ֥ר עָלָ֛יו הַכֹּהֵ֖ן מֵחַטָּאתֽוֹ",
         "2": "he shall bring to the LORD as his compensation for the sin that he has committed, a female from the flock, a lamb or a goat, for a sin offering. And the priest shall make atonement for him for his sin."
        },
        {
         "0": "Leviticus 5:18",
         "1": "וְ֠הֵבִיא אַ֣יִל תָּמִ֧ים מִן הַצֹּ֛אן בְּעֶרְכְּךָ֥ לְאָשָׁ֖ם אֶל הַכֹּהֵ֑ן וְכִפֶּר֩ עָלָ֨יו הַכֹּהֵ֜ן עַ֣ל שִׁגְגָת֧וֹ אֲשֶׁר שָׁגָ֛ג וְה֥וּא לֹֽא יָדַ֖ע וְנִסְלַ֥ח לֽוֹ",
         "2": "He shall bring to the priest a ram without blemish out of the flock, or its equivalent for a guilt offering, and the priest shall make atonement for him for the mistake that he made unintentionally, and he shall be forgiven."
        },
        {
         "0": "Leviticus 10:17",
         "1": "מַדּ֗וּעַ לֹֽא אֲכַלְתֶּ֤ם אֶת הַֽחַטָּאת֙ בִּמְק֣וֹם הַקֹּ֔דֶשׁ כִּ֛י קֹ֥דֶשׁ קָֽדָשִׁ֖ים הִ֑וא וְאֹתָ֣הּ נָתַ֣ן לָכֶ֗ם לָשֵׂאת֙ אֶת עֲוֺ֣ן הָעֵדָ֔ה לְכַפֵּ֥ר עֲלֵיהֶ֖ם לִפְנֵ֥י יְהוָֽה",
         "2": "“Why have you not eaten the sin offering in the place of the sanctuary, since it is a thing most holy and has been given to you that you may bear the iniquity of the congregation, to make atonement for them before the LORD?"
        },
        {
         "0": "Leviticus 12:8",
         "1": "וְאִם לֹ֨א תִמְצָ֣א יָדָהּ֮ דֵּ֣י שֶׂה֒ וְלָקְחָ֣ה שְׁתֵּֽי תֹרִ֗ים א֤וֹ שְׁנֵי֙ בְּנֵ֣י יוֹנָ֔ה אֶחָ֥ד לְעֹלָ֖ה וְאֶחָ֣ד לְחַטָּ֑את וְכִפֶּ֥ר עָלֶ֛יהָ הַכֹּהֵ֖ן וְטָהֵֽרָה",
         "2": "And if she cannot afford a lamb, then she shall take two turtledoves or two pigeons, one for a burnt offering and the other for a sin offering. And the priest shall make atonement for her, and she shall be clean.”"
        },
        {
         "0": "Leviticus 16:2",
         "1": "וַיֹּ֨אמֶר יְהוָ֜ה אֶל מֹשֶׁ֗ה דַּבֵּר֮ אֶל אַהֲרֹ֣ן אָחִיךָ֒ וְאַל יָבֹ֤א בְכָל עֵת֙ אֶל הַקֹּ֔דֶשׁ מִבֵּ֖ית לַפָּרֹ֑כֶת אֶל פְּנֵ֨י הַכַּפֹּ֜רֶת אֲשֶׁ֤ר עַל הָאָרֹן֙ וְלֹ֣א יָמ֔וּת כִּ֚י בֶּֽעָנָ֔ן אֵרָאֶ֖ה עַל הַכַּפֹּֽרֶת",
         "2": "and the LORD said to Moses, “Tell Aaron your brother not to come at any time into the Holy Place inside the veil, before the mercy seat that is on the ark, so that he may not die. For I will appear in the cloud over the mercy seat."
        },
        {
         "0": "Leviticus 16:24",
         "1": "וְרָחַ֨ץ אֶת בְּשָׂר֤וֹ בַמַּ֨יִם֙ בְּמָק֣וֹם קָד֔וֹשׁ וְלָבַ֖שׁ אֶת בְּגָדָ֑יו וְיָצָ֗א וְעָשָׂ֤ה אֶת עֹֽלָתוֹ֙ וְאֶת עֹלַ֣ת הָעָ֔ם וְכִפֶּ֥ר בַּעֲד֖וֹ וּבְעַ֥ד הָעָֽם",
         "2": "And he shall bathe his body in water in a holy place and put on his garments and come out and offer his burnt offering and the burnt offering of the people and make atonement for himself and for the people."
        },
        {
         "0": "Leviticus 16:33",
         "1": "וְכִפֶּר֙ אֶת מִקְדַּ֣שׁ הַקֹּ֔דֶשׁ וְאֶת אֹ֧הֶל מוֹעֵ֛ד וְאֶת הַמִּזְבֵּ֖חַ יְכַפֵּ֑ר וְעַ֧ל הַכֹּהֲנִ֛ים וְעַל כָּל עַ֥ם הַקָּהָ֖ל יְכַפֵּֽר",
         "2": "He shall make atonement for the holy sanctuary, and he shall make atonement for the tent of meeting and for the altar, and he shall make atonement for the priests and for all the people of the assembly."
        },
        {
         "0": "Leviticus 23:28",
         "1": "וְכָל מְלָאכָה֙ לֹ֣א תַעֲשׂ֔וּ בְּעֶ֖צֶם הַיּ֣וֹם הַזֶּ֑ה כִּ֣י י֤וֹם כִּפֻּרִים֙ ה֔וּא לְכַפֵּ֣ר עֲלֵיכֶ֔ם לִפְנֵ֖י יְהוָ֥ה אֱלֹהֵיכֶֽם",
         "2": "And you shall not do any work on that very day, for it is a Day of Atonement, to make atonement for you before the LORD your God."
        },
        {
         "0": "Numbers 5:8",
         "1": "וְאִם אֵ֨ין לָאִ֜ישׁ גֹּאֵ֗ל לְהָשִׁ֤יב הָאָשָׁם֙ אֵלָ֔יו הָאָשָׁ֛ם הַמּוּשָׁ֥ב לַיהוָ֖ה לַכֹּהֵ֑ן מִלְּבַ֗ד אֵ֚יל הַכִּפֻּרִ֔ים אֲשֶׁ֥ר יְכַפֶּר בּ֖וֹ עָלָֽיו",
         "2": "But if the man has no next of kin to whom restitution may be made for the wrong, the restitution for wrong shall go to the LORD for the priest, in addition to the ram of atonement with which atonement is made for him."
        },
        {
         "0": "Numbers 8:12",
         "1": "וְהַלְוִיִּם֙ יִסְמְכ֣וּ אֶת יְדֵיהֶ֔ם עַ֖ל רֹ֣אשׁ הַפָּרִ֑ים וַ֠עֲשֵׂה אֶת הָאֶחָ֨ד חַטָּ֜את וְאֶת הָאֶחָ֤ד עֹלָה֙ לַֽיהוָ֔ה לְכַפֵּ֖ר עַל הַלְוִיִּֽם",
         "2": "Then the Levites shall lay their hands on the heads of the bulls, and you shall offer the one for a sin offering and the other for a burnt offering to the LORD to make atonement for the Levites."
        },
        {
         "0": "Numbers 8:19",
         "1": "וָאֶתְּנָ֨ה אֶת הַלְוִיִּ֜ם נְתֻנִ֣ים לְאַהֲרֹ֣ן וּלְבָנָ֗יו מִתּוֹךְ֮ בְּנֵ֣י יִשְׂרָאֵל֒ לַעֲבֹ֞ד אֶת עֲבֹדַ֤ת בְּנֵֽי יִשְׂרָאֵל֙ בְּאֹ֣הֶל מוֹעֵ֔ד וּלְכַפֵּ֖ר עַל בְּנֵ֣י יִשְׂרָאֵ֑ל וְלֹ֨א יִהְיֶ֜ה בִּבְנֵ֤י יִשְׂרָאֵל֙ נֶ֔גֶף בְּגֶ֥שֶׁת בְּנֵֽי יִשְׂרָאֵ֖ל אֶל הַקֹּֽדֶשׁ",
         "2": "And I have given the Levites as a gift to Aaron and his sons from among the people of Israel, to do the service for the people of Israel at the tent of meeting and to make atonement for the people of Israel, that there may be no plague among the people of Israel when the people of Israel come near the sanctuary.”"
        },
        {
         "0": "Numbers 8:21",
         "1": "וַיִּֽתְחַטְּא֣וּ הַלְוִיִּ֗ם וַֽיְכַבְּסוּ֙ בִּגְדֵיהֶ֔ם וַיָּ֨נֶף אַהֲרֹ֥ן אֹתָ֛ם תְּנוּפָ֖ה לִפְנֵ֣י יְהוָ֑ה וַיְכַפֵּ֧ר עֲלֵיהֶ֛ם אַהֲרֹ֖ן לְטַהֲרָֽם",
         "2": "And the Levites purified themselves from sin and washed their clothes, and Aaron offered them as a wave offering before the LORD, and Aaron made atonement for them to cleanse them."
        },
        {
         "0": "Numbers 17:11",
         "1": "וַיֹּ֨אמֶר מֹשֶׁ֜ה אֶֽל אַהֲרֹ֗ן קַ֣ח אֶת הַ֠מַּחְתָּה וְתֶן עָלֶ֨יהָ אֵ֜שׁ מֵעַ֤ל הַמִּזְבֵּ֨חַ֙ וְשִׂ֣ים קְטֹ֔רֶת וְהוֹלֵ֧ךְ מְהֵרָ֛ה אֶל הָעֵדָ֖ה וְכַפֵּ֣ר עֲלֵיהֶ֑ם כִּֽי יָצָ֥א הַקֶּ֛צֶף מִלִּפְנֵ֥י יְהוָ֖ה הֵחֵ֥ל הַנָּֽגֶף",
         "2": "And Moses said to Aaron, “Take your censer, and put fire on it from off the altar and lay incense on it and carry it quickly to the congregation and make atonement for them, for wrath has gone out from the LORD; the plague has begun.”"
        },
        {
         "0": "Numbers 28:30",
         "1": "שְׂעִ֥יר עִזִּ֖ים אֶחָ֑ד לְכַפֵּ֖ר עֲלֵיכֶֽם",
         "2": "with one male goat, to make atonement for you."
        },
        {
         "0": "Numbers 29:5",
         "1": "וּשְׂעִיר עִזִּ֥ים אֶחָ֖ד חַטָּ֑את לְכַפֵּ֖ר עֲלֵיכֶֽם",
         "2": "with one male goat for a sin offering, to make atonement for you;"
        },
        {
         "0": "Numbers 29:11",
         "1": "שְׂעִיר עִזִּ֥ים אֶחָ֖ד חַטָּ֑את מִלְּבַ֞ד חַטַּ֤את הַכִּפֻּרִים֙ וְעֹלַ֣ת הַתָּמִ֔יד וּמִנְחָתָ֖הּ וְנִסְכֵּיהֶֽם",
         "2": "also one male goat for a sin offering, besides the sin offering of atonement, and the regular burnt offering and its grain offering, and their drink offerings."
        },
        {
         "0": "Deuteronomy 32:43",
         "1": "הַרְנִ֤ינוּ גוֹיִם֙ עַמּ֔וֹ כִּ֥י דַם עֲבָדָ֖יו יִקּ֑וֹם וְנָקָם֙ יָשִׁ֣יב לְצָרָ֔יו וְכִפֶּ֥ר אַדְמָת֖וֹ עַמּֽוֹ",
         "2": "“Rejoice with him, O heavens; bow down to him, all gods, for he avenges the blood of his children and takes vengeance on his adversaries. He repays those who hate him and cleanses his people's land.”"
        },
        {
         "0": "1 Samuel 6:18",
         "1": "וְעַכְבְּרֵ֣י הַזָּהָ֗ב מִסְפַּ֞ר כָּל עָרֵ֤י פְלִשְׁתִּים֙ לַחֲמֵ֣שֶׁת הַסְּרָנִ֔ים מֵעִ֣יר מִבְצָ֔ר וְעַ֖ד כֹּ֣פֶר הַפְּרָזִ֑י וְעַ֣ד אָבֵ֣ל הַגְּדוֹלָ֗ה אֲשֶׁ֨ר הִנִּ֤יחוּ עָלֶ֨יהָ֙ אֵ֚ת אֲר֣וֹן יְהוָ֔ה עַ֚ד הַיּ֣וֹם הַזֶּ֔ה בִּשְׂדֵ֥ה יְהוֹשֻׁ֖עַ בֵּֽית הַשִּׁמְשִֽׁי",
         "2": "and the golden mice, according to the number of all the cities of the Philistines belonging to the five lords, both fortified cities and unwalled villages. The great stone beside which they set down the ark of the LORD is a witness to this day in the field of Joshua of Beth-shemesh."
        },
        {
         "0": "2 Samuel 5:20",
         "1": "וַיָּבֹ֨א דָוִ֥ד בְּבַֽעַל פְּרָצִים֮ וַיַּכֵּ֣ם שָׁ֣ם דָּוִד֒ וַיֹּ֕אמֶר פָּרַ֨ץ יְהוָ֧ה אֶת אֹיְבַ֛י לְפָנַ֖י כְּפֶ֣רֶץ מָ֑יִם עַל כֵּ֗ן קָרָ֛א שֵֽׁם הַמָּק֥וֹם הַה֖וּא בַּ֥עַל פְּרָצִֽים",
         "2": "And David came to Baal-perazim, and David defeated them there. And he said, “The LORD has broken through my enemies before me like a breaking flood.” Therefore the name of that place is called Baal-perazim."
        },
        {
         "0": "2 Samuel 21:3",
         "1": "וַיֹּ֤אמֶר דָּוִד֙ אֶל הַגִּבְעֹנִ֔ים מָ֥ה אֶעֱשֶׂ֖ה לָכֶ֑ם וּבַמָּ֣ה אֲכַפֵּ֔ר וּבָרְכ֖וּ אֶת נַחֲלַ֥ת יְהוָֽה",
         "2": "And David said to the Gibeonites, “What shall I do for you? And how shall I make atonement, that you may bless the heritage of the LORD?”"
        },
        {
         "0": "1 Chronicles 6:34",
         "1": "וְֽאַהֲרֹ֨ן וּבָנָ֜יו מַקְטִירִ֨ים עַל מִזְבַּ֤ח הָֽעוֹלָה֙ וְעַל מִזְבַּ֣ח הַקְּטֹ֔רֶת לְכֹ֕ל מְלֶ֖אכֶת קֹ֣דֶשׁ הַקֳּדָשִׁ֑ים וּלְכַפֵּר֙ עַל יִשְׂרָאֵ֔ל כְּכֹל֙ אֲשֶׁ֣ר צִוָּ֔ה מֹשֶׁ֖ה עֶ֥בֶד הָאֱלֹהִֽים",
         "2": "But Aaron and his sons made offerings on the altar of burnt offering and on the altar of incense for all the work of the Most Holy Place, and to make atonement for Israel, according to all that Moses the servant of God had commanded."
        },
        {
         "0": "1 Chronicles 14:11",
         "1": "וַיַּעֲל֥וּ בְּבַֽעַל פְּרָצִים֮ וַיַּכֵּ֣ם שָׁ֣ם דָּוִיד֒ וַיֹּ֣אמֶר דָּוִ֔יד פָּרַ֨ץ הָֽאֱלֹהִ֧ים אֶת אוֹיְבַ֛י בְּיָדִ֖י כְּפֶ֣רֶץ מָ֑יִם עַל כֵּ֗ן קָֽרְא֛וּ שֵֽׁם הַמָּק֥וֹם הַה֖וּא בַּ֥עַל פְּרָצִֽים",
         "2": "And he went up to Baal-perazim, and David struck them down there. And David said, “God has broken through my enemies by my hand, like a bursting flood.” Therefore the name of that place is called Baal-perazim."
        },
        {
         "0": "1 Chronicles 27:25",
         "1": "וְעַל֙ אֹצְר֣וֹת הַמֶּ֔לֶךְ עַזְמָ֖וֶת בֶּן עֲדִיאֵ֑ל וְעַ֣ל הָֽאֹצָר֡וֹת בַּשָּׂדֶ֞ה בֶּעָרִ֤ים וּבַכְּפָרִים֙ וּבַמִּגְדָּל֔וֹת יְהוֹנָתָ֖ן בֶּן עֻזִּיָּֽהוּ",
         "2": "Over the king's treasuries was Azmaveth the son of Adiel; and over the treasuries in the country, in the cities, in the villages, and in the towers, was Jonathan the son of Uzziah;"
        },
        {
         "0": "1 Chronicles 28:11",
         "1": "וַיִּתֵּ֣ן דָּוִ֣יד לִשְׁלֹמֹ֣ה בְנ֡וֹ אֶת תַּבְנִ֣ית הָאוּלָם֩ וְֽאֶת בָּ֨תָּ֜יו וְגַנְזַכָּ֧יו וַעֲלִיֹּתָ֛יו וַחֲדָרָ֥יו הַפְּנִימִ֖ים וּבֵ֥ית הַכַּפֹּֽרֶת",
         "2": "Then David gave Solomon his son the plan of the vestibule of the temple, and of its houses, its treasuries, its upper rooms, and its inner chambers, and of the room for the mercy seat;"
        },
        {
         "0": "2 Chronicles 29:24",
         "1": "וַיִּשְׁחָטוּם֙ הַכֹּ֣הֲנִ֔ים וַֽיְחַטְּא֤וּ אֶת דָּמָם֙ הַמִּזְבֵּ֔חָה לְכַפֵּ֖ר עַל כָּל יִשְׂרָאֵ֑ל כִּ֤י לְכָל יִשְׂרָאֵל֙ אָמַ֣ר הַמֶּ֔לֶךְ הָעוֹלָ֖ה וְהַחַטָּֽאת",
         "2": "and the priests slaughtered them and made a sin offering with their blood on the altar, to make atonement for all Israel. For the king commanded that the burnt offering and the sin offering should be made for all Israel."
        },
        {
         "0": "2 Chronicles 30:18",
         "1": "כִּ֣י מַרְבִּ֣ית הָעָ֡ם רַ֠בַּת מֵֽאֶפְרַ֨יִם וּמְנַשֶּׁ֜ה יִשָּׂשכָ֤ר וּזְבֻלוּן֙ לֹ֣א הִטֶּהָ֔רוּ כִּֽי אָכְל֥וּ אֶת הַפֶּ֖סַח בְּלֹ֣א כַכָּת֑וּב כִּי֩ הִתְפַּלֵּ֨ל יְחִזְקִיָּ֤הוּ עֲלֵיהֶם֙ לֵאמֹ֔ר יְהוָ֥ה הַטּ֖וֹב יְכַפֵּ֥ר בְּעַֽד",
         "2": "For a majority of the people, many of them from Ephraim, Manasseh, Issachar, and Zebulun, had not cleansed themselves, yet they ate the Passover otherwise than as prescribed. For Hezekiah had prayed for them, saying, “May the good LORD pardon everyone"
        },
        {
         "0": "Nehemiah 10:34",
         "1": "לְלֶ֣חֶם הַֽמַּעֲרֶ֡כֶת וּמִנְחַ֣ת הַתָּמִ֣יד וּלְעוֹלַ֣ת הַ֠תָּמִיד הַשַּׁבָּת֨וֹת הֶחֳדָשִׁ֜ים לַמּוֹעֲדִ֗ים וְלַקֳּדָשִׁים֙ וְלַ֣חַטָּא֔וֹת לְכַפֵּ֖ר עַל יִשְׂרָאֵ֑ל וְכֹ֖ל מְלֶ֥אכֶת בֵּית אֱלֹהֵֽינוּ",
         "2": "for the showbread, the regular grain offering, the regular burnt offering, the Sabbaths, the new moons, the appointed feasts, the holy things, and the sin offerings to make atonement for Israel, and for all the work of the house of our God."
        },
        {
         "0": "Psalms 49:8",
         "1": "אָ֗ח לֹא פָדֹ֣ה יִפְדֶּ֣ה אִ֑ישׁ לֹא יִתֵּ֖ן לֵאלֹהִ֣ים כָּפְרֽוֹ",
         "2": "Truly no man can ransom another, or give to God the price of his life,"
        },
        {
         "0": "Solomon 4:13",
         "1": "שְׁלָחַ֨יִךְ֙ פַּרְדֵּ֣ס רִמּוֹנִ֔ים עִ֖ם פְּרִ֣י מְגָדִ֑ים כְּפָרִ֖ים עִם נְרָדִֽים",
         "2": "Your shoots are an orchard of pomegranates with all choicest fruits, henna with nard,"
        },
        {
         "0": "Ezekiel 43:26",
         "1": "שִׁבְעַ֣ת יָמִ֗ים יְכַפְּרוּ֙ אֶת הַמִּזְבֵּ֔חַ וְטִֽהֲר֖וּ אֹת֑וֹ וּמִלְא֖וּ ידו יָדָֽיו",
         "2": "Seven days shall they make atonement for the altar and cleanse it, and so consecrate it."
        },
        {
         "0": "Ezekiel 45:15",
         "1": "וְשֶׂה אַחַ֨ת מִן הַצֹּ֤אן מִן הַמָּאתַ֨יִם֙ מִמַּשְׁקֵ֣ה יִשְׂרָאֵ֔ל לְמִנְחָ֖ה וּלְעוֹלָ֣ה וְלִשְׁלָמִ֑ים לְכַפֵּ֣ר עֲלֵיהֶ֔ם נְאֻ֖ם אֲדֹנָ֥י יְהוִֽה",
         "2": "And one sheep from every flock of two hundred, from the watering places of Israel for grain offering, burnt offering, and peace offerings, to make atonement for them, declares the Lord GOD."
        },
        {
         "0": "Ezekiel 45:17",
         "1": "וְעַֽל הַנָּשִׂ֣יא יִהְיֶ֗ה הָעוֹל֣וֹת וְהַמִּנְחָה֮ וְהַנֵּסֶךְ֒ בַּחַגִּ֤ים וּבֶחֳדָשִׁים֙ וּבַשַּׁבָּת֔וֹת בְּכָֽל מוֹעֲדֵ֖י בֵּ֣ית יִשְׂרָאֵ֑ל הֽוּא יַעֲשֶׂ֞ה אֶת הַחַטָּ֣את וְאֶת הַמִּנְחָ֗ה וְאֶת הָֽעוֹלָה֙ וְאֶת הַשְּׁלָמִ֔ים לְכַפֵּ֖ר בְּעַ֥ד בֵּֽית יִשְׂרָאֵֽל",
         "2": "It shall be the prince's duty to furnish the burnt offerings, grain offerings, and drink offerings, at the feasts, the new moons, and the Sabbaths, all the appointed feasts of the house of Israel: he shall provide the sin offerings, grain offerings, burnt offerings, and peace offerings, to make atonement on behalf of the house of Israel."
        },
        {
         "0": "Daniel 9:24",
         "1": "שָׁבֻעִ֨ים שִׁבְעִ֜ים נֶחְתַּ֥ךְ עַֽל עַמְּךָ֣ וְעַל עִ֣יר קָדְשֶׁ֗ךָ לְכַלֵּ֨א הַפֶּ֜שַׁע ולחתם וּלְהָתֵ֤ם חטאות חַטָּאת֙ וּלְכַפֵּ֣ר עָוֺ֔ן וּלְהָבִ֖יא צֶ֣דֶק עֹֽלָמִ֑ים וְלַחְתֹּם֙ חָז֣וֹן וְנָבִ֔יא וְלִמְשֹׁ֖חַ קֹ֥דֶשׁ קָֽדָשִֽׁים",
         "2": "“Seventy weeks are decreed about your people and your holy city, to finish the transgression, to put an end to sin, and to atone for iniquity, to bring in everlasting righteousness, to seal both vision and prophet, and to anoint a most holy place."
        },
        {
         "0": "Joel 2:4",
         "1": "כְּמַרְאֵ֥ה סוּסִ֖ים מַרְאֵ֑הוּ וּכְפָרָשִׁ֖ים כֵּ֥ן יְרוּצֽוּן",
         "2": "Their appearance is like the appearance of horses, and like war horses they run."
        },
        {
         "0": "Amos 5:12",
         "1": "כִּ֤י יָדַ֨עְתִּי֙ רַבִּ֣ים פִּשְׁעֵיכֶ֔ם וַעֲצֻמִ֖ים חַטֹּֽאתֵיכֶ֑ם צֹרְרֵ֤י צַדִּיק֙ לֹ֣קְחֵי כֹ֔פֶר וְאֶבְיוֹנִ֖ים בַּשַּׁ֥עַר הִטּֽוּ",
         "2": "For I know how many are your transgressions and how great are your sins— you who afflict the righteous, who take a bribe, and turn aside the needy in the gate."
        }
       ],
       "schema": {
        "fields": [
         {
          "name": "ref"
         },
         {
          "name": "heb"
         },
         {
          "name": "eng"
         }
        ]
       }
      },
      "text/html": [
       "<table><tr><th>ref</th><th>heb</th><th>eng</th></tr><tr><td>Genesis 6:14</td><td>עֲשֵׂ֤ה לְךָ֙ תֵּבַ֣ת עֲצֵי גֹ֔פֶר קִנִּ֖ים תַּֽעֲשֶׂ֣ה אֶת הַתֵּבָ֑ה וְכָֽפַרְתָּ֥ אֹתָ֛הּ מִבַּ֥יִת וּמִח֖וּץ בַּכֹּֽפֶר</td><td>Make yourself an ark of gopher wood. Make rooms in the ark, and cover it inside and out with pitch.</td></tr><tr><td>Exodus 25:18</td><td>וְעָשִׂ֛יתָ שְׁנַ֥יִם כְּרֻבִ֖ים זָהָ֑ב מִקְשָׁה֙ תַּעֲשֶׂ֣ה אֹתָ֔ם מִשְּׁנֵ֖י קְצ֥וֹת הַכַּפֹּֽרֶת</td><td>And you shall make two cherubim of gold; of hammered work shall you make them, on the two ends of the mercy seat.</td></tr><tr><td>Exodus 25:20</td><td>וְהָי֣וּ הַכְּרֻבִים֩ פֹּרְשֵׂ֨י כְנָפַ֜יִם לְמַ֗עְלָה סֹכְכִ֤ים בְּכַנְפֵיהֶם֙ עַל הַכַּפֹּ֔רֶת וּפְנֵיהֶ֖ם אִ֣ישׁ אֶל אָחִ֑יו אֶל הַכַּפֹּ֔רֶת יִהְי֖וּ פְּנֵ֥י הַכְּרֻבִֽים</td><td>The cherubim shall spread out their wings above, overshadowing the mercy seat with their wings, their faces one to another; toward the mercy seat shall the faces of the cherubim be.</td></tr><tr><td>Exodus 29:36</td><td>וּפַ֨ר חַטָּ֜את תַּעֲשֶׂ֤ה לַיּוֹם֙ עַל הַכִּפֻּרִ֔ים וְחִטֵּאתָ֙ עַל הַמִּזְבֵּ֔חַ בְּכַפֶּרְךָ֖ עָלָ֑יו וּמָֽשַׁחְתָּ֥ אֹת֖וֹ לְקַדְּשֽׁוֹ</td><td>and every day you shall offer a bull as a sin offering for atonement. Also you shall purify the altar, when you make atonement for it, and shall anoint it to consecrate it.</td></tr><tr><td>Exodus 29:37</td><td>שִׁבְעַ֣ת יָמִ֗ים תְּכַפֵּר֙ עַל הַמִּזְבֵּ֔חַ וְקִדַּשְׁתָּ֖ אֹת֑וֹ וְהָיָ֤ה הַמִּזְבֵּ֨חַ֙ קֹ֣דֶשׁ קָֽדָשִׁ֔ים כָּל הַנֹּגֵ֥עַ בַּמִּזְבֵּ֖חַ יִקְדָּֽשׁ</td><td>Seven days you shall make atonement for the altar and consecrate it, and the altar shall be most holy. Whatever touches the altar shall become holy.</td></tr><tr><td>Exodus 30:10</td><td>וְכִפֶּ֤ר אַהֲרֹן֙ עַל קַרְנֹתָ֔יו אַחַ֖ת בַּשָּׁנָ֑ה מִדַּ֞ם חַטַּ֣את הַכִּפֻּרִ֗ים אַחַ֤ת בַּשָּׁנָה֙ יְכַפֵּ֤ר עָלָיו֙ לְדֹרֹ֣תֵיכֶ֔ם קֹֽדֶשׁ קָֽדָשִׁ֥ים ה֖וּא לַיהוָֽה</td><td>Aaron shall make atonement on its horns once a year. With the blood of the sin offering of atonement he shall make atonement for it once in the year throughout your generations. It is most holy to the LORD.”</td></tr><tr><td>Exodus 30:15</td><td>הֶֽעָשִׁ֣יר לֹֽא יַרְבֶּ֗ה וְהַדַּל֙ לֹ֣א יַמְעִ֔יט מִֽמַּחֲצִ֖ית הַשָּׁ֑קֶל לָתֵת֙ אֶת תְּרוּמַ֣ת יְהוָ֔ה לְכַפֵּ֖ר עַל נַפְשֹׁתֵיכֶֽם</td><td>The rich shall not give more, and the poor shall not give less, than the half shekel, when you give the LORD's offering to make atonement for your lives.</td></tr><tr><td>Exodus 30:16</td><td>וְלָקַחְתָּ֞ אֶת כֶּ֣סֶף הַכִּפֻּרִ֗ים מֵאֵת֙ בְּנֵ֣י יִשְׂרָאֵ֔ל וְנָתַתָּ֣ אֹת֔וֹ עַל עֲבֹדַ֖ת אֹ֣הֶל מוֹעֵ֑ד וְהָיָה֩ לִבְנֵ֨י יִשְׂרָאֵ֤ל לְזִכָּרוֹן֙ לִפְנֵ֣י יְהוָ֔ה לְכַפֵּ֖ר עַל נַפְשֹׁתֵיכֶֽם</td><td>You shall take the atonement money from the people of Israel and shall give it for the service of the tent of meeting, that it may bring the people of Israel to remembrance before the LORD, so as to make atonement for your lives.”</td></tr><tr><td>Exodus 37:7</td><td>וַיַּ֛עַשׂ שְׁנֵ֥י כְרֻבִ֖ים זָהָ֑ב מִקְשָׁה֙ עָשָׂ֣ה אֹתָ֔ם מִשְּׁנֵ֖י קְצ֥וֹת הַכַּפֹּֽרֶת</td><td>And he made two cherubim of gold. He made them of hammered work on the two ends of the mercy seat,</td></tr><tr><td>Exodus 37:9</td><td>וַיִּהְי֣וּ הַכְּרֻבִים֩ פֹּרְשֵׂ֨י כְנָפַ֜יִם לְמַ֗עְלָה סֹֽכְכִ֤ים בְּכַנְפֵיהֶם֙ עַל הַכַּפֹּ֔רֶת וּפְנֵיהֶ֖ם אִ֣ישׁ אֶל אָחִ֑יו אֶל הַכַּפֹּ֔רֶת הָי֖וּ פְּנֵ֥י הַכְּרֻבִֽים</td><td>The cherubim spread out their wings above, overshadowing the mercy seat with their wings, with their faces one to another; toward the mercy seat were the faces of the cherubim.</td></tr><tr><td>Exodus 40:20</td><td>וַיִּקַּ֞ח וַיִּתֵּ֤ן אֶת הָעֵדֻת֙ אֶל הָ֣אָרֹ֔ן וַיָּ֥שֶׂם אֶת הַבַּדִּ֖ים עַל הָאָרֹ֑ן וַיִּתֵּ֧ן אֶת הַכַּפֹּ֛רֶת עַל הָאָרֹ֖ן מִלְמָֽעְלָה</td><td>He took the testimony and put it into the ark, and put the poles on the ark and set the mercy seat above on the ark.</td></tr><tr><td>Leviticus 4:26</td><td>וְאֶת כָּל חֶלְבּוֹ֙ יַקְטִ֣יר הַמִּזְבֵּ֔חָה כְּחֵ֖לֶב זֶ֣בַח הַשְּׁלָמִ֑ים וְכִפֶּ֨ר עָלָ֧יו הַכֹּהֵ֛ן מֵחַטָּאת֖וֹ וְנִסְלַ֥ח לֽוֹ</td><td>And all its fat he shall burn on the altar, like the fat of the sacrifice of peace offerings. So the priest shall make atonement for him for his sin, and he shall be forgiven.</td></tr><tr><td>Leviticus 4:31</td><td>וְאֶת כָּל חֶלְבָּ֣הּ יָסִ֗יר כַּאֲשֶׁ֨ר הוּסַ֣ר חֵלֶב֮ מֵעַ֣ל זֶ֣בַח הַשְּׁלָמִים֒ וְהִקְטִ֤יר הַכֹּהֵן֙ הַמִּזְבֵּ֔חָה לְרֵ֥יחַ נִיחֹ֖חַ לַיהוָ֑ה וְכִפֶּ֥ר עָלָ֛יו הַכֹּהֵ֖ן וְנִסְלַ֥ח לֽוֹ</td><td>And all its fat he shall remove, as the fat is removed from the peace offerings, and the priest shall burn it on the altar for a pleasing aroma to the LORD. And the priest shall make atonement for him, and he shall be forgiven.</td></tr><tr><td>Leviticus 4:35</td><td>וְאֶת כָּל חֶלְבָּ֣ה יָסִ֗יר כַּאֲשֶׁ֨ר יוּסַ֥ר חֵֽלֶב הַכֶּשֶׂב֮ מִזֶּ֣בַח הַשְּׁלָמִים֒ וְהִקְטִ֨יר הַכֹּהֵ֤ן אֹתָם֙ הַמִּזְבֵּ֔חָה עַ֖ל אִשֵּׁ֣י יְהוָ֑ה וְכִפֶּ֨ר עָלָ֧יו הַכֹּהֵ֛ן עַל חַטָּאת֥וֹ אֲשֶׁר חָטָ֖א וְנִסְלַ֥ח לֽוֹ</td><td>And all its fat he shall remove as the fat of the lamb is removed from the sacrifice of peace offerings, and the priest shall burn it on the altar, on top of the LORD's food offerings. And the priest shall make atonement for him for the sin which he has committed, and he shall be forgiven.</td></tr><tr><td>Leviticus 5:6</td><td>וְהֵבִ֣יא אֶת אֲשָׁמ֣וֹ לַיהוָ֡ה עַ֣ל חַטָּאתוֹ֩ אֲשֶׁ֨ר חָטָ֜א נְקֵבָ֨ה מִן הַצֹּ֥אן כִּשְׂבָּ֛ה אֽוֹ שְׂעִירַ֥ת עִזִּ֖ים לְחַטָּ֑את וְכִפֶּ֥ר עָלָ֛יו הַכֹּהֵ֖ן מֵחַטָּאתֽוֹ</td><td>he shall bring to the LORD as his compensation for the sin that he has committed, a female from the flock, a lamb or a goat, for a sin offering. And the priest shall make atonement for him for his sin.</td></tr><tr><td>Leviticus 5:18</td><td>וְ֠הֵבִיא אַ֣יִל תָּמִ֧ים מִן הַצֹּ֛אן בְּעֶרְכְּךָ֥ לְאָשָׁ֖ם אֶל הַכֹּהֵ֑ן וְכִפֶּר֩ עָלָ֨יו הַכֹּהֵ֜ן עַ֣ל שִׁגְגָת֧וֹ אֲשֶׁר שָׁגָ֛ג וְה֥וּא לֹֽא יָדַ֖ע וְנִסְלַ֥ח לֽוֹ</td><td>He shall bring to the priest a ram without blemish out of the flock, or its equivalent for a guilt offering, and the priest shall make atonement for him for the mistake that he made unintentionally, and he shall be forgiven.</td></tr><tr><td>Leviticus 10:17</td><td>מַדּ֗וּעַ לֹֽא אֲכַלְתֶּ֤ם אֶת הַֽחַטָּאת֙ בִּמְק֣וֹם הַקֹּ֔דֶשׁ כִּ֛י קֹ֥דֶשׁ קָֽדָשִׁ֖ים הִ֑וא וְאֹתָ֣הּ נָתַ֣ן לָכֶ֗ם לָשֵׂאת֙ אֶת עֲוֺ֣ן הָעֵדָ֔ה לְכַפֵּ֥ר עֲלֵיהֶ֖ם לִפְנֵ֥י יְהוָֽה</td><td>“Why have you not eaten the sin offering in the place of the sanctuary, since it is a thing most holy and has been given to you that you may bear the iniquity of the congregation, to make atonement for them before the LORD?</td></tr><tr><td>Leviticus 12:8</td><td>וְאִם לֹ֨א תִמְצָ֣א יָדָהּ֮ דֵּ֣י שֶׂה֒ וְלָקְחָ֣ה שְׁתֵּֽי תֹרִ֗ים א֤וֹ שְׁנֵי֙ בְּנֵ֣י יוֹנָ֔ה אֶחָ֥ד לְעֹלָ֖ה וְאֶחָ֣ד לְחַטָּ֑את וְכִפֶּ֥ר עָלֶ֛יהָ הַכֹּהֵ֖ן וְטָהֵֽרָה</td><td>And if she cannot afford a lamb, then she shall take two turtledoves or two pigeons, one for a burnt offering and the other for a sin offering. And the priest shall make atonement for her, and she shall be clean.”</td></tr><tr><td>Leviticus 16:2</td><td>וַיֹּ֨אמֶר יְהוָ֜ה אֶל מֹשֶׁ֗ה דַּבֵּר֮ אֶל אַהֲרֹ֣ן אָחִיךָ֒ וְאַל יָבֹ֤א בְכָל עֵת֙ אֶל הַקֹּ֔דֶשׁ מִבֵּ֖ית לַפָּרֹ֑כֶת אֶל פְּנֵ֨י הַכַּפֹּ֜רֶת אֲשֶׁ֤ר עַל הָאָרֹן֙ וְלֹ֣א יָמ֔וּת כִּ֚י בֶּֽעָנָ֔ן אֵרָאֶ֖ה עַל הַכַּפֹּֽרֶת</td><td>and the LORD said to Moses, “Tell Aaron your brother not to come at any time into the Holy Place inside the veil, before the mercy seat that is on the ark, so that he may not die. For I will appear in the cloud over the mercy seat.</td></tr><tr><td>Leviticus 16:24</td><td>וְרָחַ֨ץ אֶת בְּשָׂר֤וֹ בַמַּ֨יִם֙ בְּמָק֣וֹם קָד֔וֹשׁ וְלָבַ֖שׁ אֶת בְּגָדָ֑יו וְיָצָ֗א וְעָשָׂ֤ה אֶת עֹֽלָתוֹ֙ וְאֶת עֹלַ֣ת הָעָ֔ם וְכִפֶּ֥ר בַּעֲד֖וֹ וּבְעַ֥ד הָעָֽם</td><td>And he shall bathe his body in water in a holy place and put on his garments and come out and offer his burnt offering and the burnt offering of the people and make atonement for himself and for the people.</td></tr><tr><td>Leviticus 16:33</td><td>וְכִפֶּר֙ אֶת מִקְדַּ֣שׁ הַקֹּ֔דֶשׁ וְאֶת אֹ֧הֶל מוֹעֵ֛ד וְאֶת הַמִּזְבֵּ֖חַ יְכַפֵּ֑ר וְעַ֧ל הַכֹּהֲנִ֛ים וְעַל כָּל עַ֥ם הַקָּהָ֖ל יְכַפֵּֽר</td><td>He shall make atonement for the holy sanctuary, and he shall make atonement for the tent of meeting and for the altar, and he shall make atonement for the priests and for all the people of the assembly.</td></tr><tr><td>Leviticus 23:28</td><td>וְכָל מְלָאכָה֙ לֹ֣א תַעֲשׂ֔וּ בְּעֶ֖צֶם הַיּ֣וֹם הַזֶּ֑ה כִּ֣י י֤וֹם כִּפֻּרִים֙ ה֔וּא לְכַפֵּ֣ר עֲלֵיכֶ֔ם לִפְנֵ֖י יְהוָ֥ה אֱלֹהֵיכֶֽם</td><td>And you shall not do any work on that very day, for it is a Day of Atonement, to make atonement for you before the LORD your God.</td></tr><tr><td>Numbers 5:8</td><td>וְאִם אֵ֨ין לָאִ֜ישׁ גֹּאֵ֗ל לְהָשִׁ֤יב הָאָשָׁם֙ אֵלָ֔יו הָאָשָׁ֛ם הַמּוּשָׁ֥ב לַיהוָ֖ה לַכֹּהֵ֑ן מִלְּבַ֗ד אֵ֚יל הַכִּפֻּרִ֔ים אֲשֶׁ֥ר יְכַפֶּר בּ֖וֹ עָלָֽיו</td><td>But if the man has no next of kin to whom restitution may be made for the wrong, the restitution for wrong shall go to the LORD for the priest, in addition to the ram of atonement with which atonement is made for him.</td></tr><tr><td>Numbers 8:12</td><td>וְהַלְוִיִּם֙ יִסְמְכ֣וּ אֶת יְדֵיהֶ֔ם עַ֖ל רֹ֣אשׁ הַפָּרִ֑ים וַ֠עֲשֵׂה אֶת הָאֶחָ֨ד חַטָּ֜את וְאֶת הָאֶחָ֤ד עֹלָה֙ לַֽיהוָ֔ה לְכַפֵּ֖ר עַל הַלְוִיִּֽם</td><td>Then the Levites shall lay their hands on the heads of the bulls, and you shall offer the one for a sin offering and the other for a burnt offering to the LORD to make atonement for the Levites.</td></tr><tr><td>Numbers 8:19</td><td>וָאֶתְּנָ֨ה אֶת הַלְוִיִּ֜ם נְתֻנִ֣ים לְאַהֲרֹ֣ן וּלְבָנָ֗יו מִתּוֹךְ֮ בְּנֵ֣י יִשְׂרָאֵל֒ לַעֲבֹ֞ד אֶת עֲבֹדַ֤ת בְּנֵֽי יִשְׂרָאֵל֙ בְּאֹ֣הֶל מוֹעֵ֔ד וּלְכַפֵּ֖ר עַל בְּנֵ֣י יִשְׂרָאֵ֑ל וְלֹ֨א יִהְיֶ֜ה בִּבְנֵ֤י יִשְׂרָאֵל֙ נֶ֔גֶף בְּגֶ֥שֶׁת בְּנֵֽי יִשְׂרָאֵ֖ל אֶל הַקֹּֽדֶשׁ</td><td>And I have given the Levites as a gift to Aaron and his sons from among the people of Israel, to do the service for the people of Israel at the tent of meeting and to make atonement for the people of Israel, that there may be no plague among the people of Israel when the people of Israel come near the sanctuary.”</td></tr><tr><td>Numbers 8:21</td><td>וַיִּֽתְחַטְּא֣וּ הַלְוִיִּ֗ם וַֽיְכַבְּסוּ֙ בִּגְדֵיהֶ֔ם וַיָּ֨נֶף אַהֲרֹ֥ן אֹתָ֛ם תְּנוּפָ֖ה לִפְנֵ֣י יְהוָ֑ה וַיְכַפֵּ֧ר עֲלֵיהֶ֛ם אַהֲרֹ֖ן לְטַהֲרָֽם</td><td>And the Levites purified themselves from sin and washed their clothes, and Aaron offered them as a wave offering before the LORD, and Aaron made atonement for them to cleanse them.</td></tr><tr><td>Numbers 17:11</td><td>וַיֹּ֨אמֶר מֹשֶׁ֜ה אֶֽל אַהֲרֹ֗ן קַ֣ח אֶת הַ֠מַּחְתָּה וְתֶן עָלֶ֨יהָ אֵ֜שׁ מֵעַ֤ל הַמִּזְבֵּ֨חַ֙ וְשִׂ֣ים קְטֹ֔רֶת וְהוֹלֵ֧ךְ מְהֵרָ֛ה אֶל הָעֵדָ֖ה וְכַפֵּ֣ר עֲלֵיהֶ֑ם כִּֽי יָצָ֥א הַקֶּ֛צֶף מִלִּפְנֵ֥י יְהוָ֖ה הֵחֵ֥ל הַנָּֽגֶף</td><td>And Moses said to Aaron, “Take your censer, and put fire on it from off the altar and lay incense on it and carry it quickly to the congregation and make atonement for them, for wrath has gone out from the LORD; the plague has begun.”</td></tr><tr><td>Numbers 28:30</td><td>שְׂעִ֥יר עִזִּ֖ים אֶחָ֑ד לְכַפֵּ֖ר עֲלֵיכֶֽם</td><td>with one male goat, to make atonement for you.</td></tr><tr><td>Numbers 29:5</td><td>וּשְׂעִיר עִזִּ֥ים אֶחָ֖ד חַטָּ֑את לְכַפֵּ֖ר עֲלֵיכֶֽם</td><td>with one male goat for a sin offering, to make atonement for you;</td></tr><tr><td>Numbers 29:11</td><td>שְׂעִיר עִזִּ֥ים אֶחָ֖ד חַטָּ֑את מִלְּבַ֞ד חַטַּ֤את הַכִּפֻּרִים֙ וְעֹלַ֣ת הַתָּמִ֔יד וּמִנְחָתָ֖הּ וְנִסְכֵּיהֶֽם</td><td>also one male goat for a sin offering, besides the sin offering of atonement, and the regular burnt offering and its grain offering, and their drink offerings.</td></tr><tr><td>Deuteronomy 32:43</td><td>הַרְנִ֤ינוּ גוֹיִם֙ עַמּ֔וֹ כִּ֥י דַם עֲבָדָ֖יו יִקּ֑וֹם וְנָקָם֙ יָשִׁ֣יב לְצָרָ֔יו וְכִפֶּ֥ר אַדְמָת֖וֹ עַמּֽוֹ</td><td>“Rejoice with him, O heavens; bow down to him, all gods, for he avenges the blood of his children and takes vengeance on his adversaries. He repays those who hate him and cleanses his people's land.”</td></tr><tr><td>1 Samuel 6:18</td><td>וְעַכְבְּרֵ֣י הַזָּהָ֗ב מִסְפַּ֞ר כָּל עָרֵ֤י פְלִשְׁתִּים֙ לַחֲמֵ֣שֶׁת הַסְּרָנִ֔ים מֵעִ֣יר מִבְצָ֔ר וְעַ֖ד כֹּ֣פֶר הַפְּרָזִ֑י וְעַ֣ד אָבֵ֣ל הַגְּדוֹלָ֗ה אֲשֶׁ֨ר הִנִּ֤יחוּ עָלֶ֨יהָ֙ אֵ֚ת אֲר֣וֹן יְהוָ֔ה עַ֚ד הַיּ֣וֹם הַזֶּ֔ה בִּשְׂדֵ֥ה יְהוֹשֻׁ֖עַ בֵּֽית הַשִּׁמְשִֽׁי</td><td>and the golden mice, according to the number of all the cities of the Philistines belonging to the five lords, both fortified cities and unwalled villages. The great stone beside which they set down the ark of the LORD is a witness to this day in the field of Joshua of Beth-shemesh.</td></tr><tr><td>2 Samuel 5:20</td><td>וַיָּבֹ֨א דָוִ֥ד בְּבַֽעַל פְּרָצִים֮ וַיַּכֵּ֣ם שָׁ֣ם דָּוִד֒ וַיֹּ֕אמֶר פָּרַ֨ץ יְהוָ֧ה אֶת אֹיְבַ֛י לְפָנַ֖י כְּפֶ֣רֶץ מָ֑יִם עַל כֵּ֗ן קָרָ֛א שֵֽׁם הַמָּק֥וֹם הַה֖וּא בַּ֥עַל פְּרָצִֽים</td><td>And David came to Baal-perazim, and David defeated them there. And he said, “The LORD has broken through my enemies before me like a breaking flood.” Therefore the name of that place is called Baal-perazim.</td></tr><tr><td>2 Samuel 21:3</td><td>וַיֹּ֤אמֶר דָּוִד֙ אֶל הַגִּבְעֹנִ֔ים מָ֥ה אֶעֱשֶׂ֖ה לָכֶ֑ם וּבַמָּ֣ה אֲכַפֵּ֔ר וּבָרְכ֖וּ אֶת נַחֲלַ֥ת יְהוָֽה</td><td>And David said to the Gibeonites, “What shall I do for you? And how shall I make atonement, that you may bless the heritage of the LORD?”</td></tr><tr><td>1 Chronicles 6:34</td><td>וְֽאַהֲרֹ֨ן וּבָנָ֜יו מַקְטִירִ֨ים עַל מִזְבַּ֤ח הָֽעוֹלָה֙ וְעַל מִזְבַּ֣ח הַקְּטֹ֔רֶת לְכֹ֕ל מְלֶ֖אכֶת קֹ֣דֶשׁ הַקֳּדָשִׁ֑ים וּלְכַפֵּר֙ עַל יִשְׂרָאֵ֔ל כְּכֹל֙ אֲשֶׁ֣ר צִוָּ֔ה מֹשֶׁ֖ה עֶ֥בֶד הָאֱלֹהִֽים</td><td>But Aaron and his sons made offerings on the altar of burnt offering and on the altar of incense for all the work of the Most Holy Place, and to make atonement for Israel, according to all that Moses the servant of God had commanded.</td></tr><tr><td>1 Chronicles 14:11</td><td>וַיַּעֲל֥וּ בְּבַֽעַל פְּרָצִים֮ וַיַּכֵּ֣ם שָׁ֣ם דָּוִיד֒ וַיֹּ֣אמֶר דָּוִ֔יד פָּרַ֨ץ הָֽאֱלֹהִ֧ים אֶת אוֹיְבַ֛י בְּיָדִ֖י כְּפֶ֣רֶץ מָ֑יִם עַל כֵּ֗ן קָֽרְא֛וּ שֵֽׁם הַמָּק֥וֹם הַה֖וּא בַּ֥עַל פְּרָצִֽים</td><td>And he went up to Baal-perazim, and David struck them down there. And David said, “God has broken through my enemies by my hand, like a bursting flood.” Therefore the name of that place is called Baal-perazim.</td></tr><tr><td>1 Chronicles 27:25</td><td>וְעַל֙ אֹצְר֣וֹת הַמֶּ֔לֶךְ עַזְמָ֖וֶת בֶּן עֲדִיאֵ֑ל וְעַ֣ל הָֽאֹצָר֡וֹת בַּשָּׂדֶ֞ה בֶּעָרִ֤ים וּבַכְּפָרִים֙ וּבַמִּגְדָּל֔וֹת יְהוֹנָתָ֖ן בֶּן עֻזִּיָּֽהוּ</td><td>Over the king's treasuries was Azmaveth the son of Adiel; and over the treasuries in the country, in the cities, in the villages, and in the towers, was Jonathan the son of Uzziah;</td></tr><tr><td>1 Chronicles 28:11</td><td>וַיִּתֵּ֣ן דָּוִ֣יד לִשְׁלֹמֹ֣ה בְנ֡וֹ אֶת תַּבְנִ֣ית הָאוּלָם֩ וְֽאֶת בָּ֨תָּ֜יו וְגַנְזַכָּ֧יו וַעֲלִיֹּתָ֛יו וַחֲדָרָ֥יו הַפְּנִימִ֖ים וּבֵ֥ית הַכַּפֹּֽרֶת</td><td>Then David gave Solomon his son the plan of the vestibule of the temple, and of its houses, its treasuries, its upper rooms, and its inner chambers, and of the room for the mercy seat;</td></tr><tr><td>2 Chronicles 29:24</td><td>וַיִּשְׁחָטוּם֙ הַכֹּ֣הֲנִ֔ים וַֽיְחַטְּא֤וּ אֶת דָּמָם֙ הַמִּזְבֵּ֔חָה לְכַפֵּ֖ר עַל כָּל יִשְׂרָאֵ֑ל כִּ֤י לְכָל יִשְׂרָאֵל֙ אָמַ֣ר הַמֶּ֔לֶךְ הָעוֹלָ֖ה וְהַחַטָּֽאת</td><td>and the priests slaughtered them and made a sin offering with their blood on the altar, to make atonement for all Israel. For the king commanded that the burnt offering and the sin offering should be made for all Israel.</td></tr><tr><td>2 Chronicles 30:18</td><td>כִּ֣י מַרְבִּ֣ית הָעָ֡ם רַ֠בַּת מֵֽאֶפְרַ֨יִם וּמְנַשֶּׁ֜ה יִשָּׂשכָ֤ר וּזְבֻלוּן֙ לֹ֣א הִטֶּהָ֔רוּ כִּֽי אָכְל֥וּ אֶת הַפֶּ֖סַח בְּלֹ֣א כַכָּת֑וּב כִּי֩ הִתְפַּלֵּ֨ל יְחִזְקִיָּ֤הוּ עֲלֵיהֶם֙ לֵאמֹ֔ר יְהוָ֥ה הַטּ֖וֹב יְכַפֵּ֥ר בְּעַֽד</td><td>For a majority of the people, many of them from Ephraim, Manasseh, Issachar, and Zebulun, had not cleansed themselves, yet they ate the Passover otherwise than as prescribed. For Hezekiah had prayed for them, saying, “May the good LORD pardon everyone</td></tr><tr><td>Nehemiah 10:34</td><td>לְלֶ֣חֶם הַֽמַּעֲרֶ֡כֶת וּמִנְחַ֣ת הַתָּמִ֣יד וּלְעוֹלַ֣ת הַ֠תָּמִיד הַשַּׁבָּת֨וֹת הֶחֳדָשִׁ֜ים לַמּוֹעֲדִ֗ים וְלַקֳּדָשִׁים֙ וְלַ֣חַטָּא֔וֹת לְכַפֵּ֖ר עַל יִשְׂרָאֵ֑ל וְכֹ֖ל מְלֶ֥אכֶת בֵּית אֱלֹהֵֽינוּ</td><td>for the showbread, the regular grain offering, the regular burnt offering, the Sabbaths, the new moons, the appointed feasts, the holy things, and the sin offerings to make atonement for Israel, and for all the work of the house of our God.</td></tr><tr><td>Psalms 49:8</td><td>אָ֗ח לֹא פָדֹ֣ה יִפְדֶּ֣ה אִ֑ישׁ לֹא יִתֵּ֖ן לֵאלֹהִ֣ים כָּפְרֽוֹ</td><td>Truly no man can ransom another, or give to God the price of his life,</td></tr><tr><td>Solomon 4:13</td><td>שְׁלָחַ֨יִךְ֙ פַּרְדֵּ֣ס רִמּוֹנִ֔ים עִ֖ם פְּרִ֣י מְגָדִ֑ים כְּפָרִ֖ים עִם נְרָדִֽים</td><td>Your shoots are an orchard of pomegranates with all choicest fruits, henna with nard,</td></tr><tr><td>Ezekiel 43:26</td><td>שִׁבְעַ֣ת יָמִ֗ים יְכַפְּרוּ֙ אֶת הַמִּזְבֵּ֔חַ וְטִֽהֲר֖וּ אֹת֑וֹ וּמִלְא֖וּ ידו יָדָֽיו</td><td>Seven days shall they make atonement for the altar and cleanse it, and so consecrate it.</td></tr><tr><td>Ezekiel 45:15</td><td>וְשֶׂה אַחַ֨ת מִן הַצֹּ֤אן מִן הַמָּאתַ֨יִם֙ מִמַּשְׁקֵ֣ה יִשְׂרָאֵ֔ל לְמִנְחָ֖ה וּלְעוֹלָ֣ה וְלִשְׁלָמִ֑ים לְכַפֵּ֣ר עֲלֵיהֶ֔ם נְאֻ֖ם אֲדֹנָ֥י יְהוִֽה</td><td>And one sheep from every flock of two hundred, from the watering places of Israel for grain offering, burnt offering, and peace offerings, to make atonement for them, declares the Lord GOD.</td></tr><tr><td>Ezekiel 45:17</td><td>וְעַֽל הַנָּשִׂ֣יא יִהְיֶ֗ה הָעוֹל֣וֹת וְהַמִּנְחָה֮ וְהַנֵּסֶךְ֒ בַּחַגִּ֤ים וּבֶחֳדָשִׁים֙ וּבַשַּׁבָּת֔וֹת בְּכָֽל מוֹעֲדֵ֖י בֵּ֣ית יִשְׂרָאֵ֑ל הֽוּא יַעֲשֶׂ֞ה אֶת הַחַטָּ֣את וְאֶת הַמִּנְחָ֗ה וְאֶת הָֽעוֹלָה֙ וְאֶת הַשְּׁלָמִ֔ים לְכַפֵּ֖ר בְּעַ֥ד בֵּֽית יִשְׂרָאֵֽל</td><td>It shall be the prince's duty to furnish the burnt offerings, grain offerings, and drink offerings, at the feasts, the new moons, and the Sabbaths, all the appointed feasts of the house of Israel: he shall provide the sin offerings, grain offerings, burnt offerings, and peace offerings, to make atonement on behalf of the house of Israel.</td></tr><tr><td>Daniel 9:24</td><td>שָׁבֻעִ֨ים שִׁבְעִ֜ים נֶחְתַּ֥ךְ עַֽל עַמְּךָ֣ וְעַל עִ֣יר קָדְשֶׁ֗ךָ לְכַלֵּ֨א הַפֶּ֜שַׁע ולחתם וּלְהָתֵ֤ם חטאות חַטָּאת֙ וּלְכַפֵּ֣ר עָוֺ֔ן וּלְהָבִ֖יא צֶ֣דֶק עֹֽלָמִ֑ים וְלַחְתֹּם֙ חָז֣וֹן וְנָבִ֔יא וְלִמְשֹׁ֖חַ קֹ֥דֶשׁ קָֽדָשִֽׁים</td><td>“Seventy weeks are decreed about your people and your holy city, to finish the transgression, to put an end to sin, and to atone for iniquity, to bring in everlasting righteousness, to seal both vision and prophet, and to anoint a most holy place.</td></tr><tr><td>Joel 2:4</td><td>כְּמַרְאֵ֥ה סוּסִ֖ים מַרְאֵ֑הוּ וּכְפָרָשִׁ֖ים כֵּ֥ן יְרוּצֽוּן</td><td>Their appearance is like the appearance of horses, and like war horses they run.</td></tr><tr><td>Amos 5:12</td><td>כִּ֤י יָדַ֨עְתִּי֙ רַבִּ֣ים פִּשְׁעֵיכֶ֔ם וַעֲצֻמִ֖ים חַטֹּֽאתֵיכֶ֑ם צֹרְרֵ֤י צַדִּיק֙ לֹ֣קְחֵי כֹ֔פֶר וְאֶבְיוֹנִ֖ים בַּשַּׁ֥עַר הִטּֽוּ</td><td>For I know how many are your transgressions and how great are your sins— you who afflict the righteous, who take a bribe, and turn aside the needy in the gate.</td></tr></table>"
      ]
     },
     "execution_count": 17,
     "metadata": {},
     "output_type": "execute_result"
    }
   ],
   "source": [
    "SELECT\n",
    "    b.name + ' ' + CONVERT(VARCHAR, tv.c) + ':' + CONVERT(VARCHAR, tv.v) ref,\n",
    "    tv.content heb,\n",
    "    j.content eng\n",
    "FROM tv\n",
    "JOIN books b ON tv.b = b.bid\n",
    "JOIN tv j ON tv.b = j.b AND tv.c = j.c AND tv.v = j.v AND j.t = 97\n",
    "WHERE tv.t = 1\n",
    "AND tv.content LIKE N'%ים%כפר%' COLLATE Hebrew_CI_AI;"
   ]
  }
 ],
 "metadata": {
  "kernelspec": {
   "display_name": "SQL",
   "language": "sql",
   "name": "SQL"
  },
  "language_info": {
   "name": "sql",
   "version": ""
  }
 },
 "nbformat": 4,
 "nbformat_minor": 2
}
