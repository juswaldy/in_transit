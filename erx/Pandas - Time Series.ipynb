{
 "cells": [
  {
   "cell_type": "markdown",
   "metadata": {},
   "source": [
    "# Pandas - Time Series"
   ]
  },
  {
   "cell_type": "code",
   "execution_count": 1,
   "metadata": {
    "collapsed": true
   },
   "outputs": [],
   "source": [
    "import pandas as pd"
   ]
  },
  {
   "cell_type": "code",
   "execution_count": 11,
   "metadata": {},
   "outputs": [
    {
     "data": {
      "text/plain": [
       "DatetimeIndex(['2017-09-22', '2017-09-23', '2017-09-24'], dtype='datetime64[ns]', freq='D')"
      ]
     },
     "execution_count": 11,
     "metadata": {},
     "output_type": "execute_result"
    }
   ],
   "source": [
    "# 3 days starting on 22 Sep 2017 Rosh Hashanah 2.\n",
    "pd.date_range(start='2017-09-22', periods=3)"
   ]
  },
  {
   "cell_type": "code",
   "execution_count": 14,
   "metadata": {},
   "outputs": [
    {
     "data": {
      "text/plain": [
       "DatetimeIndex(['2017-08-22', '2017-08-23', '2017-08-24', '2017-08-25',\n",
       "               '2017-08-26', '2017-08-27', '2017-08-28', '2017-08-29',\n",
       "               '2017-08-30', '2017-08-31', '2017-09-01', '2017-09-02',\n",
       "               '2017-09-03', '2017-09-04', '2017-09-05', '2017-09-06',\n",
       "               '2017-09-07', '2017-09-08', '2017-09-09', '2017-09-10',\n",
       "               '2017-09-11', '2017-09-12', '2017-09-13', '2017-09-14',\n",
       "               '2017-09-15', '2017-09-16', '2017-09-17', '2017-09-18',\n",
       "               '2017-09-19', '2017-09-20', '2017-09-21', '2017-09-22',\n",
       "               '2017-09-23', '2017-09-24', '2017-09-25', '2017-09-26',\n",
       "               '2017-09-27', '2017-09-28', '2017-09-29', '2017-09-30'],\n",
       "              dtype='datetime64[ns]', freq='D')"
      ]
     },
     "execution_count": 14,
     "metadata": {},
     "output_type": "execute_result"
    }
   ],
   "source": [
    "# 40 days ending on 30 Sep 2017 Yom Kippur.\n",
    "pd.date_range(end='2017-09-30', periods=40)"
   ]
  },
  {
   "cell_type": "code",
   "execution_count": 22,
   "metadata": {},
   "outputs": [
    {
     "data": {
      "text/plain": [
       "DatetimeIndex(['2017-04-16', '2017-04-23', '2017-04-30', '2017-05-07',\n",
       "               '2017-05-14', '2017-05-21', '2017-05-28', '2017-06-04'],\n",
       "              dtype='datetime64[ns]', freq='W-SUN')"
      ]
     },
     "execution_count": 22,
     "metadata": {},
     "output_type": "execute_result"
    }
   ],
   "source": [
    "# 7 weeks starting from the day after the Sabbath of Pesach 11 Apr 2017.\n",
    "pd.date_range(start='2017-04-11', periods=8, freq='W')"
   ]
  },
  {
   "cell_type": "code",
   "execution_count": 24,
   "metadata": {},
   "outputs": [
    {
     "data": {
      "text/plain": [
       "DatetimeIndex(['2017-04-12', '2017-04-19', '2017-04-26', '2017-05-03',\n",
       "               '2017-05-10', '2017-05-17', '2017-05-24', '2017-05-31'],\n",
       "              dtype='datetime64[ns]', freq='W-WED')"
      ]
     },
     "execution_count": 24,
     "metadata": {},
     "output_type": "execute_result"
    }
   ],
   "source": [
    "# 7 weeks starting from the day after Pesach 11 Apr 2017.\n",
    "pd.date_range(start='2017-04-11', periods=8, freq='W-WED')"
   ]
  }
 ],
 "metadata": {
  "kernelspec": {
   "display_name": "Python 3",
   "language": "python",
   "name": "python3"
  },
  "language_info": {
   "codemirror_mode": {
    "name": "ipython",
    "version": 3
   },
   "file_extension": ".py",
   "mimetype": "text/x-python",
   "name": "python",
   "nbconvert_exporter": "python",
   "pygments_lexer": "ipython3",
   "version": "3.5.2"
  }
 },
 "nbformat": 4,
 "nbformat_minor": 2
}
