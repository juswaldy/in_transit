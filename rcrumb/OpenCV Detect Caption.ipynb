{
 "cells": [
  {
   "cell_type": "code",
   "execution_count": 4,
   "metadata": {
    "collapsed": true
   },
   "outputs": [],
   "source": [
    "import cv2\n",
    "import numpy as np\n",
    "from cv2 import boundingRect, countNonZero, cvtColor, drawContours, findContours, getStructuringElement, imread, morphologyEx, pyrDown, rectangle, threshold\n",
    "from PIL import Image"
   ]
  },
  {
   "cell_type": "code",
   "execution_count": 9,
   "metadata": {},
   "outputs": [],
   "source": [
    "large = imread(\"cut/12.1.1.jpg\")\n",
    "# downsample and use it for processing\n",
    "rgb = pyrDown(large)\n",
    "# apply grayscale\n",
    "small = cvtColor(rgb, cv2.COLOR_BGR2GRAY)\n",
    "# morphological gradient\n",
    "morph_kernel = getStructuringElement(cv2.MORPH_ELLIPSE, (3, 3))\n",
    "grad = morphologyEx(small, cv2.MORPH_GRADIENT, morph_kernel)\n",
    "# binarize\n",
    "_, bw = threshold(src=grad, thresh=0, maxval=255, type=cv2.THRESH_BINARY+cv2.THRESH_OTSU)\n",
    "morph_kernel = getStructuringElement(cv2.MORPH_RECT, (9, 1))\n",
    "# connect horizontally oriented regions\n",
    "connected = morphologyEx(bw, cv2.MORPH_CLOSE, morph_kernel)\n",
    "mask = np.zeros(bw.shape, np.uint8)\n",
    "# find contours\n",
    "im2, contours, hierarchy = findContours(connected, cv2.RETR_CCOMP, cv2.CHAIN_APPROX_SIMPLE)\n",
    "# filter contours\n",
    "for idx in range(0, len(hierarchy[0])):\n",
    "    rect = x, y, rect_width, rect_height = boundingRect(contours[idx])\n",
    "    # fill the contour\n",
    "    mask = drawContours(mask, contours, idx, (255, 255, 2555), cv2.FILLED)\n",
    "    # ratio of non-zero pixels in the filled region\n",
    "    r = float(countNonZero(mask)) / (rect_width * rect_height)\n",
    "    if r > 0.45 and rect_height > 8 and rect_width > 8:\n",
    "        rgb = rectangle(rgb, (x, y+rect_height), (x+rect_width, y), (0,255,0),3)"
   ]
  },
  {
   "cell_type": "code",
   "execution_count": 7,
   "metadata": {},
   "outputs": [],
   "source": [
    "x = Image.fromarray(rgb)\n",
    "x.save(\"x.jpg\")"
   ]
  }
 ],
 "metadata": {
  "kernelspec": {
   "display_name": "Python 3",
   "language": "python",
   "name": "python3"
  },
  "language_info": {
   "codemirror_mode": {
    "name": "ipython",
    "version": 3
   },
   "file_extension": ".py",
   "mimetype": "text/x-python",
   "name": "python",
   "nbconvert_exporter": "python",
   "pygments_lexer": "ipython3",
   "version": "3.5.2"
  }
 },
 "nbformat": 4,
 "nbformat_minor": 2
}
