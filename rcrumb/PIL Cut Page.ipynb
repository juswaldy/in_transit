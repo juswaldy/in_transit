{
 "cells": [
  {
   "cell_type": "code",
   "execution_count": 1,
   "metadata": {
    "collapsed": true
   },
   "outputs": [],
   "source": [
    "import os\n",
    "from glob import glob\n",
    "from PIL import Image\n",
    "import numpy as np"
   ]
  },
  {
   "cell_type": "code",
   "execution_count": 2,
   "metadata": {
    "collapsed": true
   },
   "outputs": [],
   "source": [
    "def getLeftRight(filepath, leftbox=(900, 100, 5100, 6200), rightbox=(400, 100, 4600, 6200)):\n",
    "    image = Image.open(filepath)\n",
    "    \n",
    "    # Get the left and right sides.\n",
    "    width, height = image.size\n",
    "    left = image.crop((0, 0, width/2, height))\n",
    "    right = image.crop((width/2, 0, width, height))\n",
    "\n",
    "    # Crop left and right sides.\n",
    "    left = left.crop(leftbox)\n",
    "    right = right.crop(rightbox)\n",
    "\n",
    "    return (left, right)"
   ]
  },
  {
   "cell_type": "code",
   "execution_count": 3,
   "metadata": {
    "collapsed": true
   },
   "outputs": [],
   "source": [
    "def makeMono(image, cutoff=100):\n",
    "    width, height = image.size\n",
    "    mono = image.convert('L')\n",
    "    mono = np.array(mono)\n",
    "\n",
    "    # Clean up using cutoff value.\n",
    "    x = mono.flatten()\n",
    "    x[x < cutoff] = 0\n",
    "    x[x >= cutoff] = 255\n",
    "\n",
    "    x = np.reshape(x, (height, width)).astype('uint8')\n",
    "    \n",
    "    return x"
   ]
  },
  {
   "cell_type": "code",
   "execution_count": 4,
   "metadata": {
    "collapsed": true
   },
   "outputs": [],
   "source": [
    "def getBoundingRect(image, cutoff=100):\n",
    "    x = makeMono(image, cutoff)\n",
    "    dust = 12\n",
    "    width, height = image.size\n",
    "\n",
    "    # Get top and bottom.\n",
    "    top = next(n for n in range(height) if sum(x[n]) < 255*(width-dust))\n",
    "    bottom = next(n for n in range(height-1, 0, -1) if sum(x[n]) < 255*(width-dust))\n",
    "\n",
    "    # Get left and right.\n",
    "    y = x.transpose()\n",
    "    left = next(n for n in range(width) if sum(y[n]) < 255*(height-dust))\n",
    "    right = next(n for n in range(width-1, 0, -1) if sum(y[n]) < 255*(height-dust))\n",
    "\n",
    "    return (left, top, right, bottom)"
   ]
  },
  {
   "cell_type": "code",
   "execution_count": 5,
   "metadata": {
    "scrolled": true
   },
   "outputs": [
    {
     "name": "stdout",
     "output_type": "stream",
     "text": [
      "color/01.1.jpg\n",
      "color/01.2.jpg\n",
      "color/02.1.jpg\n",
      "color/02.2.jpg\n",
      "color/03.1.jpg\n",
      "color/03.2.jpg\n",
      "color/04.1.jpg\n",
      "color/05.1.jpg\n",
      "color/06.1.jpg\n",
      "color/06.2.jpg\n",
      "color/07.1.jpg\n",
      "color/08.1.jpg\n",
      "color/09.1.jpg\n",
      "color/09.2.jpg\n",
      "color/11.1.jpg\n",
      "color/11.2.jpg\n",
      "color/12.1.jpg\n",
      "color/12.2.jpg\n",
      "color/13.1.jpg\n",
      "color/14.1.jpg\n",
      "color/14.2.jpg\n",
      "color/15.1.jpg\n",
      "color/16.1.jpg\n",
      "color/16.2.jpg\n",
      "color/17.1.jpg\n",
      "color/18.1.jpg\n",
      "color/18.2.jpg\n",
      "color/18.3.jpg\n",
      "color/19.1.jpg\n",
      "color/19.2.jpg\n",
      "color/19.3.jpg\n",
      "color/19.4.jpg\n",
      "color/20.1.jpg\n",
      "color/21.1.jpg\n",
      "color/21.2.jpg\n",
      "color/21.3.jpg\n",
      "color/22.1.jpg\n",
      "color/23.1.jpg\n",
      "color/23.2.jpg\n",
      "color/24.1.jpg\n",
      "color/24.2.jpg\n",
      "color/24.3.jpg\n",
      "color/24.4.jpg\n",
      "color/25.1.jpg\n",
      "color/25.2.jpg\n",
      "color/26.1.jpg\n",
      "color/26.2.jpg\n",
      "color/27.1.jpg\n",
      "color/27.2.jpg\n",
      "color/27.3.jpg\n",
      "color/28.1.jpg\n",
      "color/29.1.jpg\n",
      "color/29.2.jpg\n",
      "color/29.3.jpg\n",
      "color/30.1.jpg\n",
      "color/30.2.jpg\n",
      "color/31.1.jpg\n",
      "color/31.2.jpg\n",
      "color/31.3.jpg\n",
      "color/32.1.jpg\n",
      "color/32.2.jpg\n",
      "color/33.1.jpg\n",
      "color/34.1.jpg\n",
      "color/34.2.jpg\n",
      "color/34.3.jpg\n",
      "color/35.1.jpg\n",
      "color/36.1.jpg\n",
      "color/36.2.jpg\n",
      "color/37.1.jpg\n",
      "color/37.2.jpg\n",
      "color/37.3.jpg\n",
      "color/38.1.jpg\n",
      "color/38.2.jpg\n",
      "color/38.3.jpg\n",
      "color/39.1.jpg\n",
      "color/39.2.jpg\n",
      "color/40.1.jpg\n",
      "color/41.1.jpg\n",
      "color/41.2.jpg\n",
      "color/41.3.jpg\n",
      "color/41.4.jpg\n",
      "color/42.1.jpg\n",
      "color/42.2.jpg\n",
      "color/42.3.jpg\n",
      "color/43.1.jpg\n",
      "color/43.2.jpg\n",
      "color/43.3.jpg\n",
      "color/44.1.jpg\n",
      "color/44.2.jpg\n",
      "color/45.1.jpg\n",
      "color/45.2.jpg\n",
      "color/46.1.jpg\n",
      "color/46.2.jpg\n",
      "color/47.1.jpg\n",
      "color/47.2.jpg\n",
      "color/48.1.jpg\n",
      "color/48.2.jpg\n",
      "color/49.1.jpg\n",
      "color/50.1.jpg\n",
      "color/50.2.jpg\n",
      "color/50.3.jpg\n"
     ]
    }
   ],
   "source": [
    "for filepath in sorted(glob(\"color/*.[1-9].[Jj][Pp][Gg]\")):\n",
    "    left, right = getLeftRight(filepath)\n",
    "    \n",
    "    #left = left.crop(getBoundingRect(left, 100))\n",
    "    #right = right.crop(getBoundingRect(right, 100))\n",
    "    \n",
    "    #print(getBoundingRect(left, 100))\n",
    "    #print(getBoundingRect(right, 100))\n",
    "    \n",
    "    filename = os.path.basename(filepath)\n",
    "    base = os.path.splitext(filename)[0]\n",
    "\n",
    "    left.save('cut/' + base + '.1.jpg')\n",
    "    right.save('cut/' + base + '.2.jpg')\n",
    "\n",
    "    print(filepath)"
   ]
  },
  {
   "cell_type": "code",
   "execution_count": 6,
   "metadata": {
    "collapsed": true
   },
   "outputs": [],
   "source": [
    "size = (4200, 6100)"
   ]
  }
 ],
 "metadata": {
  "kernelspec": {
   "display_name": "Python 3",
   "language": "python",
   "name": "python3"
  },
  "language_info": {
   "codemirror_mode": {
    "name": "ipython",
    "version": 3
   },
   "file_extension": ".py",
   "mimetype": "text/x-python",
   "name": "python",
   "nbconvert_exporter": "python",
   "pygments_lexer": "ipython3",
   "version": "3.6.5"
  }
 },
 "nbformat": 4,
 "nbformat_minor": 2
}
