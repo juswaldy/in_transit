{
 "cells": [
  {
   "cell_type": "markdown",
   "metadata": {},
   "source": [
    "# Degree History Explorations"
   ]
  },
  {
   "cell_type": "markdown",
   "metadata": {},
   "source": [
    "## How many degrees do people have?"
   ]
  },
  {
   "cell_type": "code",
   "execution_count": 1,
   "metadata": {
    "scrolled": false
   },
   "outputs": [
    {
     "data": {
      "text/html": [
       "(5 rows affected)"
      ]
     },
     "metadata": {},
     "output_type": "display_data"
    },
    {
     "data": {
      "text/html": [
       "Total execution time: 00:00:00.097"
      ]
     },
     "metadata": {},
     "output_type": "display_data"
    },
    {
     "data": {
      "application/vnd.dataresource+json": {
       "data": [
        {
         "0": "1",
         "1": "14856"
        },
        {
         "0": "2",
         "1": "2429"
        },
        {
         "0": "3",
         "1": "142"
        },
        {
         "0": "4",
         "1": "9"
        },
        {
         "0": "Any",
         "1": "20176"
        }
       ],
       "schema": {
        "fields": [
         {
          "name": "NumDegrees"
         },
         {
          "name": "Count"
         }
        ]
       }
      },
      "text/html": [
       "<table><tr><th>NumDegrees</th><th>Count</th></tr><tr><td>1</td><td>14856</td></tr><tr><td>2</td><td>2429</td></tr><tr><td>3</td><td>142</td></tr><tr><td>4</td><td>9</td></tr><tr><td>Any</td><td>20176</td></tr></table>"
      ]
     },
     "execution_count": 1,
     "metadata": {},
     "output_type": "execute_result"
    }
   ],
   "source": [
    "-- Number of degrees per person.\n",
    "SELECT 'Any' NumDegrees, COUNT(*) Count\n",
    "FROM DEGREE_HISTORY d\n",
    "WHERE d.DTE_DEGR_CONFERRED IS NOT NULL\n",
    "UNION\n",
    "SELECT CONVERT(CHAR(1), NumDegrees) NumDegrees, COUNT(*) Count\n",
    "FROM (SELECT ID_NUM, COUNT(*) NumDegrees FROM DEGREE_HISTORY WHERE DTE_DEGR_CONFERRED IS NOT NULL GROUP BY ID_NUM) x\n",
    "GROUP BY NumDegrees\n",
    "ORDER BY NumDegrees"
   ]
  },
  {
   "cell_type": "markdown",
   "metadata": {},
   "source": [
    "## What does the data look like?"
   ]
  },
  {
   "cell_type": "code",
   "execution_count": 2,
   "metadata": {
    "scrolled": true
   },
   "outputs": [
    {
     "data": {
      "text/html": [
       "(9 rows affected)"
      ]
     },
     "metadata": {},
     "output_type": "display_data"
    },
    {
     "data": {
      "text/html": [
       "Total execution time: 00:00:00.031"
      ]
     },
     "metadata": {},
     "output_type": "display_data"
    },
    {
     "data": {
      "application/vnd.dataresource+json": {
       "data": [
        {
         "0": "9",
         "1": "480655",
         "10": "*LOCAL",
         "11": "LDRBA",
         "12": "NULL",
         "13": "NULL",
         "14": "NULL",
         "15": "NULL",
         "16": "NULL",
         "17": "NULL",
         "18": "NULL",
         "19": "NULL",
         "2": "1",
         "20": "NULL",
         "21": "NULL",
         "22": "NULL",
         "23": "NULL",
         "24": "NULL",
         "25": "NULL",
         "26": "NULL",
         "27": "NULL",
         "28": "GD   ",
         "29": "NULL",
         "3": "Y",
         "30": "NULL",
         "31": "NULL",
         "32": "NULL",
         "33": "NULL",
         "34": "2018",
         "35": "FA",
         "36": "2018-11-08 00:00:00.000",
         "37": "NULL",
         "38": "NULL",
         "39": "NULL",
         "4": "N",
         "40": "NULL",
         "41": "0",
         "42": "NULL",
         "43": "NULL",
         "44": "DC",
         "45": "NULL",
         "46": "Y",
         "47": "L",
         "48": "NULL",
         "49": "NULL",
         "5": "UG",
         "50": "NULL",
         "51": "NULL",
         "52": "NULL",
         "53": "NULL",
         "54": "NULL",
         "55": "NULL",
         "56": "TW",
         "57": "NULL",
         "58": "NULL",
         "59": "NULL",
         "6": "BA   ",
         "60": "NULL",
         "61": "NULL",
         "62": "NULL",
         "63": "NULL",
         "64": "N",
         "65": "N",
         "66": "NULL",
         "67": "NULL",
         "68": "2019-01-02 08:19:52.193",
         "69": "NULL",
         "7": "Y",
         "70": "N",
         "71": "NULL",
         "72": "NULL",
         "73": "N",
         "74": "NULL",
         "75": "NULL",
         "76": "NULL",
         "77": "NULL",
         "78": "NULL",
         "79": "NULL",
         "8": "BA   ",
         "80": "NULL",
         "81": "NULL",
         "82": "NULL",
         "83": "PICK ",
         "84": "NULL",
         "85": "2019-02-14 00:00:00.000",
         "86": "NULL",
         "87": "0.00",
         "88": "0.00",
         "89": "0.00",
         "9": "2018-12-31 00:00:00.000",
         "90": "0.00",
         "91": "0x000000000F9A9F27",
         "92": "JUSTINE.LEEDAM",
         "93": "UO_USER_DEFINED",
         "94": "2019-02-14 14:50:32.847"
        },
        {
         "0": "20",
         "1": "480694",
         "10": "*LOCAL",
         "11": "NULL",
         "12": "NULL",
         "13": "NULL",
         "14": "NULL",
         "15": "NULL",
         "16": "NULL",
         "17": "NULL",
         "18": "NULL",
         "19": "NULL",
         "2": "2",
         "20": "NULL",
         "21": "NULL",
         "22": "NULL",
         "23": "NULL",
         "24": "NULL",
         "25": "NULL",
         "26": "NULL",
         "27": "NULL",
         "28": "NULL",
         "29": "NULL",
         "3": "N",
         "30": "NULL",
         "31": "NULL",
         "32": "NULL",
         "33": "NULL",
         "34": "NULL",
         "35": "NULL",
         "36": "2014-04-01 00:00:00.000",
         "37": "NULL",
         "38": "NULL",
         "39": "NULL",
         "4": "N",
         "40": "NULL",
         "41": "0",
         "42": "NULL",
         "43": "NULL",
         "44": "CM",
         "45": "NULL",
         "46": "N",
         "47": "L",
         "48": "NULL",
         "49": "NULL",
         "5": "GR",
         "50": "NULL",
         "51": "NULL",
         "52": "NULL",
         "53": "NULL",
         "54": "NULL",
         "55": "NULL",
         "56": "NULL",
         "57": "NULL",
         "58": "NULL",
         "59": "NULL",
         "6": "CLDR ",
         "60": "NULL",
         "61": "NULL",
         "62": "NULL",
         "63": "NULL",
         "64": "N",
         "65": "N",
         "66": "NULL",
         "67": "NULL",
         "68": "2014-04-01 00:00:00.000",
         "69": "NULL",
         "7": "Y",
         "70": "N",
         "71": "NULL",
         "72": "NULL",
         "73": "NULL",
         "74": "NULL",
         "75": "NULL",
         "76": "NULL",
         "77": "NULL",
         "78": "NULL",
         "79": "NULL",
         "8": "CLDR ",
         "80": "NULL",
         "81": "NULL",
         "82": "NULL",
         "83": "MAIL ",
         "84": "NULL",
         "85": "2015-09-23 00:00:00.000",
         "86": "NULL",
         "87": "0.00",
         "88": "0.00",
         "89": "0.00",
         "9": "2015-05-31 00:00:00.000",
         "90": "0.00",
         "91": "0x0000000002AFD29A",
         "92": "EVAN.STRELAU",
         "93": "UO_USER_DEFINED",
         "94": "2015-09-23 09:35:08.300"
        },
        {
         "0": "21",
         "1": "480694",
         "10": "*LOCAL",
         "11": "LEAMA",
         "12": "NULL",
         "13": "NULL",
         "14": "NULL",
         "15": "NULL",
         "16": "NULL",
         "17": "NULL",
         "18": "NULL",
         "19": "NULL",
         "2": "3",
         "20": "NULL",
         "21": "NULL",
         "22": "NULL",
         "23": "NULL",
         "24": "MLHLC",
         "25": "NULL",
         "26": "NULL",
         "27": "NULL",
         "28": "NULL",
         "29": "NULL",
         "3": "Y",
         "30": "NULL",
         "31": "NULL",
         "32": "NULL",
         "33": "NULL",
         "34": "2017",
         "35": "SP",
         "36": "2018-11-08 00:00:00.000",
         "37": "NULL",
         "38": "NULL",
         "39": "NULL",
         "4": "N",
         "40": "NULL",
         "41": "0",
         "42": "NULL",
         "43": "NULL",
         "44": "ML",
         "45": "NULL",
         "46": "Y",
         "47": "L",
         "48": "NULL",
         "49": "NULL",
         "5": "GR",
         "50": "NULL",
         "51": "NULL",
         "52": "NULL",
         "53": "NULL",
         "54": "NULL",
         "55": "NULL",
         "56": "NULL",
         "57": "NULL",
         "58": "NULL",
         "59": "NULL",
         "6": "MAAL ",
         "60": "NULL",
         "61": "NULL",
         "62": "NULL",
         "63": "NULL",
         "64": "N",
         "65": "N",
         "66": "NULL",
         "67": "NULL",
         "68": "2019-05-03 08:24:27.597",
         "69": "NULL",
         "7": "Y",
         "70": "N",
         "71": "NULL",
         "72": "NULL",
         "73": "N",
         "74": "NULL",
         "75": "NULL",
         "76": "NULL",
         "77": "NULL",
         "78": "NULL",
         "79": "NULL",
         "8": "MAAL ",
         "80": "NULL",
         "81": "NULL",
         "82": "NULL",
         "83": "NULL",
         "84": "NULL",
         "85": "NULL",
         "86": "NULL",
         "87": "0.00",
         "88": "0.00",
         "89": "0.00",
         "9": "2016-12-31 00:00:00.000",
         "90": "0.00",
         "91": "0x000000001A4346D2",
         "92": "ANNAMARIE.RYAN",
         "93": "w_student_info",
         "94": "2019-05-03 08:24:27.607"
        },
        {
         "0": "24",
         "1": "480697",
         "10": "*LOCAL",
         "11": "LDRBA",
         "12": "NULL",
         "13": "NULL",
         "14": "NULL",
         "15": "NULL",
         "16": "NULL",
         "17": "NULL",
         "18": "NULL",
         "19": "NULL",
         "2": "1",
         "20": "NULL",
         "21": "NULL",
         "22": "NULL",
         "23": "NULL",
         "24": "NULL",
         "25": "NULL",
         "26": "NULL",
         "27": "NULL",
         "28": "GD   ",
         "29": "NULL",
         "3": "Y",
         "30": "NULL",
         "31": "NULL",
         "32": "NULL",
         "33": "NULL",
         "34": "2016",
         "35": "SP",
         "36": "2013-04-29 00:00:00.000",
         "37": "NULL",
         "38": "NULL",
         "39": "NULL",
         "4": "N",
         "40": "NULL",
         "41": "0",
         "42": "NULL",
         "43": "NULL",
         "44": "DC",
         "45": "NULL",
         "46": "N",
         "47": "L",
         "48": "NULL",
         "49": "NULL",
         "5": "UG",
         "50": "NULL",
         "51": "NULL",
         "52": "NULL",
         "53": "NULL",
         "54": "NULL",
         "55": "NULL",
         "56": "NULL",
         "57": "NULL",
         "58": "NULL",
         "59": "NULL",
         "6": "BA   ",
         "60": "NULL",
         "61": "NULL",
         "62": "NULL",
         "63": "NULL",
         "64": "N",
         "65": "N",
         "66": "NULL",
         "67": "NULL",
         "68": "2013-04-29 00:00:00.000",
         "69": "NULL",
         "7": "Y",
         "70": "N",
         "71": "NULL",
         "72": "NULL",
         "73": "Y",
         "74": "NULL",
         "75": "NULL",
         "76": "NULL",
         "77": "NULL",
         "78": "NULL",
         "79": "NULL",
         "8": "BA   ",
         "80": "NULL",
         "81": "56 ",
         "82": "NULL",
         "83": "NULL",
         "84": "NULL",
         "85": "NULL",
         "86": "NULL",
         "87": "0.00",
         "88": "0.00",
         "89": "0.00",
         "9": "2016-05-31 00:00:00.000",
         "90": "0.00",
         "91": "0x0000000002AFD29E",
         "92": "EVAN.STRELAU",
         "93": "w_degree_history_update",
         "94": "2016-05-31 10:57:37.337"
        },
        {
         "0": "25",
         "1": "480698",
         "10": "*LOCAL",
         "11": "LDRBA",
         "12": "NULL",
         "13": "NULL",
         "14": "NULL",
         "15": "NULL",
         "16": "NULL",
         "17": "NULL",
         "18": "NULL",
         "19": "NULL",
         "2": "1",
         "20": "NULL",
         "21": "NULL",
         "22": "NULL",
         "23": "NULL",
         "24": "NULL",
         "25": "NULL",
         "26": "NULL",
         "27": "NULL",
         "28": "NULL",
         "29": "NULL",
         "3": "Y",
         "30": "NULL",
         "31": "NULL",
         "32": "NULL",
         "33": "NULL",
         "34": "2016",
         "35": "FA",
         "36": "2018-11-08 00:00:00.000",
         "37": "NULL",
         "38": "GR",
         "39": "2016-12-31 00:00:00.000",
         "4": "N",
         "40": "NULL",
         "41": "0",
         "42": "NULL",
         "43": "NULL",
         "44": "II",
         "45": "NULL",
         "46": "N",
         "47": "L",
         "48": "NULL",
         "49": "NULL",
         "5": "UG",
         "50": "NULL",
         "51": "NULL",
         "52": "NULL",
         "53": "NULL",
         "54": "NULL",
         "55": "NULL",
         "56": "TW",
         "57": "NULL",
         "58": "NULL",
         "59": "NULL",
         "6": "BA   ",
         "60": "NULL",
         "61": "NULL",
         "62": "NULL",
         "63": "NULL",
         "64": "N",
         "65": "N",
         "66": "NULL",
         "67": "NULL",
         "68": "2018-11-07 18:01:45.927",
         "69": "NULL",
         "7": "Y",
         "70": "N",
         "71": "NULL",
         "72": "NULL",
         "73": "Y",
         "74": "NULL",
         "75": "NULL",
         "76": "NULL",
         "77": "NULL",
         "78": "NULL",
         "79": "NULL",
         "8": "BA   ",
         "80": "NULL",
         "81": "59 ",
         "82": "NULL",
         "83": "PICK ",
         "84": "NULL",
         "85": "2017-01-09 00:00:00.000",
         "86": "NULL",
         "87": "0.00",
         "88": "0.00",
         "89": "0.00",
         "9": "2016-12-31 00:00:00.000",
         "90": "0.00",
         "91": "0x0000000003B79A4C",
         "92": "EMILY.GREENHALG",
         "93": "UO_USER_DEFINED",
         "94": "2017-01-20 16:05:16.773"
        },
        {
         "0": "30",
         "1": "480717",
         "10": "*LOCAL",
         "11": "SEMWK",
         "12": "NULL",
         "13": "NULL",
         "14": "NULL",
         "15": "NULL",
         "16": "NULL",
         "17": "NULL",
         "18": "NULL",
         "19": "NULL",
         "2": "1",
         "20": "NULL",
         "21": "NULL",
         "22": "NULL",
         "23": "NULL",
         "24": "NULL",
         "25": "NULL",
         "26": "NULL",
         "27": "NULL",
         "28": "NULL",
         "29": "NULL",
         "3": "Y",
         "30": "NULL",
         "31": "NULL",
         "32": "NULL",
         "33": "NULL",
         "34": "NULL",
         "35": "NULL",
         "36": "2013-09-04 00:00:00.000",
         "37": "NULL",
         "38": "GR",
         "39": "2015-05-31 00:00:00.000",
         "4": "N",
         "40": "NULL",
         "41": "0",
         "42": "NULL",
         "43": "NULL",
         "44": "WK",
         "45": "2013",
         "46": "N",
         "47": "L",
         "48": "NULL",
         "49": "NULL",
         "5": "SE",
         "50": "NULL",
         "51": "NULL",
         "52": "NULL",
         "53": "NULL",
         "54": "NULL",
         "55": "NULL",
         "56": "AT",
         "57": "NULL",
         "58": "NULL",
         "59": "NULL",
         "6": "MWVK ",
         "60": "NULL",
         "61": "NULL",
         "62": "NULL",
         "63": "NULL",
         "64": "N",
         "65": "N",
         "66": "NULL",
         "67": "NULL",
         "68": "2013-09-04 00:00:00.000",
         "69": "NULL",
         "7": "Y",
         "70": "N",
         "71": "NULL",
         "72": "NULL",
         "73": "NULL",
         "74": "NULL",
         "75": "NULL",
         "76": "NULL",
         "77": "NULL",
         "78": "NULL",
         "79": "NULL",
         "8": "MWVK ",
         "80": "NULL",
         "81": "NULL",
         "82": "NULL",
         "83": "NULL",
         "84": "NULL",
         "85": "2015-06-01 00:00:00.000",
         "86": "NULL",
         "87": "0.00",
         "88": "0.00",
         "89": "0.00",
         "9": "2015-05-31 00:00:00.000",
         "90": "0.00",
         "91": "0x0000000002AFD2A4",
         "92": "EVAN.STRELAU",
         "93": "w_student_info",
         "94": "2015-06-01 13:41:31.587"
        },
        {
         "0": "32",
         "1": "480723",
         "10": "*LOCAL",
         "11": "SEMFT",
         "12": "NULL",
         "13": "NULL",
         "14": "NULL",
         "15": "NULL",
         "16": "NULL",
         "17": "NULL",
         "18": "NULL",
         "19": "NULL",
         "2": "2",
         "20": "NULL",
         "21": "NULL",
         "22": "NULL",
         "23": "NULL",
         "24": "NULL",
         "25": "NULL",
         "26": "NULL",
         "27": "NULL",
         "28": "NULL",
         "29": "NULL",
         "3": "Y",
         "30": "NULL",
         "31": "NULL",
         "32": "NULL",
         "33": "NULL",
         "34": "2017",
         "35": "SP",
         "36": "2018-11-08 00:00:00.000",
         "37": "NULL",
         "38": "GR",
         "39": "2017-05-31 00:00:00.000",
         "4": "N",
         "40": "NULL",
         "41": "0",
         "42": "NULL",
         "43": "NULL",
         "44": "FT",
         "45": "NULL",
         "46": "N",
         "47": "L",
         "48": "NULL",
         "49": "NULL",
         "5": "SE",
         "50": "NULL",
         "51": "NULL",
         "52": "NULL",
         "53": "NULL",
         "54": "NULL",
         "55": "NULL",
         "56": "NULL",
         "57": "NULL",
         "58": "NULL",
         "59": "NULL",
         "6": "MFT  ",
         "60": "NULL",
         "61": "NULL",
         "62": "NULL",
         "63": "NULL",
         "64": "N",
         "65": "N",
         "66": "NULL",
         "67": "NULL",
         "68": "2018-11-07 18:01:45.927",
         "69": "NULL",
         "7": "Y",
         "70": "N",
         "71": "NULL",
         "72": "NULL",
         "73": "Y",
         "74": "NULL",
         "75": "NULL",
         "76": "NULL",
         "77": "NULL",
         "78": "NULL",
         "79": "NULL",
         "8": "MFT  ",
         "80": "NULL",
         "81": "411",
         "82": "NULL",
         "83": "PICK ",
         "84": "NULL",
         "85": "2017-06-19 00:00:00.000",
         "86": "NULL",
         "87": "0.00",
         "88": "0.00",
         "89": "0.00",
         "9": "2017-05-31 00:00:00.000",
         "90": "0.00",
         "91": "0x0000000003B79A52",
         "92": "KELLI.ROTHWELL",
         "93": "UO_USER_DEFINED",
         "94": "2017-06-19 15:20:28.317"
        },
        {
         "0": "36",
         "1": "480756",
         "10": "*LOCAL",
         "11": "BIOBS",
         "12": "NULL",
         "13": "CORE ",
         "14": "NULL",
         "15": "CHEM ",
         "16": "NULL",
         "17": "NULL",
         "18": "NULL",
         "19": "NULL",
         "2": "1",
         "20": "NULL",
         "21": "NULL",
         "22": "NULL",
         "23": "NULL",
         "24": "NULL",
         "25": "NULL",
         "26": "NULL",
         "27": "NULL",
         "28": "GD   ",
         "29": "NULL",
         "3": "Y",
         "30": "NULL",
         "31": "NULL",
         "32": "NULL",
         "33": "NULL",
         "34": "2018",
         "35": "SP",
         "36": "2018-11-08 00:00:00.000",
         "37": "NULL",
         "38": "NULL",
         "39": "2018-05-31 00:00:00.000",
         "4": "N",
         "40": "NULL",
         "41": "0",
         "42": "NULL",
         "43": "NULL",
         "44": "NULL",
         "45": "2014",
         "46": "Y",
         "47": "L",
         "48": "NULL",
         "49": "NULL",
         "5": "UG",
         "50": "NULL",
         "51": "NULL",
         "52": "NULL",
         "53": "NULL",
         "54": "NULL",
         "55": "NULL",
         "56": "NULL",
         "57": "NULL",
         "58": "NULL",
         "59": "NULL",
         "6": "BSC  ",
         "60": "NULL",
         "61": "NULL",
         "62": "NULL",
         "63": "NULL",
         "64": "N",
         "65": "N",
         "66": "NULL",
         "67": "NULL",
         "68": "2018-11-07 18:01:45.927",
         "69": "NULL",
         "7": "Y",
         "70": "N",
         "71": "NULL",
         "72": "NULL",
         "73": "Y",
         "74": "NULL",
         "75": "NULL",
         "76": "NULL",
         "77": "NULL",
         "78": "NULL",
         "79": "NULL",
         "8": "BSC  ",
         "80": "NULL",
         "81": "54 ",
         "82": "NULL",
         "83": "PICK ",
         "84": "NULL",
         "85": "2018-06-05 00:00:00.000",
         "86": "NULL",
         "87": "0.00",
         "88": "0.00",
         "89": "0.00",
         "9": "2018-05-31 00:00:00.000",
         "90": "0.00",
         "91": "0x0000000003B79A56",
         "92": "LAUREN.FRIESEN",
         "93": "UO_USER_DEFINED",
         "94": "2018-06-05 13:18:33.393"
        },
        {
         "0": "43",
         "1": "480767",
         "10": "*LOCAL",
         "11": "SEMDV",
         "12": "NULL",
         "13": "NULL",
         "14": "NULL",
         "15": "NULL",
         "16": "NULL",
         "17": "NULL",
         "18": "NULL",
         "19": "NULL",
         "2": "1",
         "20": "NULL",
         "21": "NULL",
         "22": "NULL",
         "23": "NULL",
         "24": "NULL",
         "25": "NULL",
         "26": "NULL",
         "27": "NULL",
         "28": "NULL",
         "29": "NULL",
         "3": "Y",
         "30": "NULL",
         "31": "NULL",
         "32": "NULL",
         "33": "NULL",
         "34": "2017",
         "35": "SP",
         "36": "2013-09-04 00:00:00.000",
         "37": "NULL",
         "38": "GR",
         "39": "2017-05-31 00:00:00.000",
         "4": "N",
         "40": "NULL",
         "41": "0",
         "42": "NULL",
         "43": "NULL",
         "44": "MD",
         "45": "2013",
         "46": "N",
         "47": "L",
         "48": "NULL",
         "49": "NULL",
         "5": "SE",
         "50": "NULL",
         "51": "NULL",
         "52": "NULL",
         "53": "NULL",
         "54": "NULL",
         "55": "NULL",
         "56": "AT",
         "57": "NULL",
         "58": "NULL",
         "59": "NULL",
         "6": "MDV  ",
         "60": "NULL",
         "61": "NULL",
         "62": "NULL",
         "63": "NULL",
         "64": "N",
         "65": "N",
         "66": "NULL",
         "67": "NULL",
         "68": "2013-09-04 00:00:00.000",
         "69": "NULL",
         "7": "Y",
         "70": "N",
         "71": "NULL",
         "72": "NULL",
         "73": "Y",
         "74": "NULL",
         "75": "NULL",
         "76": "NULL",
         "77": "NULL",
         "78": "NULL",
         "79": "NULL",
         "8": "MDV  ",
         "80": "NULL",
         "81": "60 ",
         "82": "NULL",
         "83": "PICK ",
         "84": "NULL",
         "85": "2018-08-27 00:00:00.000",
         "86": "NULL",
         "87": "0.00",
         "88": "0.00",
         "89": "0.00",
         "9": "2017-05-31 00:00:00.000",
         "90": "0.00",
         "91": "0x0000000002AFD2B1",
         "92": "TIFFANY.LOEWEN",
         "93": "UO_USER_DEFINED",
         "94": "2018-08-27 13:04:04.803"
        }
       ],
       "schema": {
        "fields": [
         {
          "name": "APPID"
         },
         {
          "name": "ID_NUM"
         },
         {
          "name": "SEQ_NUM_2"
         },
         {
          "name": "CUR_DEGREE"
         },
         {
          "name": "NON_DEGREE_SEEKING"
         },
         {
          "name": "DIV_CDE"
         },
         {
          "name": "DEGR_CDE"
         },
         {
          "name": "PRT_DEGR_ON_TRANSC"
         },
         {
          "name": "ACAD_DEGR_CDE"
         },
         {
          "name": "DTE_DEGR_CONFERRED"
         },
         {
          "name": "DEGR_EARNED_AT"
         },
         {
          "name": "MAJOR_1"
         },
         {
          "name": "MAJOR_2"
         },
         {
          "name": "MAJOR_3"
         },
         {
          "name": "MAJOR_4"
         },
         {
          "name": "MINOR_1"
         },
         {
          "name": "MINOR_2"
         },
         {
          "name": "MINOR_3"
         },
         {
          "name": "MINOR_4"
         },
         {
          "name": "CONCENTRATION_1"
         },
         {
          "name": "CONCENTRATION_2"
         },
         {
          "name": "CONCENTRATION_3"
         },
         {
          "name": "CONCENTRATION_4"
         },
         {
          "name": "CONCENTRATION_5"
         },
         {
          "name": "CERTIFICATION_1"
         },
         {
          "name": "CERTIFICATION_2"
         },
         {
          "name": "CERTIFICATION_3"
         },
         {
          "name": "CERTIFICATION_4"
         },
         {
          "name": "DEGR_HONORS_1"
         },
         {
          "name": "DEGR_HONORS_2"
         },
         {
          "name": "DEGR_HONORS_3"
         },
         {
          "name": "CLASS_RANK"
         },
         {
          "name": "CLASS_RANK_HI_RNGE"
         },
         {
          "name": "CLASS_SIZE"
         },
         {
          "name": "EXPECT_GRAD_YR"
         },
         {
          "name": "EXPECT_GRAD_TRM"
         },
         {
          "name": "ENTRY_DTE"
         },
         {
          "name": "WITHDRAWAL_DTE"
         },
         {
          "name": "EXIT_REASON"
         },
         {
          "name": "EXIT_DTE"
         },
         {
          "name": "REENTRY_DTE"
         },
         {
          "name": "NUM_LEAVE_OF_ABSEN"
         },
         {
          "name": "LAST_LEAVE_OF_ABSE"
         },
         {
          "name": "LAST_LEAVE_OF_ABSE_END_DTE"
         },
         {
          "name": "STUD_GEN_INTENT"
         },
         {
          "name": "ADV_TREE_YR_CDE"
         },
         {
          "name": "ACTIVE"
         },
         {
          "name": "DEG_LOCK_FLG"
         },
         {
          "name": "DEGREE_PERIOD_CDE"
         },
         {
          "name": "NSC_DEGREE_PERIOD_CDE"
         },
         {
          "name": "PROGRAM_AREA_1"
         },
         {
          "name": "PROGRAM_AREA_2"
         },
         {
          "name": "HONORS_PROGRAM"
         },
         {
          "name": "OTHER_HONOR_1"
         },
         {
          "name": "OTHER_HONOR_2"
         },
         {
          "name": "OTHER_HONOR_3"
         },
         {
          "name": "COLL_AWARDING_DEG_1"
         },
         {
          "name": "COLL_AWARDING_DEG_2"
         },
         {
          "name": "DEG_APPLICATION_DTE"
         },
         {
          "name": "DEGREE_YR"
         },
         {
          "name": "DEGREE_TRM"
         },
         {
          "name": "DIPLOMA_NAME"
         },
         {
          "name": "DIPLOMA_ORDER_DTE"
         },
         {
          "name": "DIPLOMA_MAILED_DTE"
         },
         {
          "name": "IN_ABSENTIA"
         },
         {
          "name": "DIPLOMA_PICK_UP"
         },
         {
          "name": "OPE_ID"
         },
         {
          "name": "RESTRICTED_PROG_ADM_DEF_APPID"
         },
         {
          "name": "RECORD_CHANGE_DATE"
         },
         {
          "name": "ST_TX_LOC_REMOTE_DEF_APPID"
         },
         {
          "name": "REVERSE_TRANSFER_DEGREE"
         },
         {
          "name": "ACADEMIC_PLAN_START_YR_CDE"
         },
         {
          "name": "ACADEMIC_PLAN_START_TRM_CDE"
         },
         {
          "name": "UDEF_1A_1"
         },
         {
          "name": "UDEF_1A_2"
         },
         {
          "name": "UDEF_1A_3"
         },
         {
          "name": "UDEF_1A_4"
         },
         {
          "name": "UDEF_1A_5"
         },
         {
          "name": "UDEF_2A_1"
         },
         {
          "name": "UDEF_2A_2"
         },
         {
          "name": "UDEF_2A_3"
         },
         {
          "name": "UDEF_3A_1"
         },
         {
          "name": "UDEF_3A_2"
         },
         {
          "name": "UDEF_5A_1"
         },
         {
          "name": "UDEF_5A_2"
         },
         {
          "name": "UDEF_DTE_1"
         },
         {
          "name": "UDEF_DTE_2"
         },
         {
          "name": "UDEF_5_2_1"
         },
         {
          "name": "USDEF_5_2_2"
         },
         {
          "name": "UDEF_5_2_3"
         },
         {
          "name": "UDEF_5_2_4"
         },
         {
          "name": "APPROWVERSION"
         },
         {
          "name": "USER_NAME"
         },
         {
          "name": "JOB_NAME"
         },
         {
          "name": "JOB_TIME"
         }
        ]
       }
      },
      "text/html": [
       "<table><tr><th>APPID</th><th>ID_NUM</th><th>SEQ_NUM_2</th><th>CUR_DEGREE</th><th>NON_DEGREE_SEEKING</th><th>DIV_CDE</th><th>DEGR_CDE</th><th>PRT_DEGR_ON_TRANSC</th><th>ACAD_DEGR_CDE</th><th>DTE_DEGR_CONFERRED</th><th>DEGR_EARNED_AT</th><th>MAJOR_1</th><th>MAJOR_2</th><th>MAJOR_3</th><th>MAJOR_4</th><th>MINOR_1</th><th>MINOR_2</th><th>MINOR_3</th><th>MINOR_4</th><th>CONCENTRATION_1</th><th>CONCENTRATION_2</th><th>CONCENTRATION_3</th><th>CONCENTRATION_4</th><th>CONCENTRATION_5</th><th>CERTIFICATION_1</th><th>CERTIFICATION_2</th><th>CERTIFICATION_3</th><th>CERTIFICATION_4</th><th>DEGR_HONORS_1</th><th>DEGR_HONORS_2</th><th>DEGR_HONORS_3</th><th>CLASS_RANK</th><th>CLASS_RANK_HI_RNGE</th><th>CLASS_SIZE</th><th>EXPECT_GRAD_YR</th><th>EXPECT_GRAD_TRM</th><th>ENTRY_DTE</th><th>WITHDRAWAL_DTE</th><th>EXIT_REASON</th><th>EXIT_DTE</th><th>REENTRY_DTE</th><th>NUM_LEAVE_OF_ABSEN</th><th>LAST_LEAVE_OF_ABSE</th><th>LAST_LEAVE_OF_ABSE_END_DTE</th><th>STUD_GEN_INTENT</th><th>ADV_TREE_YR_CDE</th><th>ACTIVE</th><th>DEG_LOCK_FLG</th><th>DEGREE_PERIOD_CDE</th><th>NSC_DEGREE_PERIOD_CDE</th><th>PROGRAM_AREA_1</th><th>PROGRAM_AREA_2</th><th>HONORS_PROGRAM</th><th>OTHER_HONOR_1</th><th>OTHER_HONOR_2</th><th>OTHER_HONOR_3</th><th>COLL_AWARDING_DEG_1</th><th>COLL_AWARDING_DEG_2</th><th>DEG_APPLICATION_DTE</th><th>DEGREE_YR</th><th>DEGREE_TRM</th><th>DIPLOMA_NAME</th><th>DIPLOMA_ORDER_DTE</th><th>DIPLOMA_MAILED_DTE</th><th>IN_ABSENTIA</th><th>DIPLOMA_PICK_UP</th><th>OPE_ID</th><th>RESTRICTED_PROG_ADM_DEF_APPID</th><th>RECORD_CHANGE_DATE</th><th>ST_TX_LOC_REMOTE_DEF_APPID</th><th>REVERSE_TRANSFER_DEGREE</th><th>ACADEMIC_PLAN_START_YR_CDE</th><th>ACADEMIC_PLAN_START_TRM_CDE</th><th>UDEF_1A_1</th><th>UDEF_1A_2</th><th>UDEF_1A_3</th><th>UDEF_1A_4</th><th>UDEF_1A_5</th><th>UDEF_2A_1</th><th>UDEF_2A_2</th><th>UDEF_2A_3</th><th>UDEF_3A_1</th><th>UDEF_3A_2</th><th>UDEF_5A_1</th><th>UDEF_5A_2</th><th>UDEF_DTE_1</th><th>UDEF_DTE_2</th><th>UDEF_5_2_1</th><th>USDEF_5_2_2</th><th>UDEF_5_2_3</th><th>UDEF_5_2_4</th><th>APPROWVERSION</th><th>USER_NAME</th><th>JOB_NAME</th><th>JOB_TIME</th></tr><tr><td>9</td><td>480655</td><td>1</td><td>Y</td><td>N</td><td>UG</td><td>BA   </td><td>Y</td><td>BA   </td><td>2018-12-31 00:00:00.000</td><td>*LOCAL</td><td>LDRBA</td><td>NULL</td><td>NULL</td><td>NULL</td><td>NULL</td><td>NULL</td><td>NULL</td><td>NULL</td><td>NULL</td><td>NULL</td><td>NULL</td><td>NULL</td><td>NULL</td><td>NULL</td><td>NULL</td><td>NULL</td><td>NULL</td><td>GD   </td><td>NULL</td><td>NULL</td><td>NULL</td><td>NULL</td><td>NULL</td><td>2018</td><td>FA</td><td>2018-11-08 00:00:00.000</td><td>NULL</td><td>NULL</td><td>NULL</td><td>NULL</td><td>0</td><td>NULL</td><td>NULL</td><td>DC</td><td>NULL</td><td>Y</td><td>L</td><td>NULL</td><td>NULL</td><td>NULL</td><td>NULL</td><td>NULL</td><td>NULL</td><td>NULL</td><td>NULL</td><td>TW</td><td>NULL</td><td>NULL</td><td>NULL</td><td>NULL</td><td>NULL</td><td>NULL</td><td>NULL</td><td>N</td><td>N</td><td>NULL</td><td>NULL</td><td>2019-01-02 08:19:52.193</td><td>NULL</td><td>N</td><td>NULL</td><td>NULL</td><td>N</td><td>NULL</td><td>NULL</td><td>NULL</td><td>NULL</td><td>NULL</td><td>NULL</td><td>NULL</td><td>NULL</td><td>NULL</td><td>PICK </td><td>NULL</td><td>2019-02-14 00:00:00.000</td><td>NULL</td><td>0.00</td><td>0.00</td><td>0.00</td><td>0.00</td><td>0x000000000F9A9F27</td><td>JUSTINE.LEEDAM</td><td>UO_USER_DEFINED</td><td>2019-02-14 14:50:32.847</td></tr><tr><td>20</td><td>480694</td><td>2</td><td>N</td><td>N</td><td>GR</td><td>CLDR </td><td>Y</td><td>CLDR </td><td>2015-05-31 00:00:00.000</td><td>*LOCAL</td><td>NULL</td><td>NULL</td><td>NULL</td><td>NULL</td><td>NULL</td><td>NULL</td><td>NULL</td><td>NULL</td><td>NULL</td><td>NULL</td><td>NULL</td><td>NULL</td><td>NULL</td><td>NULL</td><td>NULL</td><td>NULL</td><td>NULL</td><td>NULL</td><td>NULL</td><td>NULL</td><td>NULL</td><td>NULL</td><td>NULL</td><td>NULL</td><td>NULL</td><td>2014-04-01 00:00:00.000</td><td>NULL</td><td>NULL</td><td>NULL</td><td>NULL</td><td>0</td><td>NULL</td><td>NULL</td><td>CM</td><td>NULL</td><td>N</td><td>L</td><td>NULL</td><td>NULL</td><td>NULL</td><td>NULL</td><td>NULL</td><td>NULL</td><td>NULL</td><td>NULL</td><td>NULL</td><td>NULL</td><td>NULL</td><td>NULL</td><td>NULL</td><td>NULL</td><td>NULL</td><td>NULL</td><td>N</td><td>N</td><td>NULL</td><td>NULL</td><td>2014-04-01 00:00:00.000</td><td>NULL</td><td>N</td><td>NULL</td><td>NULL</td><td>NULL</td><td>NULL</td><td>NULL</td><td>NULL</td><td>NULL</td><td>NULL</td><td>NULL</td><td>NULL</td><td>NULL</td><td>NULL</td><td>MAIL </td><td>NULL</td><td>2015-09-23 00:00:00.000</td><td>NULL</td><td>0.00</td><td>0.00</td><td>0.00</td><td>0.00</td><td>0x0000000002AFD29A</td><td>EVAN.STRELAU</td><td>UO_USER_DEFINED</td><td>2015-09-23 09:35:08.300</td></tr><tr><td>21</td><td>480694</td><td>3</td><td>Y</td><td>N</td><td>GR</td><td>MAAL </td><td>Y</td><td>MAAL </td><td>2016-12-31 00:00:00.000</td><td>*LOCAL</td><td>LEAMA</td><td>NULL</td><td>NULL</td><td>NULL</td><td>NULL</td><td>NULL</td><td>NULL</td><td>NULL</td><td>NULL</td><td>NULL</td><td>NULL</td><td>NULL</td><td>NULL</td><td>MLHLC</td><td>NULL</td><td>NULL</td><td>NULL</td><td>NULL</td><td>NULL</td><td>NULL</td><td>NULL</td><td>NULL</td><td>NULL</td><td>2017</td><td>SP</td><td>2018-11-08 00:00:00.000</td><td>NULL</td><td>NULL</td><td>NULL</td><td>NULL</td><td>0</td><td>NULL</td><td>NULL</td><td>ML</td><td>NULL</td><td>Y</td><td>L</td><td>NULL</td><td>NULL</td><td>NULL</td><td>NULL</td><td>NULL</td><td>NULL</td><td>NULL</td><td>NULL</td><td>NULL</td><td>NULL</td><td>NULL</td><td>NULL</td><td>NULL</td><td>NULL</td><td>NULL</td><td>NULL</td><td>N</td><td>N</td><td>NULL</td><td>NULL</td><td>2019-05-03 08:24:27.597</td><td>NULL</td><td>N</td><td>NULL</td><td>NULL</td><td>N</td><td>NULL</td><td>NULL</td><td>NULL</td><td>NULL</td><td>NULL</td><td>NULL</td><td>NULL</td><td>NULL</td><td>NULL</td><td>NULL</td><td>NULL</td><td>NULL</td><td>NULL</td><td>0.00</td><td>0.00</td><td>0.00</td><td>0.00</td><td>0x000000001A4346D2</td><td>ANNAMARIE.RYAN</td><td>w_student_info</td><td>2019-05-03 08:24:27.607</td></tr><tr><td>24</td><td>480697</td><td>1</td><td>Y</td><td>N</td><td>UG</td><td>BA   </td><td>Y</td><td>BA   </td><td>2016-05-31 00:00:00.000</td><td>*LOCAL</td><td>LDRBA</td><td>NULL</td><td>NULL</td><td>NULL</td><td>NULL</td><td>NULL</td><td>NULL</td><td>NULL</td><td>NULL</td><td>NULL</td><td>NULL</td><td>NULL</td><td>NULL</td><td>NULL</td><td>NULL</td><td>NULL</td><td>NULL</td><td>GD   </td><td>NULL</td><td>NULL</td><td>NULL</td><td>NULL</td><td>NULL</td><td>2016</td><td>SP</td><td>2013-04-29 00:00:00.000</td><td>NULL</td><td>NULL</td><td>NULL</td><td>NULL</td><td>0</td><td>NULL</td><td>NULL</td><td>DC</td><td>NULL</td><td>N</td><td>L</td><td>NULL</td><td>NULL</td><td>NULL</td><td>NULL</td><td>NULL</td><td>NULL</td><td>NULL</td><td>NULL</td><td>NULL</td><td>NULL</td><td>NULL</td><td>NULL</td><td>NULL</td><td>NULL</td><td>NULL</td><td>NULL</td><td>N</td><td>N</td><td>NULL</td><td>NULL</td><td>2013-04-29 00:00:00.000</td><td>NULL</td><td>N</td><td>NULL</td><td>NULL</td><td>Y</td><td>NULL</td><td>NULL</td><td>NULL</td><td>NULL</td><td>NULL</td><td>NULL</td><td>NULL</td><td>56 </td><td>NULL</td><td>NULL</td><td>NULL</td><td>NULL</td><td>NULL</td><td>0.00</td><td>0.00</td><td>0.00</td><td>0.00</td><td>0x0000000002AFD29E</td><td>EVAN.STRELAU</td><td>w_degree_history_update</td><td>2016-05-31 10:57:37.337</td></tr><tr><td>25</td><td>480698</td><td>1</td><td>Y</td><td>N</td><td>UG</td><td>BA   </td><td>Y</td><td>BA   </td><td>2016-12-31 00:00:00.000</td><td>*LOCAL</td><td>LDRBA</td><td>NULL</td><td>NULL</td><td>NULL</td><td>NULL</td><td>NULL</td><td>NULL</td><td>NULL</td><td>NULL</td><td>NULL</td><td>NULL</td><td>NULL</td><td>NULL</td><td>NULL</td><td>NULL</td><td>NULL</td><td>NULL</td><td>NULL</td><td>NULL</td><td>NULL</td><td>NULL</td><td>NULL</td><td>NULL</td><td>2016</td><td>FA</td><td>2018-11-08 00:00:00.000</td><td>NULL</td><td>GR</td><td>2016-12-31 00:00:00.000</td><td>NULL</td><td>0</td><td>NULL</td><td>NULL</td><td>II</td><td>NULL</td><td>N</td><td>L</td><td>NULL</td><td>NULL</td><td>NULL</td><td>NULL</td><td>NULL</td><td>NULL</td><td>NULL</td><td>NULL</td><td>TW</td><td>NULL</td><td>NULL</td><td>NULL</td><td>NULL</td><td>NULL</td><td>NULL</td><td>NULL</td><td>N</td><td>N</td><td>NULL</td><td>NULL</td><td>2018-11-07 18:01:45.927</td><td>NULL</td><td>N</td><td>NULL</td><td>NULL</td><td>Y</td><td>NULL</td><td>NULL</td><td>NULL</td><td>NULL</td><td>NULL</td><td>NULL</td><td>NULL</td><td>59 </td><td>NULL</td><td>PICK </td><td>NULL</td><td>2017-01-09 00:00:00.000</td><td>NULL</td><td>0.00</td><td>0.00</td><td>0.00</td><td>0.00</td><td>0x0000000003B79A4C</td><td>EMILY.GREENHALG</td><td>UO_USER_DEFINED</td><td>2017-01-20 16:05:16.773</td></tr><tr><td>30</td><td>480717</td><td>1</td><td>Y</td><td>N</td><td>SE</td><td>MWVK </td><td>Y</td><td>MWVK </td><td>2015-05-31 00:00:00.000</td><td>*LOCAL</td><td>SEMWK</td><td>NULL</td><td>NULL</td><td>NULL</td><td>NULL</td><td>NULL</td><td>NULL</td><td>NULL</td><td>NULL</td><td>NULL</td><td>NULL</td><td>NULL</td><td>NULL</td><td>NULL</td><td>NULL</td><td>NULL</td><td>NULL</td><td>NULL</td><td>NULL</td><td>NULL</td><td>NULL</td><td>NULL</td><td>NULL</td><td>NULL</td><td>NULL</td><td>2013-09-04 00:00:00.000</td><td>NULL</td><td>GR</td><td>2015-05-31 00:00:00.000</td><td>NULL</td><td>0</td><td>NULL</td><td>NULL</td><td>WK</td><td>2013</td><td>N</td><td>L</td><td>NULL</td><td>NULL</td><td>NULL</td><td>NULL</td><td>NULL</td><td>NULL</td><td>NULL</td><td>NULL</td><td>AT</td><td>NULL</td><td>NULL</td><td>NULL</td><td>NULL</td><td>NULL</td><td>NULL</td><td>NULL</td><td>N</td><td>N</td><td>NULL</td><td>NULL</td><td>2013-09-04 00:00:00.000</td><td>NULL</td><td>N</td><td>NULL</td><td>NULL</td><td>NULL</td><td>NULL</td><td>NULL</td><td>NULL</td><td>NULL</td><td>NULL</td><td>NULL</td><td>NULL</td><td>NULL</td><td>NULL</td><td>NULL</td><td>NULL</td><td>2015-06-01 00:00:00.000</td><td>NULL</td><td>0.00</td><td>0.00</td><td>0.00</td><td>0.00</td><td>0x0000000002AFD2A4</td><td>EVAN.STRELAU</td><td>w_student_info</td><td>2015-06-01 13:41:31.587</td></tr><tr><td>32</td><td>480723</td><td>2</td><td>Y</td><td>N</td><td>SE</td><td>MFT  </td><td>Y</td><td>MFT  </td><td>2017-05-31 00:00:00.000</td><td>*LOCAL</td><td>SEMFT</td><td>NULL</td><td>NULL</td><td>NULL</td><td>NULL</td><td>NULL</td><td>NULL</td><td>NULL</td><td>NULL</td><td>NULL</td><td>NULL</td><td>NULL</td><td>NULL</td><td>NULL</td><td>NULL</td><td>NULL</td><td>NULL</td><td>NULL</td><td>NULL</td><td>NULL</td><td>NULL</td><td>NULL</td><td>NULL</td><td>2017</td><td>SP</td><td>2018-11-08 00:00:00.000</td><td>NULL</td><td>GR</td><td>2017-05-31 00:00:00.000</td><td>NULL</td><td>0</td><td>NULL</td><td>NULL</td><td>FT</td><td>NULL</td><td>N</td><td>L</td><td>NULL</td><td>NULL</td><td>NULL</td><td>NULL</td><td>NULL</td><td>NULL</td><td>NULL</td><td>NULL</td><td>NULL</td><td>NULL</td><td>NULL</td><td>NULL</td><td>NULL</td><td>NULL</td><td>NULL</td><td>NULL</td><td>N</td><td>N</td><td>NULL</td><td>NULL</td><td>2018-11-07 18:01:45.927</td><td>NULL</td><td>N</td><td>NULL</td><td>NULL</td><td>Y</td><td>NULL</td><td>NULL</td><td>NULL</td><td>NULL</td><td>NULL</td><td>NULL</td><td>NULL</td><td>411</td><td>NULL</td><td>PICK </td><td>NULL</td><td>2017-06-19 00:00:00.000</td><td>NULL</td><td>0.00</td><td>0.00</td><td>0.00</td><td>0.00</td><td>0x0000000003B79A52</td><td>KELLI.ROTHWELL</td><td>UO_USER_DEFINED</td><td>2017-06-19 15:20:28.317</td></tr><tr><td>36</td><td>480756</td><td>1</td><td>Y</td><td>N</td><td>UG</td><td>BSC  </td><td>Y</td><td>BSC  </td><td>2018-05-31 00:00:00.000</td><td>*LOCAL</td><td>BIOBS</td><td>NULL</td><td>CORE </td><td>NULL</td><td>CHEM </td><td>NULL</td><td>NULL</td><td>NULL</td><td>NULL</td><td>NULL</td><td>NULL</td><td>NULL</td><td>NULL</td><td>NULL</td><td>NULL</td><td>NULL</td><td>NULL</td><td>GD   </td><td>NULL</td><td>NULL</td><td>NULL</td><td>NULL</td><td>NULL</td><td>2018</td><td>SP</td><td>2018-11-08 00:00:00.000</td><td>NULL</td><td>NULL</td><td>2018-05-31 00:00:00.000</td><td>NULL</td><td>0</td><td>NULL</td><td>NULL</td><td>NULL</td><td>2014</td><td>Y</td><td>L</td><td>NULL</td><td>NULL</td><td>NULL</td><td>NULL</td><td>NULL</td><td>NULL</td><td>NULL</td><td>NULL</td><td>NULL</td><td>NULL</td><td>NULL</td><td>NULL</td><td>NULL</td><td>NULL</td><td>NULL</td><td>NULL</td><td>N</td><td>N</td><td>NULL</td><td>NULL</td><td>2018-11-07 18:01:45.927</td><td>NULL</td><td>N</td><td>NULL</td><td>NULL</td><td>Y</td><td>NULL</td><td>NULL</td><td>NULL</td><td>NULL</td><td>NULL</td><td>NULL</td><td>NULL</td><td>54 </td><td>NULL</td><td>PICK </td><td>NULL</td><td>2018-06-05 00:00:00.000</td><td>NULL</td><td>0.00</td><td>0.00</td><td>0.00</td><td>0.00</td><td>0x0000000003B79A56</td><td>LAUREN.FRIESEN</td><td>UO_USER_DEFINED</td><td>2018-06-05 13:18:33.393</td></tr><tr><td>43</td><td>480767</td><td>1</td><td>Y</td><td>N</td><td>SE</td><td>MDV  </td><td>Y</td><td>MDV  </td><td>2017-05-31 00:00:00.000</td><td>*LOCAL</td><td>SEMDV</td><td>NULL</td><td>NULL</td><td>NULL</td><td>NULL</td><td>NULL</td><td>NULL</td><td>NULL</td><td>NULL</td><td>NULL</td><td>NULL</td><td>NULL</td><td>NULL</td><td>NULL</td><td>NULL</td><td>NULL</td><td>NULL</td><td>NULL</td><td>NULL</td><td>NULL</td><td>NULL</td><td>NULL</td><td>NULL</td><td>2017</td><td>SP</td><td>2013-09-04 00:00:00.000</td><td>NULL</td><td>GR</td><td>2017-05-31 00:00:00.000</td><td>NULL</td><td>0</td><td>NULL</td><td>NULL</td><td>MD</td><td>2013</td><td>N</td><td>L</td><td>NULL</td><td>NULL</td><td>NULL</td><td>NULL</td><td>NULL</td><td>NULL</td><td>NULL</td><td>NULL</td><td>AT</td><td>NULL</td><td>NULL</td><td>NULL</td><td>NULL</td><td>NULL</td><td>NULL</td><td>NULL</td><td>N</td><td>N</td><td>NULL</td><td>NULL</td><td>2013-09-04 00:00:00.000</td><td>NULL</td><td>N</td><td>NULL</td><td>NULL</td><td>Y</td><td>NULL</td><td>NULL</td><td>NULL</td><td>NULL</td><td>NULL</td><td>NULL</td><td>NULL</td><td>60 </td><td>NULL</td><td>PICK </td><td>NULL</td><td>2018-08-27 00:00:00.000</td><td>NULL</td><td>0.00</td><td>0.00</td><td>0.00</td><td>0.00</td><td>0x0000000002AFD2B1</td><td>TIFFANY.LOEWEN</td><td>UO_USER_DEFINED</td><td>2018-08-27 13:04:04.803</td></tr></table>"
      ]
     },
     "execution_count": 2,
     "metadata": {},
     "output_type": "execute_result"
    }
   ],
   "source": [
    "SELECT TOP 9 *\n",
    "FROM DEGREE_HISTORY\n",
    "WHERE DTE_DEGR_CONFERRED IS NOT NULL"
   ]
  },
  {
   "cell_type": "markdown",
   "metadata": {},
   "source": [
    "## Which tables are possibly related/needed?\n",
    "\n",
    "Definition tables:\n",
    "- CERTIFICATION_DEF\n",
    "- CONCENTRATION_DEF\n",
    "- DEGREE_DEFINITION\n",
    "- HONOR_DEFINITION\n",
    "- INSTIT_DIVISN_DEF\n",
    "- MAJOR_MINOR_DEF\n",
    "\n",
    "Other tables:\n",
    "- DEGREE_AIM_XREF\n",
    "- MINOR_MAJOR\n",
    "- CONCENTRATION_MAJOR"
   ]
  },
  {
   "cell_type": "markdown",
   "metadata": {},
   "source": [
    "## Which fields should be good to use?"
   ]
  },
  {
   "cell_type": "code",
   "execution_count": 3,
   "metadata": {
    "scrolled": false
   },
   "outputs": [
    {
     "data": {
      "text/html": [
       "(9 rows affected)"
      ]
     },
     "metadata": {},
     "output_type": "display_data"
    },
    {
     "data": {
      "text/html": [
       "Total execution time: 00:00:00.021"
      ]
     },
     "metadata": {},
     "output_type": "display_data"
    },
    {
     "data": {
      "application/vnd.dataresource+json": {
       "data": [
        {
         "0": "480655",
         "1": "Y",
         "10": "NULL",
         "11": "NULL",
         "12": "NULL",
         "13": "NULL",
         "14": "NULL",
         "15": "NULL",
         "16": "NULL",
         "17": "NULL",
         "18": "NULL",
         "19": "GD",
         "2": "UG",
         "20": "NULL",
         "21": "DC",
         "22": "NULL",
         "3": "BA",
         "4": "BA",
         "5": "2018-12-31 00:00:00.000",
         "6": "LDRBA",
         "7": "NULL",
         "8": "NULL",
         "9": "NULL"
        },
        {
         "0": "480694",
         "1": "N",
         "10": "NULL",
         "11": "NULL",
         "12": "NULL",
         "13": "NULL",
         "14": "NULL",
         "15": "NULL",
         "16": "NULL",
         "17": "NULL",
         "18": "NULL",
         "19": "NULL",
         "2": "GR",
         "20": "NULL",
         "21": "CM",
         "22": "NULL",
         "3": "CLDR",
         "4": "CLDR",
         "5": "2015-05-31 00:00:00.000",
         "6": "NULL",
         "7": "NULL",
         "8": "NULL",
         "9": "NULL"
        },
        {
         "0": "480694",
         "1": "Y",
         "10": "NULL",
         "11": "NULL",
         "12": "NULL",
         "13": "NULL",
         "14": "NULL",
         "15": "NULL",
         "16": "MLHLC",
         "17": "NULL",
         "18": "NULL",
         "19": "NULL",
         "2": "GR",
         "20": "NULL",
         "21": "ML",
         "22": "675425",
         "3": "MAAL",
         "4": "MAAL",
         "5": "2016-12-31 00:00:00.000",
         "6": "LEAMA",
         "7": "NULL",
         "8": "NULL",
         "9": "NULL"
        },
        {
         "0": "480697",
         "1": "Y",
         "10": "NULL",
         "11": "NULL",
         "12": "NULL",
         "13": "NULL",
         "14": "NULL",
         "15": "NULL",
         "16": "NULL",
         "17": "NULL",
         "18": "NULL",
         "19": "GD",
         "2": "UG",
         "20": "NULL",
         "21": "DC",
         "22": "NULL",
         "3": "BA",
         "4": "BA",
         "5": "2016-05-31 00:00:00.000",
         "6": "LDRBA",
         "7": "NULL",
         "8": "NULL",
         "9": "NULL"
        },
        {
         "0": "480698",
         "1": "Y",
         "10": "NULL",
         "11": "NULL",
         "12": "NULL",
         "13": "NULL",
         "14": "NULL",
         "15": "NULL",
         "16": "NULL",
         "17": "NULL",
         "18": "NULL",
         "19": "NULL",
         "2": "UG",
         "20": "NULL",
         "21": "II",
         "22": "NULL",
         "3": "BA",
         "4": "BA",
         "5": "2016-12-31 00:00:00.000",
         "6": "LDRBA",
         "7": "NULL",
         "8": "NULL",
         "9": "NULL"
        },
        {
         "0": "480717",
         "1": "Y",
         "10": "NULL",
         "11": "NULL",
         "12": "NULL",
         "13": "NULL",
         "14": "NULL",
         "15": "NULL",
         "16": "NULL",
         "17": "NULL",
         "18": "NULL",
         "19": "NULL",
         "2": "SE",
         "20": "NULL",
         "21": "WK",
         "22": "NULL",
         "3": "MWVK",
         "4": "MWVK",
         "5": "2015-05-31 00:00:00.000",
         "6": "SEMWK",
         "7": "NULL",
         "8": "NULL",
         "9": "NULL"
        },
        {
         "0": "480723",
         "1": "Y",
         "10": "NULL",
         "11": "NULL",
         "12": "NULL",
         "13": "NULL",
         "14": "NULL",
         "15": "NULL",
         "16": "NULL",
         "17": "NULL",
         "18": "NULL",
         "19": "NULL",
         "2": "SE",
         "20": "NULL",
         "21": "FT",
         "22": "630956",
         "3": "MFT",
         "4": "MFT",
         "5": "2017-05-31 00:00:00.000",
         "6": "SEMFT",
         "7": "NULL",
         "8": "NULL",
         "9": "NULL"
        },
        {
         "0": "480756",
         "1": "Y",
         "10": "NULL",
         "11": "NULL",
         "12": "NULL",
         "13": "NULL",
         "14": "NULL",
         "15": "NULL",
         "16": "NULL",
         "17": "NULL",
         "18": "NULL",
         "19": "GD",
         "2": "UG",
         "20": "NULL",
         "21": "NULL",
         "22": "NULL",
         "3": "BSC",
         "4": "BSC",
         "5": "2018-05-31 00:00:00.000",
         "6": "BIOBS",
         "7": "NULL",
         "8": "CORE",
         "9": "CHEM"
        },
        {
         "0": "480767",
         "1": "Y",
         "10": "NULL",
         "11": "NULL",
         "12": "NULL",
         "13": "NULL",
         "14": "NULL",
         "15": "NULL",
         "16": "NULL",
         "17": "NULL",
         "18": "NULL",
         "19": "NULL",
         "2": "SE",
         "20": "NULL",
         "21": "MD",
         "22": "NULL",
         "3": "MDV",
         "4": "MDV",
         "5": "2017-05-31 00:00:00.000",
         "6": "SEMDV",
         "7": "NULL",
         "8": "NULL",
         "9": "NULL"
        }
       ],
       "schema": {
        "fields": [
         {
          "name": "ID_NUM"
         },
         {
          "name": "CUR_DEGREE"
         },
         {
          "name": "DIV_CDE"
         },
         {
          "name": "DEGR_CDE"
         },
         {
          "name": "ACAD_DEGR_CDE"
         },
         {
          "name": "DTE_DEGR_CONFERRED"
         },
         {
          "name": "MAJOR_1"
         },
         {
          "name": "MAJOR_2"
         },
         {
          "name": "MAJOR_3"
         },
         {
          "name": "MINOR_1"
         },
         {
          "name": "MINOR_2"
         },
         {
          "name": "MINOR_3"
         },
         {
          "name": "CONCENTRATION_1"
         },
         {
          "name": "CONCENTRATION_2"
         },
         {
          "name": "CONCENTRATION_3"
         },
         {
          "name": "CONCENTRATION_4"
         },
         {
          "name": "CERTIFICATION_1"
         },
         {
          "name": "CERTIFICATION_2"
         },
         {
          "name": "CERTIFICATION_3"
         },
         {
          "name": "DEGR_HONORS_1"
         },
         {
          "name": "DEGR_HONORS_2"
         },
         {
          "name": "STUD_GEN_INTENT"
         },
         {
          "name": "CANDIDACY_ID"
         }
        ]
       }
      },
      "text/html": [
       "<table><tr><th>ID_NUM</th><th>CUR_DEGREE</th><th>DIV_CDE</th><th>DEGR_CDE</th><th>ACAD_DEGR_CDE</th><th>DTE_DEGR_CONFERRED</th><th>MAJOR_1</th><th>MAJOR_2</th><th>MAJOR_3</th><th>MINOR_1</th><th>MINOR_2</th><th>MINOR_3</th><th>CONCENTRATION_1</th><th>CONCENTRATION_2</th><th>CONCENTRATION_3</th><th>CONCENTRATION_4</th><th>CERTIFICATION_1</th><th>CERTIFICATION_2</th><th>CERTIFICATION_3</th><th>DEGR_HONORS_1</th><th>DEGR_HONORS_2</th><th>STUD_GEN_INTENT</th><th>CANDIDACY_ID</th></tr><tr><td>480655</td><td>Y</td><td>UG</td><td>BA</td><td>BA</td><td>2018-12-31 00:00:00.000</td><td>LDRBA</td><td>NULL</td><td>NULL</td><td>NULL</td><td>NULL</td><td>NULL</td><td>NULL</td><td>NULL</td><td>NULL</td><td>NULL</td><td>NULL</td><td>NULL</td><td>NULL</td><td>GD</td><td>NULL</td><td>DC</td><td>NULL</td></tr><tr><td>480694</td><td>N</td><td>GR</td><td>CLDR</td><td>CLDR</td><td>2015-05-31 00:00:00.000</td><td>NULL</td><td>NULL</td><td>NULL</td><td>NULL</td><td>NULL</td><td>NULL</td><td>NULL</td><td>NULL</td><td>NULL</td><td>NULL</td><td>NULL</td><td>NULL</td><td>NULL</td><td>NULL</td><td>NULL</td><td>CM</td><td>NULL</td></tr><tr><td>480694</td><td>Y</td><td>GR</td><td>MAAL</td><td>MAAL</td><td>2016-12-31 00:00:00.000</td><td>LEAMA</td><td>NULL</td><td>NULL</td><td>NULL</td><td>NULL</td><td>NULL</td><td>NULL</td><td>NULL</td><td>NULL</td><td>NULL</td><td>MLHLC</td><td>NULL</td><td>NULL</td><td>NULL</td><td>NULL</td><td>ML</td><td>675425</td></tr><tr><td>480697</td><td>Y</td><td>UG</td><td>BA</td><td>BA</td><td>2016-05-31 00:00:00.000</td><td>LDRBA</td><td>NULL</td><td>NULL</td><td>NULL</td><td>NULL</td><td>NULL</td><td>NULL</td><td>NULL</td><td>NULL</td><td>NULL</td><td>NULL</td><td>NULL</td><td>NULL</td><td>GD</td><td>NULL</td><td>DC</td><td>NULL</td></tr><tr><td>480698</td><td>Y</td><td>UG</td><td>BA</td><td>BA</td><td>2016-12-31 00:00:00.000</td><td>LDRBA</td><td>NULL</td><td>NULL</td><td>NULL</td><td>NULL</td><td>NULL</td><td>NULL</td><td>NULL</td><td>NULL</td><td>NULL</td><td>NULL</td><td>NULL</td><td>NULL</td><td>NULL</td><td>NULL</td><td>II</td><td>NULL</td></tr><tr><td>480717</td><td>Y</td><td>SE</td><td>MWVK</td><td>MWVK</td><td>2015-05-31 00:00:00.000</td><td>SEMWK</td><td>NULL</td><td>NULL</td><td>NULL</td><td>NULL</td><td>NULL</td><td>NULL</td><td>NULL</td><td>NULL</td><td>NULL</td><td>NULL</td><td>NULL</td><td>NULL</td><td>NULL</td><td>NULL</td><td>WK</td><td>NULL</td></tr><tr><td>480723</td><td>Y</td><td>SE</td><td>MFT</td><td>MFT</td><td>2017-05-31 00:00:00.000</td><td>SEMFT</td><td>NULL</td><td>NULL</td><td>NULL</td><td>NULL</td><td>NULL</td><td>NULL</td><td>NULL</td><td>NULL</td><td>NULL</td><td>NULL</td><td>NULL</td><td>NULL</td><td>NULL</td><td>NULL</td><td>FT</td><td>630956</td></tr><tr><td>480756</td><td>Y</td><td>UG</td><td>BSC</td><td>BSC</td><td>2018-05-31 00:00:00.000</td><td>BIOBS</td><td>NULL</td><td>CORE</td><td>CHEM</td><td>NULL</td><td>NULL</td><td>NULL</td><td>NULL</td><td>NULL</td><td>NULL</td><td>NULL</td><td>NULL</td><td>NULL</td><td>GD</td><td>NULL</td><td>NULL</td><td>NULL</td></tr><tr><td>480767</td><td>Y</td><td>SE</td><td>MDV</td><td>MDV</td><td>2017-05-31 00:00:00.000</td><td>SEMDV</td><td>NULL</td><td>NULL</td><td>NULL</td><td>NULL</td><td>NULL</td><td>NULL</td><td>NULL</td><td>NULL</td><td>NULL</td><td>NULL</td><td>NULL</td><td>NULL</td><td>NULL</td><td>NULL</td><td>MD</td><td>NULL</td></tr></table>"
      ]
     },
     "execution_count": 3,
     "metadata": {},
     "output_type": "execute_result"
    }
   ],
   "source": [
    "SELECT top 9\n",
    "    d.ID_NUM,\n",
    "    d.CUR_DEGREE,\n",
    "    d.DIV_CDE,\n",
    "    d.DEGR_CDE,\n",
    "    d.ACAD_DEGR_CDE,\n",
    "    d.DTE_DEGR_CONFERRED,\n",
    "    d.MAJOR_1,\n",
    "    d.MAJOR_2,\n",
    "    d.MAJOR_3,\n",
    "    d.MINOR_1,\n",
    "    d.MINOR_2,\n",
    "    d.MINOR_3,\n",
    "    d.CONCENTRATION_1,\n",
    "    d.CONCENTRATION_2,\n",
    "    d.CONCENTRATION_3,\n",
    "    d.CONCENTRATION_4,\n",
    "    d.CERTIFICATION_1,\n",
    "    d.CERTIFICATION_2,\n",
    "    d.CERTIFICATION_3,\n",
    "    d.DEGR_HONORS_1,\n",
    "    d.DEGR_HONORS_2,\n",
    "    d.STUD_GEN_INTENT,\n",
    "    aq.CANDIDACY_ID\n",
    "FROM DEGREE_HISTORY d\n",
    "LEFT JOIN DEGREE_HISTORY_UDF aq ON d.ID_NUM = aq.ID_NUM AND d.SEQ_NUM_2 = aq.SEQ_NUM_2\n",
    "WHERE d.DTE_DEGR_CONFERRED IS NOT NULL"
   ]
  },
  {
   "cell_type": "markdown",
   "metadata": {},
   "source": [
    "## How many degrees, major, minor, concentration, certification?"
   ]
  },
  {
   "cell_type": "code",
   "execution_count": 4,
   "metadata": {
    "scrolled": true
   },
   "outputs": [
    {
     "data": {
      "text/html": [
       "(57 rows affected)"
      ]
     },
     "metadata": {},
     "output_type": "display_data"
    },
    {
     "data": {
      "text/html": [
       "Total execution time: 00:00:00.499"
      ]
     },
     "metadata": {},
     "output_type": "display_data"
    },
    {
     "data": {
      "application/vnd.dataresource+json": {
       "data": [
        {
         "0": "AA",
         "1": "1014",
         "10": "0",
         "11": "0",
         "12": "1",
         "13": "0",
         "14": "0",
         "15": "0",
         "16": "0",
         "17": "0",
         "18": "0",
         "2": "10",
         "3": "0",
         "4": "0",
         "5": "1",
         "6": "10",
         "7": "0",
         "8": "0",
         "9": "0"
        },
        {
         "0": "AAA",
         "1": "148",
         "10": "0",
         "11": "0",
         "12": "0",
         "13": "0",
         "14": "0",
         "15": "4",
         "16": "0",
         "17": "0",
         "18": "0",
         "2": "148",
         "3": "0",
         "4": "4",
         "5": "0",
         "6": "148",
         "7": "0",
         "8": "0",
         "9": "0"
        },
        {
         "0": "BA",
         "1": "8084",
         "10": "915",
         "11": "193",
         "12": "1008",
         "13": "29",
         "14": "3",
         "15": "1534",
         "16": "292",
         "17": "14",
         "18": "1",
         "2": "8074",
         "3": "3128",
         "4": "1540",
         "5": "1013",
         "6": "8074",
         "7": "145",
         "8": "466",
         "9": "3113"
        },
        {
         "0": "BAH",
         "1": "326",
         "10": "6",
         "11": "0",
         "12": "37",
         "13": "0",
         "14": "0",
         "15": "23",
         "16": "0",
         "17": "0",
         "18": "0",
         "2": "325",
         "3": "112",
         "4": "23",
         "5": "37",
         "6": "325",
         "7": "7",
         "8": "19",
         "9": "112"
        },
        {
         "0": "BBA",
         "1": "1202",
         "10": "2",
         "11": "0",
         "12": "800",
         "13": "93",
         "14": "3",
         "15": "9",
         "16": "0",
         "17": "0",
         "18": "0",
         "2": "1202",
         "3": "66",
         "4": "9",
         "5": "801",
         "6": "1202",
         "7": "0",
         "8": "173",
         "9": "66"
        },
        {
         "0": "BBAH",
         "1": "112",
         "10": "0",
         "11": "0",
         "12": "86",
         "13": "53",
         "14": "5",
         "15": "3",
         "16": "0",
         "17": "0",
         "18": "0",
         "2": "112",
         "3": "8",
         "4": "3",
         "5": "87",
         "6": "112",
         "7": "1",
         "8": "12",
         "9": "8"
        },
        {
         "0": "BED",
         "1": "771",
         "10": "62",
         "11": "1",
         "12": "8",
         "13": "0",
         "14": "0",
         "15": "43",
         "16": "8",
         "17": "0",
         "18": "0",
         "2": "272",
         "3": "104",
         "4": "43",
         "5": "8",
         "6": "272",
         "7": "14",
         "8": "2",
         "9": "103"
        },
        {
         "0": "BFAA",
         "1": "22",
         "10": "0",
         "11": "0",
         "12": "0",
         "13": "0",
         "14": "0",
         "15": "0",
         "16": "0",
         "17": "0",
         "18": "0",
         "2": "22",
         "3": "2",
         "4": "0",
         "5": "0",
         "6": "22",
         "7": "0",
         "8": "5",
         "9": "2"
        },
        {
         "0": "BHK",
         "1": "459",
         "10": "0",
         "11": "0",
         "12": "379",
         "13": "2",
         "14": "15",
         "15": "29",
         "16": "0",
         "17": "0",
         "18": "0",
         "2": "459",
         "3": "56",
         "4": "29",
         "5": "394",
         "6": "459",
         "7": "0",
         "8": "67",
         "9": "56"
        },
        {
         "0": "BPE",
         "1": "2",
         "10": "0",
         "11": "0",
         "12": "0",
         "13": "0",
         "14": "0",
         "15": "0",
         "16": "0",
         "17": "0",
         "18": "0",
         "2": "0",
         "3": "0",
         "4": "0",
         "5": "0",
         "6": "0",
         "7": "0",
         "8": "0",
         "9": "0"
        },
        {
         "0": "BSC",
         "1": "947",
         "10": "28",
         "11": "0",
         "12": "79",
         "13": "1",
         "14": "8",
         "15": "116",
         "16": "19",
         "17": "1",
         "18": "0",
         "2": "946",
         "3": "360",
         "4": "116",
         "5": "87",
         "6": "946",
         "7": "15",
         "8": "86",
         "9": "360"
        },
        {
         "0": "BSCH",
         "1": "63",
         "10": "0",
         "11": "0",
         "12": "27",
         "13": "1",
         "14": "0",
         "15": "3",
         "16": "0",
         "17": "0",
         "18": "0",
         "2": "63",
         "3": "22",
         "4": "3",
         "5": "27",
         "6": "63",
         "7": "3",
         "8": "5",
         "9": "22"
        },
        {
         "0": "BSCN",
         "1": "824",
         "10": "0",
         "11": "0",
         "12": "1",
         "13": "0",
         "14": "0",
         "15": "3",
         "16": "0",
         "17": "0",
         "18": "0",
         "2": "824",
         "3": "34",
         "4": "3",
         "5": "1",
         "6": "824",
         "7": "0",
         "8": "133",
         "9": "34"
        },
        {
         "0": "CBIB",
         "1": "4",
         "10": "0",
         "11": "0",
         "12": "0",
         "13": "0",
         "14": "0",
         "15": "0",
         "16": "0",
         "17": "0",
         "18": "0",
         "2": "0",
         "3": "0",
         "4": "0",
         "5": "0",
         "6": "0",
         "7": "0",
         "8": "0",
         "9": "0"
        },
        {
         "0": "CCHPL",
         "1": "1",
         "10": "0",
         "11": "0",
         "12": "0",
         "13": "0",
         "14": "0",
         "15": "0",
         "16": "0",
         "17": "0",
         "18": "0",
         "2": "0",
         "3": "0",
         "4": "0",
         "5": "0",
         "6": "0",
         "7": "0",
         "8": "0",
         "9": "0"
        },
        {
         "0": "CCS",
         "1": "1",
         "10": "0",
         "11": "0",
         "12": "0",
         "13": "0",
         "14": "0",
         "15": "0",
         "16": "0",
         "17": "0",
         "18": "0",
         "2": "0",
         "3": "0",
         "4": "0",
         "5": "0",
         "6": "0",
         "7": "0",
         "8": "0",
         "9": "0"
        },
        {
         "0": "CE",
         "1": "343",
         "10": "0",
         "11": "0",
         "12": "342",
         "13": "9",
         "14": "3",
         "15": "0",
         "16": "0",
         "17": "0",
         "18": "0",
         "2": "0",
         "3": "0",
         "4": "0",
         "5": "342",
         "6": "0",
         "7": "0",
         "8": "0",
         "9": "0"
        },
        {
         "0": "CELD",
         "1": "9",
         "10": "0",
         "11": "0",
         "12": "0",
         "13": "0",
         "14": "0",
         "15": "0",
         "16": "0",
         "17": "0",
         "18": "0",
         "2": "0",
         "3": "0",
         "4": "0",
         "5": "0",
         "6": "0",
         "7": "0",
         "8": "0",
         "9": "0"
        },
        {
         "0": "CLDR",
         "1": "6",
         "10": "0",
         "11": "0",
         "12": "0",
         "13": "0",
         "14": "0",
         "15": "0",
         "16": "0",
         "17": "0",
         "18": "0",
         "2": "0",
         "3": "0",
         "4": "0",
         "5": "0",
         "6": "0",
         "7": "0",
         "8": "0",
         "9": "0"
        },
        {
         "0": "CPC",
         "1": "5",
         "10": "0",
         "11": "0",
         "12": "4",
         "13": "0",
         "14": "0",
         "15": "0",
         "16": "0",
         "17": "0",
         "18": "0",
         "2": "0",
         "3": "0",
         "4": "0",
         "5": "4",
         "6": "0",
         "7": "0",
         "8": "0",
         "9": "0"
        },
        {
         "0": "CS",
         "1": "1",
         "10": "0",
         "11": "0",
         "12": "0",
         "13": "0",
         "14": "0",
         "15": "0",
         "16": "0",
         "17": "0",
         "18": "0",
         "2": "0",
         "3": "0",
         "4": "0",
         "5": "0",
         "6": "0",
         "7": "0",
         "8": "0",
         "9": "0"
        },
        {
         "0": "DCS",
         "1": "58",
         "10": "0",
         "11": "0",
         "12": "1",
         "13": "0",
         "14": "0",
         "15": "0",
         "16": "0",
         "17": "0",
         "18": "0",
         "2": "7",
         "3": "0",
         "4": "0",
         "5": "1",
         "6": "7",
         "7": "0",
         "8": "0",
         "9": "0"
        },
        {
         "0": "DMN",
         "1": "31",
         "10": "0",
         "11": "0",
         "12": "0",
         "13": "0",
         "14": "0",
         "15": "0",
         "16": "0",
         "17": "0",
         "18": "0",
         "2": "3",
         "3": "0",
         "4": "0",
         "5": "0",
         "6": "3",
         "7": "0",
         "8": "0",
         "9": "0"
        },
        {
         "0": "DWVK",
         "1": "116",
         "10": "0",
         "11": "0",
         "12": "0",
         "13": "0",
         "14": "0",
         "15": "0",
         "16": "0",
         "17": "0",
         "18": "0",
         "2": "115",
         "3": "0",
         "4": "0",
         "5": "0",
         "6": "115",
         "7": "0",
         "8": "0",
         "9": "0"
        },
        {
         "0": "EMBA",
         "1": "2",
         "10": "0",
         "11": "0",
         "12": "2",
         "13": "0",
         "14": "0",
         "15": "0",
         "16": "0",
         "17": "0",
         "18": "0",
         "2": "2",
         "3": "0",
         "4": "0",
         "5": "2",
         "6": "2",
         "7": "0",
         "8": "0",
         "9": "0"
        },
        {
         "0": "ESL",
         "1": "457",
         "10": "0",
         "11": "0",
         "12": "454",
         "13": "0",
         "14": "0",
         "15": "0",
         "16": "0",
         "17": "0",
         "18": "0",
         "2": "1",
         "3": "0",
         "4": "0",
         "5": "454",
         "6": "1",
         "7": "0",
         "8": "0",
         "9": "0"
        },
        {
         "0": "IMBA",
         "1": "14",
         "10": "0",
         "11": "0",
         "12": "2",
         "13": "0",
         "14": "0",
         "15": "0",
         "16": "0",
         "17": "0",
         "18": "0",
         "2": "13",
         "3": "0",
         "4": "0",
         "5": "2",
         "6": "13",
         "7": "0",
         "8": "0",
         "9": "0"
        },
        {
         "0": "MAAL",
         "1": "560",
         "10": "0",
         "11": "0",
         "12": "392",
         "13": "1",
         "14": "0",
         "15": "0",
         "16": "0",
         "17": "0",
         "18": "0",
         "2": "560",
         "3": "0",
         "4": "0",
         "5": "392",
         "6": "560",
         "7": "0",
         "8": "0",
         "9": "0"
        },
        {
         "0": "MAC",
         "1": "306",
         "10": "0",
         "11": "0",
         "12": "12",
         "13": "0",
         "14": "0",
         "15": "0",
         "16": "0",
         "17": "0",
         "18": "0",
         "2": "61",
         "3": "0",
         "4": "0",
         "5": "12",
         "6": "61",
         "7": "0",
         "8": "0",
         "9": "0"
        },
        {
         "0": "MACQ",
         "1": "19",
         "10": "0",
         "11": "0",
         "12": "12",
         "13": "0",
         "14": "0",
         "15": "0",
         "16": "0",
         "17": "0",
         "18": "0",
         "2": "18",
         "3": "0",
         "4": "0",
         "5": "12",
         "6": "18",
         "7": "0",
         "8": "0",
         "9": "0"
        },
        {
         "0": "MAEL",
         "1": "57",
         "10": "0",
         "11": "0",
         "12": "1",
         "13": "0",
         "14": "0",
         "15": "0",
         "16": "0",
         "17": "0",
         "18": "0",
         "2": "57",
         "3": "0",
         "4": "0",
         "5": "1",
         "6": "57",
         "7": "0",
         "8": "0",
         "9": "0"
        },
        {
         "0": "MAES",
         "1": "12",
         "10": "0",
         "11": "0",
         "12": "8",
         "13": "0",
         "14": "0",
         "15": "0",
         "16": "0",
         "17": "0",
         "18": "0",
         "2": "12",
         "3": "0",
         "4": "0",
         "5": "8",
         "6": "12",
         "7": "0",
         "8": "0",
         "9": "0"
        },
        {
         "0": "MAH",
         "1": "91",
         "10": "0",
         "11": "0",
         "12": "12",
         "13": "0",
         "14": "0",
         "15": "0",
         "16": "0",
         "17": "0",
         "18": "0",
         "2": "91",
         "3": "0",
         "4": "0",
         "5": "12",
         "6": "91",
         "7": "0",
         "8": "0",
         "9": "0"
        },
        {
         "0": "MALM",
         "1": "95",
         "10": "0",
         "11": "0",
         "12": "21",
         "13": "0",
         "14": "0",
         "15": "0",
         "16": "0",
         "17": "0",
         "18": "0",
         "2": "89",
         "3": "0",
         "4": "0",
         "5": "21",
         "6": "89",
         "7": "0",
         "8": "0",
         "9": "0"
        },
        {
         "0": "MALT",
         "1": "10",
         "10": "0",
         "11": "0",
         "12": "2",
         "13": "0",
         "14": "0",
         "15": "0",
         "16": "0",
         "17": "0",
         "18": "0",
         "2": "10",
         "3": "0",
         "4": "0",
         "5": "2",
         "6": "10",
         "7": "0",
         "8": "0",
         "9": "0"
        },
        {
         "0": "MARC",
         "1": "12",
         "10": "0",
         "11": "0",
         "12": "0",
         "13": "0",
         "14": "0",
         "15": "0",
         "16": "0",
         "17": "0",
         "18": "0",
         "2": "0",
         "3": "0",
         "4": "0",
         "5": "0",
         "6": "0",
         "7": "0",
         "8": "0",
         "9": "0"
        },
        {
         "0": "MBA",
         "1": "325",
         "10": "0",
         "11": "0",
         "12": "189",
         "13": "0",
         "14": "0",
         "15": "0",
         "16": "0",
         "17": "0",
         "18": "0",
         "2": "324",
         "3": "0",
         "4": "0",
         "5": "189",
         "6": "324",
         "7": "0",
         "8": "0",
         "9": "0"
        },
        {
         "0": "MBAGW",
         "1": "47",
         "10": "0",
         "11": "0",
         "12": "47",
         "13": "0",
         "14": "0",
         "15": "0",
         "16": "0",
         "17": "0",
         "18": "0",
         "2": "47",
         "3": "0",
         "4": "0",
         "5": "47",
         "6": "47",
         "7": "0",
         "8": "0",
         "9": "0"
        },
        {
         "0": "MBIB",
         "1": "88",
         "10": "0",
         "11": "0",
         "12": "0",
         "13": "0",
         "14": "0",
         "15": "0",
         "16": "0",
         "17": "0",
         "18": "0",
         "2": "88",
         "3": "0",
         "4": "0",
         "5": "0",
         "6": "88",
         "7": "0",
         "8": "0",
         "9": "0"
        },
        {
         "0": "MC",
         "1": "124",
         "10": "0",
         "11": "0",
         "12": "0",
         "13": "0",
         "14": "0",
         "15": "0",
         "16": "0",
         "17": "0",
         "18": "0",
         "2": "0",
         "3": "0",
         "4": "0",
         "5": "0",
         "6": "0",
         "7": "0",
         "8": "0",
         "9": "0"
        },
        {
         "0": "MCHM",
         "1": "23",
         "10": "0",
         "11": "0",
         "12": "0",
         "13": "0",
         "14": "0",
         "15": "0",
         "16": "0",
         "17": "0",
         "18": "0",
         "2": "0",
         "3": "0",
         "4": "0",
         "5": "0",
         "6": "0",
         "7": "0",
         "8": "0",
         "9": "0"
        },
        {
         "0": "MCM",
         "1": "36",
         "10": "0",
         "11": "0",
         "12": "0",
         "13": "0",
         "14": "0",
         "15": "0",
         "16": "0",
         "17": "0",
         "18": "0",
         "2": "0",
         "3": "0",
         "4": "0",
         "5": "0",
         "6": "0",
         "7": "0",
         "8": "0",
         "9": "0"
        },
        {
         "0": "MCP",
         "1": "450",
         "10": "0",
         "11": "0",
         "12": "92",
         "13": "0",
         "14": "0",
         "15": "0",
         "16": "0",
         "17": "0",
         "18": "0",
         "2": "93",
         "3": "0",
         "4": "0",
         "5": "92",
         "6": "93",
         "7": "0",
         "8": "0",
         "9": "0"
        },
        {
         "0": "MDV",
         "1": "240",
         "10": "0",
         "11": "0",
         "12": "2",
         "13": "0",
         "14": "0",
         "15": "0",
         "16": "0",
         "17": "0",
         "18": "0",
         "2": "13",
         "3": "0",
         "4": "0",
         "5": "2",
         "6": "13",
         "7": "0",
         "8": "0",
         "9": "0"
        },
        {
         "0": "MFT",
         "1": "90",
         "10": "0",
         "11": "0",
         "12": "0",
         "13": "0",
         "14": "0",
         "15": "0",
         "16": "0",
         "17": "0",
         "18": "0",
         "2": "40",
         "3": "0",
         "4": "0",
         "5": "0",
         "6": "40",
         "7": "0",
         "8": "0",
         "9": "0"
        },
        {
         "0": "MLE",
         "1": "207",
         "10": "0",
         "11": "0",
         "12": "1",
         "13": "0",
         "14": "0",
         "15": "0",
         "16": "0",
         "17": "0",
         "18": "0",
         "2": "27",
         "3": "0",
         "4": "0",
         "5": "1",
         "6": "27",
         "7": "0",
         "8": "0",
         "9": "0"
        },
        {
         "0": "MLIN",
         "1": "78",
         "10": "0",
         "11": "0",
         "12": "11",
         "13": "0",
         "14": "0",
         "15": "0",
         "16": "0",
         "17": "0",
         "18": "0",
         "2": "78",
         "3": "0",
         "4": "0",
         "5": "11",
         "6": "78",
         "7": "0",
         "8": "0",
         "9": "0"
        },
        {
         "0": "MMN",
         "1": "57",
         "10": "0",
         "11": "0",
         "12": "0",
         "13": "0",
         "14": "0",
         "15": "0",
         "16": "0",
         "17": "0",
         "18": "0",
         "2": "0",
         "3": "0",
         "4": "0",
         "5": "0",
         "6": "0",
         "7": "0",
         "8": "0",
         "9": "0"
        },
        {
         "0": "MRE",
         "1": "82",
         "10": "0",
         "11": "0",
         "12": "0",
         "13": "0",
         "14": "0",
         "15": "0",
         "16": "0",
         "17": "0",
         "18": "0",
         "2": "0",
         "3": "0",
         "4": "0",
         "5": "0",
         "6": "0",
         "7": "0",
         "8": "0",
         "9": "0"
        },
        {
         "0": "MSC",
         "1": "97",
         "10": "0",
         "11": "0",
         "12": "0",
         "13": "0",
         "14": "0",
         "15": "0",
         "16": "0",
         "17": "0",
         "18": "0",
         "2": "0",
         "3": "0",
         "4": "0",
         "5": "0",
         "6": "0",
         "7": "0",
         "8": "0",
         "9": "0"
        },
        {
         "0": "MSN",
         "1": "109",
         "10": "0",
         "11": "0",
         "12": "11",
         "13": "0",
         "14": "0",
         "15": "0",
         "16": "0",
         "17": "0",
         "18": "0",
         "2": "109",
         "3": "0",
         "4": "0",
         "5": "11",
         "6": "109",
         "7": "0",
         "8": "0",
         "9": "0"
        },
        {
         "0": "MT",
         "1": "11",
         "10": "0",
         "11": "0",
         "12": "0",
         "13": "0",
         "14": "0",
         "15": "0",
         "16": "0",
         "17": "0",
         "18": "0",
         "2": "0",
         "3": "0",
         "4": "0",
         "5": "0",
         "6": "0",
         "7": "0",
         "8": "0",
         "9": "0"
        },
        {
         "0": "MTES",
         "1": "161",
         "10": "0",
         "11": "0",
         "12": "18",
         "13": "0",
         "14": "0",
         "15": "0",
         "16": "0",
         "17": "0",
         "18": "0",
         "2": "161",
         "3": "0",
         "4": "0",
         "5": "18",
         "6": "161",
         "7": "0",
         "8": "0",
         "9": "0"
        },
        {
         "0": "MTS",
         "1": "107",
         "10": "0",
         "11": "0",
         "12": "1",
         "13": "0",
         "14": "0",
         "15": "0",
         "16": "0",
         "17": "0",
         "18": "0",
         "2": "11",
         "3": "0",
         "4": "0",
         "5": "1",
         "6": "11",
         "7": "0",
         "8": "0",
         "9": "0"
        },
        {
         "0": "MWVK",
         "1": "118",
         "10": "0",
         "11": "0",
         "12": "49",
         "13": "0",
         "14": "0",
         "15": "0",
         "16": "0",
         "17": "0",
         "18": "0",
         "2": "117",
         "3": "0",
         "4": "0",
         "5": "49",
         "6": "117",
         "7": "0",
         "8": "0",
         "9": "0"
        },
        {
         "0": "PT",
         "1": "164",
         "10": "0",
         "11": "0",
         "12": "163",
         "13": "0",
         "14": "0",
         "15": "0",
         "16": "0",
         "17": "0",
         "18": "0",
         "2": "0",
         "3": "0",
         "4": "0",
         "5": "163",
         "6": "0",
         "7": "0",
         "8": "0",
         "9": "0"
        },
        {
         "0": "PTC",
         "1": "525",
         "10": "0",
         "11": "0",
         "12": "516",
         "13": "0",
         "14": "0",
         "15": "0",
         "16": "0",
         "17": "0",
         "18": "0",
         "2": "0",
         "3": "0",
         "4": "0",
         "5": "516",
         "6": "0",
         "7": "0",
         "8": "0",
         "9": "0"
        }
       ],
       "schema": {
        "fields": [
         {
          "name": "DEGR_CDE"
         },
         {
          "name": "TotalConferred"
         },
         {
          "name": "WithMajors"
         },
         {
          "name": "WithMinors"
         },
         {
          "name": "WithConcentration"
         },
         {
          "name": "WithCertification"
         },
         {
          "name": "WithMajor1"
         },
         {
          "name": "WithMajor2"
         },
         {
          "name": "WithMajor3"
         },
         {
          "name": "WithMinor1"
         },
         {
          "name": "WithMinor2"
         },
         {
          "name": "WithMinor3"
         },
         {
          "name": "WithCertification1"
         },
         {
          "name": "WithCertification2"
         },
         {
          "name": "WithCertification3"
         },
         {
          "name": "WithConcentration1"
         },
         {
          "name": "WithConcentration2"
         },
         {
          "name": "WithConcentration3"
         },
         {
          "name": "WithConcentration4"
         }
        ]
       }
      },
      "text/html": [
       "<table><tr><th>DEGR_CDE</th><th>TotalConferred</th><th>WithMajors</th><th>WithMinors</th><th>WithConcentration</th><th>WithCertification</th><th>WithMajor1</th><th>WithMajor2</th><th>WithMajor3</th><th>WithMinor1</th><th>WithMinor2</th><th>WithMinor3</th><th>WithCertification1</th><th>WithCertification2</th><th>WithCertification3</th><th>WithConcentration1</th><th>WithConcentration2</th><th>WithConcentration3</th><th>WithConcentration4</th></tr><tr><td>AA</td><td>1014</td><td>10</td><td>0</td><td>0</td><td>1</td><td>10</td><td>0</td><td>0</td><td>0</td><td>0</td><td>0</td><td>1</td><td>0</td><td>0</td><td>0</td><td>0</td><td>0</td><td>0</td></tr><tr><td>AAA</td><td>148</td><td>148</td><td>0</td><td>4</td><td>0</td><td>148</td><td>0</td><td>0</td><td>0</td><td>0</td><td>0</td><td>0</td><td>0</td><td>0</td><td>4</td><td>0</td><td>0</td><td>0</td></tr><tr><td>BA</td><td>8084</td><td>8074</td><td>3128</td><td>1540</td><td>1013</td><td>8074</td><td>145</td><td>466</td><td>3113</td><td>915</td><td>193</td><td>1008</td><td>29</td><td>3</td><td>1534</td><td>292</td><td>14</td><td>1</td></tr><tr><td>BAH</td><td>326</td><td>325</td><td>112</td><td>23</td><td>37</td><td>325</td><td>7</td><td>19</td><td>112</td><td>6</td><td>0</td><td>37</td><td>0</td><td>0</td><td>23</td><td>0</td><td>0</td><td>0</td></tr><tr><td>BBA</td><td>1202</td><td>1202</td><td>66</td><td>9</td><td>801</td><td>1202</td><td>0</td><td>173</td><td>66</td><td>2</td><td>0</td><td>800</td><td>93</td><td>3</td><td>9</td><td>0</td><td>0</td><td>0</td></tr><tr><td>BBAH</td><td>112</td><td>112</td><td>8</td><td>3</td><td>87</td><td>112</td><td>1</td><td>12</td><td>8</td><td>0</td><td>0</td><td>86</td><td>53</td><td>5</td><td>3</td><td>0</td><td>0</td><td>0</td></tr><tr><td>BED</td><td>771</td><td>272</td><td>104</td><td>43</td><td>8</td><td>272</td><td>14</td><td>2</td><td>103</td><td>62</td><td>1</td><td>8</td><td>0</td><td>0</td><td>43</td><td>8</td><td>0</td><td>0</td></tr><tr><td>BFAA</td><td>22</td><td>22</td><td>2</td><td>0</td><td>0</td><td>22</td><td>0</td><td>5</td><td>2</td><td>0</td><td>0</td><td>0</td><td>0</td><td>0</td><td>0</td><td>0</td><td>0</td><td>0</td></tr><tr><td>BHK</td><td>459</td><td>459</td><td>56</td><td>29</td><td>394</td><td>459</td><td>0</td><td>67</td><td>56</td><td>0</td><td>0</td><td>379</td><td>2</td><td>15</td><td>29</td><td>0</td><td>0</td><td>0</td></tr><tr><td>BPE</td><td>2</td><td>0</td><td>0</td><td>0</td><td>0</td><td>0</td><td>0</td><td>0</td><td>0</td><td>0</td><td>0</td><td>0</td><td>0</td><td>0</td><td>0</td><td>0</td><td>0</td><td>0</td></tr><tr><td>BSC</td><td>947</td><td>946</td><td>360</td><td>116</td><td>87</td><td>946</td><td>15</td><td>86</td><td>360</td><td>28</td><td>0</td><td>79</td><td>1</td><td>8</td><td>116</td><td>19</td><td>1</td><td>0</td></tr><tr><td>BSCH</td><td>63</td><td>63</td><td>22</td><td>3</td><td>27</td><td>63</td><td>3</td><td>5</td><td>22</td><td>0</td><td>0</td><td>27</td><td>1</td><td>0</td><td>3</td><td>0</td><td>0</td><td>0</td></tr><tr><td>BSCN</td><td>824</td><td>824</td><td>34</td><td>3</td><td>1</td><td>824</td><td>0</td><td>133</td><td>34</td><td>0</td><td>0</td><td>1</td><td>0</td><td>0</td><td>3</td><td>0</td><td>0</td><td>0</td></tr><tr><td>CBIB</td><td>4</td><td>0</td><td>0</td><td>0</td><td>0</td><td>0</td><td>0</td><td>0</td><td>0</td><td>0</td><td>0</td><td>0</td><td>0</td><td>0</td><td>0</td><td>0</td><td>0</td><td>0</td></tr><tr><td>CCHPL</td><td>1</td><td>0</td><td>0</td><td>0</td><td>0</td><td>0</td><td>0</td><td>0</td><td>0</td><td>0</td><td>0</td><td>0</td><td>0</td><td>0</td><td>0</td><td>0</td><td>0</td><td>0</td></tr><tr><td>CCS</td><td>1</td><td>0</td><td>0</td><td>0</td><td>0</td><td>0</td><td>0</td><td>0</td><td>0</td><td>0</td><td>0</td><td>0</td><td>0</td><td>0</td><td>0</td><td>0</td><td>0</td><td>0</td></tr><tr><td>CE</td><td>343</td><td>0</td><td>0</td><td>0</td><td>342</td><td>0</td><td>0</td><td>0</td><td>0</td><td>0</td><td>0</td><td>342</td><td>9</td><td>3</td><td>0</td><td>0</td><td>0</td><td>0</td></tr><tr><td>CELD</td><td>9</td><td>0</td><td>0</td><td>0</td><td>0</td><td>0</td><td>0</td><td>0</td><td>0</td><td>0</td><td>0</td><td>0</td><td>0</td><td>0</td><td>0</td><td>0</td><td>0</td><td>0</td></tr><tr><td>CLDR</td><td>6</td><td>0</td><td>0</td><td>0</td><td>0</td><td>0</td><td>0</td><td>0</td><td>0</td><td>0</td><td>0</td><td>0</td><td>0</td><td>0</td><td>0</td><td>0</td><td>0</td><td>0</td></tr><tr><td>CPC</td><td>5</td><td>0</td><td>0</td><td>0</td><td>4</td><td>0</td><td>0</td><td>0</td><td>0</td><td>0</td><td>0</td><td>4</td><td>0</td><td>0</td><td>0</td><td>0</td><td>0</td><td>0</td></tr><tr><td>CS</td><td>1</td><td>0</td><td>0</td><td>0</td><td>0</td><td>0</td><td>0</td><td>0</td><td>0</td><td>0</td><td>0</td><td>0</td><td>0</td><td>0</td><td>0</td><td>0</td><td>0</td><td>0</td></tr><tr><td>DCS</td><td>58</td><td>7</td><td>0</td><td>0</td><td>1</td><td>7</td><td>0</td><td>0</td><td>0</td><td>0</td><td>0</td><td>1</td><td>0</td><td>0</td><td>0</td><td>0</td><td>0</td><td>0</td></tr><tr><td>DMN</td><td>31</td><td>3</td><td>0</td><td>0</td><td>0</td><td>3</td><td>0</td><td>0</td><td>0</td><td>0</td><td>0</td><td>0</td><td>0</td><td>0</td><td>0</td><td>0</td><td>0</td><td>0</td></tr><tr><td>DWVK</td><td>116</td><td>115</td><td>0</td><td>0</td><td>0</td><td>115</td><td>0</td><td>0</td><td>0</td><td>0</td><td>0</td><td>0</td><td>0</td><td>0</td><td>0</td><td>0</td><td>0</td><td>0</td></tr><tr><td>EMBA</td><td>2</td><td>2</td><td>0</td><td>0</td><td>2</td><td>2</td><td>0</td><td>0</td><td>0</td><td>0</td><td>0</td><td>2</td><td>0</td><td>0</td><td>0</td><td>0</td><td>0</td><td>0</td></tr><tr><td>ESL</td><td>457</td><td>1</td><td>0</td><td>0</td><td>454</td><td>1</td><td>0</td><td>0</td><td>0</td><td>0</td><td>0</td><td>454</td><td>0</td><td>0</td><td>0</td><td>0</td><td>0</td><td>0</td></tr><tr><td>IMBA</td><td>14</td><td>13</td><td>0</td><td>0</td><td>2</td><td>13</td><td>0</td><td>0</td><td>0</td><td>0</td><td>0</td><td>2</td><td>0</td><td>0</td><td>0</td><td>0</td><td>0</td><td>0</td></tr><tr><td>MAAL</td><td>560</td><td>560</td><td>0</td><td>0</td><td>392</td><td>560</td><td>0</td><td>0</td><td>0</td><td>0</td><td>0</td><td>392</td><td>1</td><td>0</td><td>0</td><td>0</td><td>0</td><td>0</td></tr><tr><td>MAC</td><td>306</td><td>61</td><td>0</td><td>0</td><td>12</td><td>61</td><td>0</td><td>0</td><td>0</td><td>0</td><td>0</td><td>12</td><td>0</td><td>0</td><td>0</td><td>0</td><td>0</td><td>0</td></tr><tr><td>MACQ</td><td>19</td><td>18</td><td>0</td><td>0</td><td>12</td><td>18</td><td>0</td><td>0</td><td>0</td><td>0</td><td>0</td><td>12</td><td>0</td><td>0</td><td>0</td><td>0</td><td>0</td><td>0</td></tr><tr><td>MAEL</td><td>57</td><td>57</td><td>0</td><td>0</td><td>1</td><td>57</td><td>0</td><td>0</td><td>0</td><td>0</td><td>0</td><td>1</td><td>0</td><td>0</td><td>0</td><td>0</td><td>0</td><td>0</td></tr><tr><td>MAES</td><td>12</td><td>12</td><td>0</td><td>0</td><td>8</td><td>12</td><td>0</td><td>0</td><td>0</td><td>0</td><td>0</td><td>8</td><td>0</td><td>0</td><td>0</td><td>0</td><td>0</td><td>0</td></tr><tr><td>MAH</td><td>91</td><td>91</td><td>0</td><td>0</td><td>12</td><td>91</td><td>0</td><td>0</td><td>0</td><td>0</td><td>0</td><td>12</td><td>0</td><td>0</td><td>0</td><td>0</td><td>0</td><td>0</td></tr><tr><td>MALM</td><td>95</td><td>89</td><td>0</td><td>0</td><td>21</td><td>89</td><td>0</td><td>0</td><td>0</td><td>0</td><td>0</td><td>21</td><td>0</td><td>0</td><td>0</td><td>0</td><td>0</td><td>0</td></tr><tr><td>MALT</td><td>10</td><td>10</td><td>0</td><td>0</td><td>2</td><td>10</td><td>0</td><td>0</td><td>0</td><td>0</td><td>0</td><td>2</td><td>0</td><td>0</td><td>0</td><td>0</td><td>0</td><td>0</td></tr><tr><td>MARC</td><td>12</td><td>0</td><td>0</td><td>0</td><td>0</td><td>0</td><td>0</td><td>0</td><td>0</td><td>0</td><td>0</td><td>0</td><td>0</td><td>0</td><td>0</td><td>0</td><td>0</td><td>0</td></tr><tr><td>MBA</td><td>325</td><td>324</td><td>0</td><td>0</td><td>189</td><td>324</td><td>0</td><td>0</td><td>0</td><td>0</td><td>0</td><td>189</td><td>0</td><td>0</td><td>0</td><td>0</td><td>0</td><td>0</td></tr><tr><td>MBAGW</td><td>47</td><td>47</td><td>0</td><td>0</td><td>47</td><td>47</td><td>0</td><td>0</td><td>0</td><td>0</td><td>0</td><td>47</td><td>0</td><td>0</td><td>0</td><td>0</td><td>0</td><td>0</td></tr><tr><td>MBIB</td><td>88</td><td>88</td><td>0</td><td>0</td><td>0</td><td>88</td><td>0</td><td>0</td><td>0</td><td>0</td><td>0</td><td>0</td><td>0</td><td>0</td><td>0</td><td>0</td><td>0</td><td>0</td></tr><tr><td>MC</td><td>124</td><td>0</td><td>0</td><td>0</td><td>0</td><td>0</td><td>0</td><td>0</td><td>0</td><td>0</td><td>0</td><td>0</td><td>0</td><td>0</td><td>0</td><td>0</td><td>0</td><td>0</td></tr><tr><td>MCHM</td><td>23</td><td>0</td><td>0</td><td>0</td><td>0</td><td>0</td><td>0</td><td>0</td><td>0</td><td>0</td><td>0</td><td>0</td><td>0</td><td>0</td><td>0</td><td>0</td><td>0</td><td>0</td></tr><tr><td>MCM</td><td>36</td><td>0</td><td>0</td><td>0</td><td>0</td><td>0</td><td>0</td><td>0</td><td>0</td><td>0</td><td>0</td><td>0</td><td>0</td><td>0</td><td>0</td><td>0</td><td>0</td><td>0</td></tr><tr><td>MCP</td><td>450</td><td>93</td><td>0</td><td>0</td><td>92</td><td>93</td><td>0</td><td>0</td><td>0</td><td>0</td><td>0</td><td>92</td><td>0</td><td>0</td><td>0</td><td>0</td><td>0</td><td>0</td></tr><tr><td>MDV</td><td>240</td><td>13</td><td>0</td><td>0</td><td>2</td><td>13</td><td>0</td><td>0</td><td>0</td><td>0</td><td>0</td><td>2</td><td>0</td><td>0</td><td>0</td><td>0</td><td>0</td><td>0</td></tr><tr><td>MFT</td><td>90</td><td>40</td><td>0</td><td>0</td><td>0</td><td>40</td><td>0</td><td>0</td><td>0</td><td>0</td><td>0</td><td>0</td><td>0</td><td>0</td><td>0</td><td>0</td><td>0</td><td>0</td></tr><tr><td>MLE</td><td>207</td><td>27</td><td>0</td><td>0</td><td>1</td><td>27</td><td>0</td><td>0</td><td>0</td><td>0</td><td>0</td><td>1</td><td>0</td><td>0</td><td>0</td><td>0</td><td>0</td><td>0</td></tr><tr><td>MLIN</td><td>78</td><td>78</td><td>0</td><td>0</td><td>11</td><td>78</td><td>0</td><td>0</td><td>0</td><td>0</td><td>0</td><td>11</td><td>0</td><td>0</td><td>0</td><td>0</td><td>0</td><td>0</td></tr><tr><td>MMN</td><td>57</td><td>0</td><td>0</td><td>0</td><td>0</td><td>0</td><td>0</td><td>0</td><td>0</td><td>0</td><td>0</td><td>0</td><td>0</td><td>0</td><td>0</td><td>0</td><td>0</td><td>0</td></tr><tr><td>MRE</td><td>82</td><td>0</td><td>0</td><td>0</td><td>0</td><td>0</td><td>0</td><td>0</td><td>0</td><td>0</td><td>0</td><td>0</td><td>0</td><td>0</td><td>0</td><td>0</td><td>0</td><td>0</td></tr><tr><td>MSC</td><td>97</td><td>0</td><td>0</td><td>0</td><td>0</td><td>0</td><td>0</td><td>0</td><td>0</td><td>0</td><td>0</td><td>0</td><td>0</td><td>0</td><td>0</td><td>0</td><td>0</td><td>0</td></tr><tr><td>MSN</td><td>109</td><td>109</td><td>0</td><td>0</td><td>11</td><td>109</td><td>0</td><td>0</td><td>0</td><td>0</td><td>0</td><td>11</td><td>0</td><td>0</td><td>0</td><td>0</td><td>0</td><td>0</td></tr><tr><td>MT</td><td>11</td><td>0</td><td>0</td><td>0</td><td>0</td><td>0</td><td>0</td><td>0</td><td>0</td><td>0</td><td>0</td><td>0</td><td>0</td><td>0</td><td>0</td><td>0</td><td>0</td><td>0</td></tr><tr><td>MTES</td><td>161</td><td>161</td><td>0</td><td>0</td><td>18</td><td>161</td><td>0</td><td>0</td><td>0</td><td>0</td><td>0</td><td>18</td><td>0</td><td>0</td><td>0</td><td>0</td><td>0</td><td>0</td></tr><tr><td>MTS</td><td>107</td><td>11</td><td>0</td><td>0</td><td>1</td><td>11</td><td>0</td><td>0</td><td>0</td><td>0</td><td>0</td><td>1</td><td>0</td><td>0</td><td>0</td><td>0</td><td>0</td><td>0</td></tr><tr><td>MWVK</td><td>118</td><td>117</td><td>0</td><td>0</td><td>49</td><td>117</td><td>0</td><td>0</td><td>0</td><td>0</td><td>0</td><td>49</td><td>0</td><td>0</td><td>0</td><td>0</td><td>0</td><td>0</td></tr><tr><td>PT</td><td>164</td><td>0</td><td>0</td><td>0</td><td>163</td><td>0</td><td>0</td><td>0</td><td>0</td><td>0</td><td>0</td><td>163</td><td>0</td><td>0</td><td>0</td><td>0</td><td>0</td><td>0</td></tr><tr><td>PTC</td><td>525</td><td>0</td><td>0</td><td>0</td><td>516</td><td>0</td><td>0</td><td>0</td><td>0</td><td>0</td><td>0</td><td>516</td><td>0</td><td>0</td><td>0</td><td>0</td><td>0</td><td>0</td></tr></table>"
      ]
     },
     "execution_count": 4,
     "metadata": {},
     "output_type": "execute_result"
    }
   ],
   "source": [
    "-- Degrees conferred with counts of major, minor, concentration, certification.\n",
    ";WITH base AS ( SELECT * FROM DEGREE_HISTORY WHERE DTE_DEGR_CONFERRED IS NOT NULL AND DEGR_CDE IS NOT NULL ),\n",
    "degrees AS ( SELECT DEGR_CDE, COUNT(*) Count FROM base GROUP BY DEGR_CDE ),\n",
    "withMajor1 AS ( SELECT DEGR_CDE, COUNT(*) Count FROM base WHERE MAJOR_1 IS NOT NULL GROUP BY DEGR_CDE ),\n",
    "withMajor2 AS ( SELECT DEGR_CDE, COUNT(*) Count FROM base WHERE MAJOR_2 IS NOT NULL GROUP BY DEGR_CDE ),\n",
    "withMajor3 AS ( SELECT DEGR_CDE, COUNT(*) Count FROM base WHERE MAJOR_3 IS NOT NULL GROUP BY DEGR_CDE ),\n",
    "withMajor AS ( SELECT DEGR_CDE, COUNT(*) Count FROM base WHERE NOT (MAJOR_1 IS NULL AND MAJOR_2 IS NULL AND MAJOR_3 IS NULL) GROUP BY DEGR_CDE ),\n",
    "withMinor1 AS ( SELECT DEGR_CDE, COUNT(*) Count FROM base WHERE MINOR_1 IS NOT NULL GROUP BY DEGR_CDE ),\n",
    "withMinor2 AS ( SELECT DEGR_CDE, COUNT(*) Count FROM base WHERE MINOR_2 IS NOT NULL GROUP BY DEGR_CDE ),\n",
    "withMinor3 AS ( SELECT DEGR_CDE, COUNT(*) Count FROM base WHERE MINOR_3 IS NOT NULL GROUP BY DEGR_CDE ),\n",
    "withMinor AS ( SELECT DEGR_CDE, COUNT(*) Count FROM base WHERE NOT (MINOR_1 IS NULL AND MINOR_2 IS NULL AND MINOR_3 IS NULL) GROUP BY DEGR_CDE ),\n",
    "withConcentration1 AS ( SELECT DEGR_CDE, COUNT(*) Count FROM base WHERE CONCENTRATION_1 IS NOT NULL GROUP BY DEGR_CDE ),\n",
    "withConcentration2 AS ( SELECT DEGR_CDE, COUNT(*) Count FROM base WHERE CONCENTRATION_2 IS NOT NULL GROUP BY DEGR_CDE ),\n",
    "withConcentration3 AS ( SELECT DEGR_CDE, COUNT(*) Count FROM base WHERE CONCENTRATION_3 IS NOT NULL GROUP BY DEGR_CDE ),\n",
    "withConcentration4 AS ( SELECT DEGR_CDE, COUNT(*) Count FROM base WHERE CONCENTRATION_4 IS NOT NULL GROUP BY DEGR_CDE ),\n",
    "withConcentration AS ( SELECT DEGR_CDE, COUNT(*) Count FROM base WHERE NOT (CONCENTRATION_1 IS NULL AND CONCENTRATION_2 IS NULL AND CONCENTRATION_3 IS NULL AND CONCENTRATION_4 IS NULL) GROUP BY DEGR_CDE ),\n",
    "withCertification1 AS ( SELECT DEGR_CDE, COUNT(*) Count FROM base WHERE CERTIFICATION_1 IS NOT NULL GROUP BY DEGR_CDE ),\n",
    "withCertification2 AS ( SELECT DEGR_CDE, COUNT(*) Count FROM base WHERE CERTIFICATION_2 IS NOT NULL GROUP BY DEGR_CDE ),\n",
    "withCertification3 AS ( SELECT DEGR_CDE, COUNT(*) Count FROM base WHERE CERTIFICATION_3 IS NOT NULL GROUP BY DEGR_CDE ),\n",
    "withCertification AS ( SELECT DEGR_CDE, COUNT(*) Count FROM base WHERE NOT (CERTIFICATION_1 IS NULL AND CERTIFICATION_2 IS NULL AND CERTIFICATION_3 IS NULL) GROUP BY DEGR_CDE )\n",
    "SELECT\n",
    "d.DEGR_CDE,\n",
    "d.Count TotalConferred,\n",
    "COALESCE(j.Count, 0) WithMajors,\n",
    "COALESCE(n.Count, 0) WithMinors,\n",
    "COALESCE(o.Count, 0) WithConcentration,\n",
    "COALESCE(r.Count, 0) WithCertification,\n",
    "COALESCE(j1.Count, 0) WithMajor1,\n",
    "COALESCE(j2.Count, 0) WithMajor2,\n",
    "COALESCE(j3.Count, 0) WithMajor3,\n",
    "COALESCE(n1.Count, 0) WithMinor1,\n",
    "COALESCE(n2.Count, 0) WithMinor2,\n",
    "COALESCE(n3.Count, 0) WithMinor3,\n",
    "COALESCE(r1.Count, 0) WithCertification1,\n",
    "COALESCE(r2.Count, 0) WithCertification2,\n",
    "COALESCE(r3.Count, 0) WithCertification3,\n",
    "COALESCE(o1.Count, 0) WithConcentration1,\n",
    "COALESCE(o2.Count, 0) WithConcentration2,\n",
    "COALESCE(o3.Count, 0) WithConcentration3,\n",
    "COALESCE(o4.Count, 0) WithConcentration4\n",
    "FROM degrees d\n",
    "LEFT JOIN withMajor j ON d.DEGR_CDE = j.DEGR_CDE\n",
    "LEFT JOIN withMinor n ON d.DEGR_CDE = n.DEGR_CDE\n",
    "LEFT JOIN withConcentration o ON d.DEGR_CDE = o.DEGR_CDE\n",
    "LEFT JOIN withCertification r ON d.DEGR_CDE = r.DEGR_CDE\n",
    "LEFT JOIN withMajor1 j1 ON d.DEGR_CDE = j1.DEGR_CDE\n",
    "LEFT JOIN withMajor2 j2 ON d.DEGR_CDE = j2.DEGR_CDE\n",
    "LEFT JOIN withMajor3 j3 ON d.DEGR_CDE = j3.DEGR_CDE\n",
    "LEFT JOIN withMinor1 n1 ON d.DEGR_CDE = n1.DEGR_CDE\n",
    "LEFT JOIN withMinor2 n2 ON d.DEGR_CDE = n2.DEGR_CDE\n",
    "LEFT JOIN withMinor3 n3 ON d.DEGR_CDE = n3.DEGR_CDE\n",
    "LEFT JOIN withConcentration1 o1 ON d.DEGR_CDE = o1.DEGR_CDE\n",
    "LEFT JOIN withConcentration2 o2 ON d.DEGR_CDE = o2.DEGR_CDE\n",
    "LEFT JOIN withConcentration3 o3 ON d.DEGR_CDE = o3.DEGR_CDE\n",
    "LEFT JOIN withConcentration4 o4 ON d.DEGR_CDE = o4.DEGR_CDE\n",
    "LEFT JOIN withCertification1 r1 ON d.DEGR_CDE = r1.DEGR_CDE\n",
    "LEFT JOIN withCertification2 r2 ON d.DEGR_CDE = r2.DEGR_CDE\n",
    "LEFT JOIN withCertification3 r3 ON d.DEGR_CDE = r3.DEGR_CDE\n",
    "ORDER BY d.DEGR_CDE"
   ]
  },
  {
   "cell_type": "markdown",
   "metadata": {},
   "source": [
    "## What are some weird stuff - DEGREE_HISTORY?"
   ]
  },
  {
   "cell_type": "code",
   "execution_count": 5,
   "metadata": {},
   "outputs": [
    {
     "data": {
      "text/html": [
       "(2 rows affected)"
      ]
     },
     "metadata": {},
     "output_type": "display_data"
    },
    {
     "data": {
      "text/html": [
       "Total execution time: 00:00:00.255"
      ]
     },
     "metadata": {},
     "output_type": "display_data"
    },
    {
     "data": {
      "application/vnd.dataresource+json": {
       "data": [
        {
         "0": "MissingAQCandidacyMapping",
         "1": "19095"
        },
        {
         "0": "Mismatch2DegreeFields",
         "1": "1301"
        }
       ],
       "schema": {
        "fields": [
         {
          "name": "(No column name)"
         },
         {
          "name": "Count"
         }
        ]
       }
      },
      "text/html": [
       "<table><tr><th>(No column name)</th><th>Count</th></tr><tr><td>MissingAQCandidacyMapping</td><td>19095</td></tr><tr><td>Mismatch2DegreeFields</td><td>1301</td></tr></table>"
      ]
     },
     "execution_count": 5,
     "metadata": {},
     "output_type": "execute_result"
    }
   ],
   "source": [
    "-- How many missing and AQ Candidacy mapping?\n",
    "SELECT 'MissingAQCandidacyMapping', COUNT(*) Count\n",
    "FROM DEGREE_HISTORY d\n",
    "LEFT JOIN DEGREE_HISTORY_UDF aq ON d.ID_NUM = aq.ID_NUM AND d.SEQ_NUM_2 = aq.SEQ_NUM_2\n",
    "WHERE d.DTE_DEGR_CONFERRED IS NOT NULL\n",
    "and aq.CANDIDACY_ID IS NULL\n",
    "\n",
    "UNION\n",
    "\n",
    "-- How many mismatches between the 2 degree fields?\n",
    "SELECT 'Mismatch2DegreeFields', COUNT(*) Count\n",
    "FROM DEGREE_HISTORY\n",
    "WHERE DTE_DEGR_CONFERRED IS NOT NULL\n",
    "AND COALESCE(DEGR_CDE, '') != COALESCE(ACAD_DEGR_CDE, '')\n",
    "AND ACAD_DEGR_CDE IS NOT NULL\n"
   ]
  },
  {
   "cell_type": "markdown",
   "metadata": {},
   "source": [
    "## Mismatched degree code?"
   ]
  },
  {
   "cell_type": "code",
   "execution_count": 6,
   "metadata": {
    "scrolled": true
   },
   "outputs": [
    {
     "data": {
      "text/html": [
       "(32 rows affected)"
      ]
     },
     "metadata": {},
     "output_type": "display_data"
    },
    {
     "data": {
      "text/html": [
       "(13 rows affected)"
      ]
     },
     "metadata": {},
     "output_type": "display_data"
    },
    {
     "data": {
      "text/html": [
       "Total execution time: 00:00:00.173"
      ]
     },
     "metadata": {},
     "output_type": "display_data"
    },
    {
     "data": {
      "application/vnd.dataresource+json": {
       "data": [
        {
         "0": "NULL",
         "1": "CE",
         "2": "1"
        },
        {
         "0": "NULL",
         "1": "DCS",
         "2": "1"
        },
        {
         "0": "NULL",
         "1": "ESL",
         "2": "818"
        },
        {
         "0": "NULL",
         "1": "PT",
         "2": "3"
        },
        {
         "0": "NULL",
         "1": "PTC",
         "2": "29"
        },
        {
         "0": "BA",
         "1": "BAH",
         "2": "1"
        },
        {
         "0": "BA",
         "1": "BL",
         "2": "1"
        },
        {
         "0": "BAH",
         "1": "BA",
         "2": "2"
        },
        {
         "0": "BBA",
         "1": "BA",
         "2": "3"
        },
        {
         "0": "BED",
         "1": "AAA",
         "2": "1"
        },
        {
         "0": "BED",
         "1": "BA",
         "2": "1"
        },
        {
         "0": "BED",
         "1": "BEDP",
         "2": "1"
        },
        {
         "0": "BHK",
         "1": "BA",
         "2": "1"
        },
        {
         "0": "BSC",
         "1": "BS",
         "2": "3"
        },
        {
         "0": "BSCH",
         "1": "BSC",
         "2": "2"
        },
        {
         "0": "CCHPL",
         "1": "CHP",
         "2": "1"
        },
        {
         "0": "CE",
         "1": "PTC",
         "2": "3"
        },
        {
         "0": "EMBA",
         "1": "MBA",
         "2": "2"
        },
        {
         "0": "ESL",
         "1": "ECB",
         "2": "1"
        },
        {
         "0": "ESL",
         "1": "ESP",
         "2": "6"
        },
        {
         "0": "MAAL",
         "1": "MALM",
         "2": "12"
        },
        {
         "0": "MALT",
         "1": "MLT",
         "2": "10"
        },
        {
         "0": "MBA",
         "1": "EMBA",
         "2": "7"
        },
        {
         "0": "MBA",
         "1": "IMBA",
         "2": "90"
        },
        {
         "0": "MBA",
         "1": "MBAGW",
         "2": "49"
        },
        {
         "0": "MFT",
         "1": "QS",
         "2": "1"
        },
        {
         "0": "PT",
         "1": "PTC",
         "2": "161"
        },
        {
         "0": "PTC",
         "1": "CE",
         "2": "72"
        },
        {
         "0": "PTC",
         "1": "CLDR",
         "2": "2"
        },
        {
         "0": "PTC",
         "1": "PT",
         "2": "2"
        },
        {
         "0": "PTC",
         "1": "PTT",
         "2": "11"
        },
        {
         "0": "PTC",
         "1": "WP",
         "2": "3"
        }
       ],
       "schema": {
        "fields": [
         {
          "name": "DEGR_CDE"
         },
         {
          "name": "ACAD_DEGR_CDE"
         },
         {
          "name": "Count"
         }
        ]
       }
      },
      "text/html": [
       "<table><tr><th>DEGR_CDE</th><th>ACAD_DEGR_CDE</th><th>Count</th></tr><tr><td>NULL</td><td>CE</td><td>1</td></tr><tr><td>NULL</td><td>DCS</td><td>1</td></tr><tr><td>NULL</td><td>ESL</td><td>818</td></tr><tr><td>NULL</td><td>PT</td><td>3</td></tr><tr><td>NULL</td><td>PTC</td><td>29</td></tr><tr><td>BA</td><td>BAH</td><td>1</td></tr><tr><td>BA</td><td>BL</td><td>1</td></tr><tr><td>BAH</td><td>BA</td><td>2</td></tr><tr><td>BBA</td><td>BA</td><td>3</td></tr><tr><td>BED</td><td>AAA</td><td>1</td></tr><tr><td>BED</td><td>BA</td><td>1</td></tr><tr><td>BED</td><td>BEDP</td><td>1</td></tr><tr><td>BHK</td><td>BA</td><td>1</td></tr><tr><td>BSC</td><td>BS</td><td>3</td></tr><tr><td>BSCH</td><td>BSC</td><td>2</td></tr><tr><td>CCHPL</td><td>CHP</td><td>1</td></tr><tr><td>CE</td><td>PTC</td><td>3</td></tr><tr><td>EMBA</td><td>MBA</td><td>2</td></tr><tr><td>ESL</td><td>ECB</td><td>1</td></tr><tr><td>ESL</td><td>ESP</td><td>6</td></tr><tr><td>MAAL</td><td>MALM</td><td>12</td></tr><tr><td>MALT</td><td>MLT</td><td>10</td></tr><tr><td>MBA</td><td>EMBA</td><td>7</td></tr><tr><td>MBA</td><td>IMBA</td><td>90</td></tr><tr><td>MBA</td><td>MBAGW</td><td>49</td></tr><tr><td>MFT</td><td>QS</td><td>1</td></tr><tr><td>PT</td><td>PTC</td><td>161</td></tr><tr><td>PTC</td><td>CE</td><td>72</td></tr><tr><td>PTC</td><td>CLDR</td><td>2</td></tr><tr><td>PTC</td><td>PT</td><td>2</td></tr><tr><td>PTC</td><td>PTT</td><td>11</td></tr><tr><td>PTC</td><td>WP</td><td>3</td></tr></table>"
      ]
     },
     "execution_count": 6,
     "metadata": {},
     "output_type": "execute_result"
    },
    {
     "data": {
      "application/vnd.dataresource+json": {
       "data": [
        {
         "0": "BAH",
         "1": "BAH",
         "2": "BA",
         "3": "NULL"
        },
        {
         "0": "BAH",
         "1": "BAH",
         "2": "BA",
         "3": "NULL"
        },
        {
         "0": "BAH",
         "1": "BAH",
         "2": "BA",
         "3": "NULL"
        },
        {
         "0": "BAH",
         "1": "BAH",
         "2": "BA",
         "3": "NULL"
        },
        {
         "0": "BSCH",
         "1": "BSCH",
         "2": "BSC",
         "3": "NULL"
        },
        {
         "0": "BSCH",
         "1": "BSCH",
         "2": "BSC",
         "3": "NULL"
        },
        {
         "0": "BSCH",
         "1": "BSCH",
         "2": "BSC",
         "3": "NULL"
        },
        {
         "0": "BAH",
         "1": "BAH",
         "2": "BA",
         "3": "NULL"
        },
        {
         "0": "BBAH",
         "1": "BBAH",
         "2": "BA",
         "3": "NULL"
        },
        {
         "0": "BAH",
         "1": "BAH",
         "2": "BA",
         "3": "NULL"
        },
        {
         "0": "BSC",
         "1": "BSC",
         "2": "BA",
         "3": "NULL"
        },
        {
         "0": "BSC",
         "1": "BSC",
         "2": "BA",
         "3": "NULL"
        },
        {
         "0": "BAH",
         "1": "BAH",
         "2": "BA",
         "3": "NULL"
        }
       ],
       "schema": {
        "fields": [
         {
          "name": "DEGR_CDE_DH"
         },
         {
          "name": "DEGR_CDE_MAJOR1"
         },
         {
          "name": "DEGR_CDE_MAJOR2"
         },
         {
          "name": "DEGR_CDE_MAJOR3"
         }
        ]
       }
      },
      "text/html": [
       "<table><tr><th>DEGR_CDE_DH</th><th>DEGR_CDE_MAJOR1</th><th>DEGR_CDE_MAJOR2</th><th>DEGR_CDE_MAJOR3</th></tr><tr><td>BAH</td><td>BAH</td><td>BA</td><td>NULL</td></tr><tr><td>BAH</td><td>BAH</td><td>BA</td><td>NULL</td></tr><tr><td>BAH</td><td>BAH</td><td>BA</td><td>NULL</td></tr><tr><td>BAH</td><td>BAH</td><td>BA</td><td>NULL</td></tr><tr><td>BSCH</td><td>BSCH</td><td>BSC</td><td>NULL</td></tr><tr><td>BSCH</td><td>BSCH</td><td>BSC</td><td>NULL</td></tr><tr><td>BSCH</td><td>BSCH</td><td>BSC</td><td>NULL</td></tr><tr><td>BAH</td><td>BAH</td><td>BA</td><td>NULL</td></tr><tr><td>BBAH</td><td>BBAH</td><td>BA</td><td>NULL</td></tr><tr><td>BAH</td><td>BAH</td><td>BA</td><td>NULL</td></tr><tr><td>BSC</td><td>BSC</td><td>BA</td><td>NULL</td></tr><tr><td>BSC</td><td>BSC</td><td>BA</td><td>NULL</td></tr><tr><td>BAH</td><td>BAH</td><td>BA</td><td>NULL</td></tr></table>"
      ]
     },
     "execution_count": 6,
     "metadata": {},
     "output_type": "execute_result"
    }
   ],
   "source": [
    "-- Mismatches between 2 fields.\n",
    "SELECT DEGR_CDE, ACAD_DEGR_CDE, COUNT(*) Count\n",
    "FROM DEGREE_HISTORY\n",
    "WHERE DTE_DEGR_CONFERRED IS NOT NULL\n",
    "AND COALESCE(DEGR_CDE, '') != COALESCE(ACAD_DEGR_CDE, '')\n",
    "AND ACAD_DEGR_CDE IS NOT NULL\n",
    "GROUP BY DEGR_CDE, ACAD_DEGR_CDE\n",
    "ORDER BY DEGR_CDE, ACAD_DEGR_CDE\n",
    "\n",
    "-- Mismatches against major 2.\n",
    ";WITH base AS ( SELECT * FROM DEGREE_HISTORY WHERE DTE_DEGR_CONFERRED IS NOT NULL AND DEGR_CDE IS NOT NULL )\n",
    "SELECT b.DEGR_CDE DEGR_CDE_DH, j1.DEGR_CDE DEGR_CDE_MAJOR1, j2.DEGR_CDE DEGR_CDE_MAJOR2, j3.DEGR_CDE DEGR_CDE_MAJOR3\n",
    "FROM base b\n",
    "LEFT JOIN MAJOR_MINOR_DEF j1 ON b.MAJOR_1 = j1.MAJOR_CDE\n",
    "LEFT JOIN MAJOR_MINOR_DEF j2 ON b.MAJOR_2 = j2.MAJOR_CDE\n",
    "LEFT JOIN MAJOR_MINOR_DEF j3 ON b.MAJOR_3 = j3.MAJOR_CDE\n",
    "WHERE NOT (b.MAJOR_1 IS NULL AND b.MAJOR_2 IS NULL AND b.MAJOR_3 IS NULL)\n",
    "AND NOT (j1.DEGR_CDE IS NULL AND j2.DEGR_CDE IS NULL AND j3.DEGR_CDE IS NULL)\n",
    "AND (COALESCE(b.DEGR_CDE, '') = COALESCE(j1.DEGR_CDE, '') OR COALESCE(b.DEGR_CDE, '') = COALESCE(j2.DEGR_CDE, '') OR COALESCE(b.DEGR_CDE, '') = COALESCE(j3.DEGR_CDE, ''))\n",
    "AND (j2.DEGR_CDE IS NOT NULL AND COALESCE(b.DEGR_CDE, '') != COALESCE(j2.DEGR_CDE, ''))\n"
   ]
  },
  {
   "cell_type": "markdown",
   "metadata": {},
   "source": [
    "## Any mismatched definitions?"
   ]
  },
  {
   "cell_type": "markdown",
   "metadata": {},
   "source": [
    "### DEGREE_HISTORY"
   ]
  },
  {
   "cell_type": "code",
   "execution_count": 7,
   "metadata": {
    "scrolled": true
   },
   "outputs": [
    {
     "data": {
      "text/html": [
       "(4 rows affected)"
      ]
     },
     "metadata": {},
     "output_type": "display_data"
    },
    {
     "data": {
      "text/html": [
       "Total execution time: 00:00:00.952"
      ]
     },
     "metadata": {},
     "output_type": "display_data"
    },
    {
     "data": {
      "application/vnd.dataresource+json": {
       "data": [
        {
         "0": "Degree",
         "1": "0"
        },
        {
         "0": "MajorMinor",
         "1": "0"
        },
        {
         "0": "Concentration",
         "1": "0"
        },
        {
         "0": "Certification",
         "1": "0"
        }
       ],
       "schema": {
        "fields": [
         {
          "name": "MismatchedDefinition"
         },
         {
          "name": "Count"
         }
        ]
       }
      },
      "text/html": [
       "<table><tr><th>MismatchedDefinition</th><th>Count</th></tr><tr><td>Degree</td><td>0</td></tr><tr><td>MajorMinor</td><td>0</td></tr><tr><td>Concentration</td><td>0</td></tr><tr><td>Certification</td><td>0</td></tr></table>"
      ]
     },
     "execution_count": 7,
     "metadata": {},
     "output_type": "execute_result"
    }
   ],
   "source": [
    "-- How many mismatches with degree definition?\n",
    "SELECT 'Degree' MismatchedDefinition, COUNT(*) Count\n",
    "FROM DEGREE_HISTORY d\n",
    "LEFT JOIN DEGREE_DEFINITION f ON d.DEGR_CDE = f.DEGREE\n",
    "WHERE d.DTE_DEGR_CONFERRED IS NOT NULL\n",
    "AND d.DEGR_CDE IS NOT NULL AND f.DEGREE IS NULL\n",
    "\n",
    "UNION\n",
    "\n",
    "-- How many mismatches with major/minor definition?\n",
    "SELECT 'MajorMinor', COUNT(*) Count\n",
    "FROM DEGREE_HISTORY d\n",
    "LEFT JOIN MAJOR_MINOR_DEF mj1 ON d.MAJOR_1 = mj1.MAJOR_CDE\n",
    "LEFT JOIN MAJOR_MINOR_DEF mj2 ON d.MAJOR_1 = mj2.MAJOR_CDE\n",
    "LEFT JOIN MAJOR_MINOR_DEF mj3 ON d.MAJOR_3 = mj3.MAJOR_CDE\n",
    "LEFT JOIN MAJOR_MINOR_DEF mn1 ON d.MINOR_1 = mn1.MAJOR_CDE\n",
    "LEFT JOIN MAJOR_MINOR_DEF mn2 ON d.MINOR_2 = mn2.MAJOR_CDE\n",
    "LEFT JOIN MAJOR_MINOR_DEF mn3 ON d.MINOR_3 = mn3.MAJOR_CDE\n",
    "WHERE d.DTE_DEGR_CONFERRED IS NOT NULL\n",
    "AND (\n",
    "(d.MAJOR_1 IS NOT NULL AND mj1.MAJOR_CDE IS NULL)\n",
    "OR (d.MAJOR_2 IS NOT NULL AND mj2.MAJOR_CDE IS NULL)\n",
    "OR (d.MAJOR_3 IS NOT NULL AND mj3.MAJOR_CDE IS NULL)\n",
    "OR (d.MINOR_1 IS NOT NULL AND mn1.MAJOR_CDE IS NULL)\n",
    "OR (d.MINOR_2 IS NOT NULL AND mn2.MAJOR_CDE IS NULL)\n",
    "OR (d.MINOR_3 IS NOT NULL AND mn3.MAJOR_CDE IS NULL)\n",
    ")\n",
    "\n",
    "UNION\n",
    "\n",
    "-- How many mismatches with concentration definition?\n",
    "SELECT 'Concentration', COUNT(*) Count\n",
    "FROM DEGREE_HISTORY d\n",
    "LEFT JOIN CONCENTRATION_DEF co1 ON d.CONCENTRATION_1 = co1.CONC_CDE\n",
    "LEFT JOIN CONCENTRATION_DEF co2 ON d.CONCENTRATION_2 = co2.CONC_CDE\n",
    "LEFT JOIN CONCENTRATION_DEF co3 ON d.CONCENTRATION_3 = co3.CONC_CDE\n",
    "WHERE d.DTE_DEGR_CONFERRED IS NOT NULL\n",
    "AND (\n",
    "(d.CONCENTRATION_1 IS NOT NULL and co1.CONC_CDE IS NULL)\n",
    "OR (d.CONCENTRATION_2 IS NOT NULL and co2.CONC_CDE IS NULL)\n",
    "OR (d.CONCENTRATION_3 IS NOT NULL and co3.CONC_CDE IS NULL)\n",
    ")\n",
    "\n",
    "UNION\n",
    "\n",
    "-- How many mismatches with certification definition?\n",
    "SELECT 'Certification', COUNT(*) Count\n",
    "FROM DEGREE_HISTORY d\n",
    "LEFT JOIN CERTIFICATION_DEF co1 ON d.CERTIFICATION_1 = co1.CERT_CDE\n",
    "LEFT JOIN CERTIFICATION_DEF co2 ON d.CERTIFICATION_2 = co2.CERT_CDE\n",
    "LEFT JOIN CERTIFICATION_DEF co3 ON d.CERTIFICATION_3 = co3.CERT_CDE\n",
    "WHERE d.DTE_DEGR_CONFERRED IS NOT NULL\n",
    "AND (\n",
    "(d.CERTIFICATION_1 IS NOT NULL and co1.CERT_CDE IS NULL)\n",
    "OR (d.CERTIFICATION_2 IS NOT NULL and co2.CERT_CDE IS NULL)\n",
    "OR (d.CERTIFICATION_3 IS NOT NULL and co3.CERT_CDE IS NULL)\n",
    ")"
   ]
  }
 ],
 "metadata": {
  "kernelspec": {
   "display_name": "SQL",
   "language": "sql",
   "name": "SQL"
  },
  "language_info": {
   "name": "sql",
   "version": ""
  }
 },
 "nbformat": 4,
 "nbformat_minor": 2
}
