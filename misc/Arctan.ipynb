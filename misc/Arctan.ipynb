{
 "cells": [
  {
   "cell_type": "code",
   "execution_count": 37,
   "metadata": {
    "collapsed": true
   },
   "outputs": [],
   "source": [
    "import numpy as np\n",
    "import cv2\n",
    "from math import *"
   ]
  },
  {
   "cell_type": "code",
   "execution_count": 3,
   "metadata": {
    "collapsed": true
   },
   "outputs": [],
   "source": [
    "def arctan(x):\n",
    "    c = (1 + sqrt(17) / 8)\n",
    "    return ( c*x + pow(x,2) + pow(x,3)) / ( 1 + (c + 1) * x + (c + 1) * pow(x,2) + pow(x,3))"
   ]
  },
  {
   "cell_type": "code",
   "execution_count": 21,
   "metadata": {
    "collapsed": true
   },
   "outputs": [],
   "source": [
    "def arctan2(x):\n",
    "    return pi*x/4 - x*(fabs(x) - 1)*(0.2447 + 0.0663*fabs(x))"
   ]
  },
  {
   "cell_type": "code",
   "execution_count": 34,
   "metadata": {},
   "outputs": [
    {
     "name": "stdout",
     "output_type": "stream",
     "text": [
      "-0.7853981633974483\n",
      "-0.7853981633974483\n",
      "-45.0\n",
      "-45.0\n"
     ]
    }
   ],
   "source": [
    "t = -1\n",
    "print(atan(t))\n",
    "print(arctan2(t))\n",
    "print(degrees(atan(t)))\n",
    "print(degrees(arctan2(t)))"
   ]
  },
  {
   "cell_type": "code",
   "execution_count": 35,
   "metadata": {},
   "outputs": [
    {
     "name": "stdout",
     "output_type": "stream",
     "text": [
      "-45.0\n",
      "-45.0\n"
     ]
    }
   ],
   "source": [
    "print(arctan2(t)*180/pi)\n",
    "print(degrees(atan(t)))"
   ]
  },
  {
   "cell_type": "code",
   "execution_count": null,
   "metadata": {
    "collapsed": true
   },
   "outputs": [],
   "source": []
  }
 ],
 "metadata": {
  "kernelspec": {
   "display_name": "Python 3",
   "language": "python",
   "name": "python3"
  },
  "language_info": {
   "codemirror_mode": {
    "name": "ipython",
    "version": 3
   },
   "file_extension": ".py",
   "mimetype": "text/x-python",
   "name": "python",
   "nbconvert_exporter": "python",
   "pygments_lexer": "ipython3",
   "version": "3.5.2"
  }
 },
 "nbformat": 4,
 "nbformat_minor": 2
}
