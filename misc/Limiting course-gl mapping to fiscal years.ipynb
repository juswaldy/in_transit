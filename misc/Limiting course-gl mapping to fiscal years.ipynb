{
 "cells": [
  {
   "cell_type": "markdown",
   "metadata": {},
   "source": [
    "# Limiting Course-GL mapping to only the specified fiscal years in course attributes"
   ]
  },
  {
   "cell_type": "markdown",
   "metadata": {},
   "source": [
    "## What fiscal years are specified in the course attributes?"
   ]
  },
  {
   "cell_type": "code",
   "execution_count": 3,
   "metadata": {},
   "outputs": [
    {
     "data": {
      "text/html": [
       "(1 row affected)"
      ]
     },
     "metadata": {},
     "output_type": "display_data"
    },
    {
     "data": {
      "text/html": [
       "(3 rows affected)"
      ]
     },
     "metadata": {},
     "output_type": "display_data"
    },
    {
     "data": {
      "text/html": [
       "Total execution time: 00:00:00.090"
      ]
     },
     "metadata": {},
     "output_type": "display_data"
    },
    {
     "data": {
      "application/vnd.dataresource+json": {
       "data": [
        {
         "0": "FY 2018-2019"
        }
       ],
       "schema": {
        "fields": [
         {
          "name": "fiscal_year"
         }
        ]
       }
      },
      "text/html": [
       "<table><tr><th>fiscal_year</th></tr><tr><td>FY 2018-2019</td></tr></table>"
      ]
     },
     "execution_count": 3,
     "metadata": {},
     "output_type": "execute_result"
    },
    {
     "data": {
      "application/vnd.dataresource+json": {
       "data": [
        {
         "0": "2018",
         "1": "FA"
        },
        {
         "0": "2018",
         "1": "SU"
        },
        {
         "0": "2019",
         "1": "SP"
        }
       ],
       "schema": {
        "fields": [
         {
          "name": "YR_CDE"
         },
         {
          "name": "TRM_CDE"
         }
        ]
       }
      },
      "text/html": [
       "<table><tr><th>YR_CDE</th><th>TRM_CDE</th></tr><tr><td>2018</td><td>FA</td></tr><tr><td>2018</td><td>SU</td></tr><tr><td>2019</td><td>SP</td></tr></table>"
      ]
     },
     "execution_count": 3,
     "metadata": {},
     "output_type": "execute_result"
    }
   ],
   "source": [
    "use FinancialReporting;\r\n",
    "select distinct fiscal_year from STAGING.ATTRIBUTE_COURSE where hierarchy_version_id = 133 and attribute_version_id = 150;\r\n",
    "select distinct Year YR_CDE, UPPER(LEFT(Fiscal_Term, 2)) TRM_CDE from INPUT.PERIODS_BY_DAY\r\n",
    "where Fiscal_Year in (\r\n",
    "    select fiscal_year from STAGING.ATTRIBUTE_COURSE where hierarchy_version_id = 133 and attribute_version_id = 150\r\n",
    "    );"
   ]
  },
  {
   "cell_type": "markdown",
   "metadata": {},
   "source": [
    "## Generate mapping: current state"
   ]
  },
  {
   "cell_type": "code",
   "execution_count": 1,
   "metadata": {},
   "outputs": [
    {
     "data": {
      "text/html": [
       "(25879 rows affected)"
      ]
     },
     "metadata": {},
     "output_type": "display_data"
    },
    {
     "data": {
      "text/html": [
       "(4604 rows affected)"
      ]
     },
     "metadata": {},
     "output_type": "display_data"
    },
    {
     "data": {
      "text/html": [
       "(25879 rows affected)"
      ]
     },
     "metadata": {},
     "output_type": "display_data"
    },
    {
     "data": {
      "text/html": [
       "Total execution time: 00:00:28.728"
      ]
     },
     "metadata": {},
     "output_type": "display_data"
    }
   ],
   "source": [
    "use FinancialReporting;\r\n",
    "exec STAGING.GENERATE_COURSE_GL_MAPPING 133, 150;"
   ]
  },
  {
   "cell_type": "markdown",
   "metadata": {},
   "source": [
    "## Save current state"
   ]
  },
  {
   "cell_type": "code",
   "execution_count": 1,
   "metadata": {},
   "outputs": [
    {
     "data": {
      "text/html": [
       "(25879 rows affected)"
      ]
     },
     "metadata": {},
     "output_type": "display_data"
    },
    {
     "data": {
      "text/html": [
       "Total execution time: 00:00:00.204"
      ]
     },
     "metadata": {},
     "output_type": "display_data"
    }
   ],
   "source": [
    "use TmsEPrd;\r\n",
    "select * into ##jjj_current from TWU_VENA_COURSE_GL_MAPPING where HIERARCHY_VERSION_ID = 133 and ATTRIBUTE_VERSION_ID = 150;"
   ]
  },
  {
   "cell_type": "markdown",
   "metadata": {},
   "source": [
    "## ALTER stored procedure STAGING.GENERATE_COURSE_GL_MAPPING with future logic"
   ]
  },
  {
   "cell_type": "code",
   "execution_count": 8,
   "metadata": {},
   "outputs": [
    {
     "data": {
      "text/html": [
       "Commands completed successfully."
      ]
     },
     "metadata": {},
     "output_type": "display_data"
    },
    {
     "data": {
      "text/html": [
       "Total execution time: 00:00:00.022"
      ]
     },
     "metadata": {},
     "output_type": "display_data"
    }
   ],
   "source": [
    "-- Use FinancialReporting;\r\n",
    "-- ALTER PROCEDURE STAGING.GENERATE_COURSE_GL_MAPPING"
   ]
  },
  {
   "cell_type": "markdown",
   "metadata": {},
   "source": [
    "## Generate mapping: future state"
   ]
  },
  {
   "cell_type": "code",
   "execution_count": 3,
   "metadata": {},
   "outputs": [
    {
     "data": {
      "text/html": [
       "(1 row affected)"
      ]
     },
     "metadata": {},
     "output_type": "display_data"
    },
    {
     "data": {
      "text/html": [
       "(3 rows affected)"
      ]
     },
     "metadata": {},
     "output_type": "display_data"
    },
    {
     "data": {
      "text/html": [
       "(4604 rows affected)"
      ]
     },
     "metadata": {},
     "output_type": "display_data"
    },
    {
     "data": {
      "text/html": [
       "(25879 rows affected)"
      ]
     },
     "metadata": {},
     "output_type": "display_data"
    },
    {
     "data": {
      "text/html": [
       "(4604 rows affected)"
      ]
     },
     "metadata": {},
     "output_type": "display_data"
    },
    {
     "data": {
      "text/html": [
       "Total execution time: 00:00:07.434"
      ]
     },
     "metadata": {},
     "output_type": "display_data"
    }
   ],
   "source": [
    "use FinancialReporting;\r\n",
    "exec STAGING.GENERATE_COURSE_GL_MAPPING 133, 150;"
   ]
  },
  {
   "cell_type": "markdown",
   "metadata": {},
   "source": [
    "## Save future state"
   ]
  },
  {
   "cell_type": "code",
   "execution_count": 2,
   "metadata": {},
   "outputs": [
    {
     "data": {
      "text/html": [
       "(4604 rows affected)"
      ]
     },
     "metadata": {},
     "output_type": "display_data"
    },
    {
     "data": {
      "text/html": [
       "Total execution time: 00:00:00.086"
      ]
     },
     "metadata": {},
     "output_type": "display_data"
    }
   ],
   "source": [
    "-- Save future state.\r\n",
    "use TmsEPrd;\r\n",
    "select * into ##jjj_future from TWU_VENA_COURSE_GL_MAPPING where HIERARCHY_VERSION_ID = 133 and ATTRIBUTE_VERSION_ID = 150;"
   ]
  },
  {
   "cell_type": "markdown",
   "metadata": {},
   "source": [
    "## What does current vs future look like for the specified fiscal year FY 2018-2019?"
   ]
  },
  {
   "cell_type": "code",
   "execution_count": 15,
   "metadata": {},
   "outputs": [
    {
     "data": {
      "text/html": [
       "(3 rows affected)"
      ]
     },
     "metadata": {},
     "output_type": "display_data"
    },
    {
     "data": {
      "text/html": [
       "(3 rows affected)"
      ]
     },
     "metadata": {},
     "output_type": "display_data"
    },
    {
     "data": {
      "text/html": [
       "(4 rows affected)"
      ]
     },
     "metadata": {},
     "output_type": "display_data"
    },
    {
     "data": {
      "text/html": [
       "Total execution time: 00:00:00.560"
      ]
     },
     "metadata": {},
     "output_type": "display_data"
    },
    {
     "data": {
      "application/vnd.dataresource+json": {
       "data": [
        {
         "0": "2018",
         "1": "SU"
        },
        {
         "0": "2018",
         "1": "FA"
        },
        {
         "0": "2019",
         "1": "SP"
        }
       ],
       "schema": {
        "fields": [
         {
          "name": "YR_CDE"
         },
         {
          "name": "TRM_CDE"
         }
        ]
       }
      },
      "text/html": [
       "<table><tr><th>YR_CDE</th><th>TRM_CDE</th></tr><tr><td>2018</td><td>SU</td></tr><tr><td>2018</td><td>FA</td></tr><tr><td>2019</td><td>SP</td></tr></table>"
      ]
     },
     "execution_count": 15,
     "metadata": {},
     "output_type": "execute_result"
    },
    {
     "data": {
      "application/vnd.dataresource+json": {
       "data": [
        {
         "0": "1 Num rows in current",
         "1": "4604"
        },
        {
         "0": "2 Num rows in future",
         "1": "4604"
        },
        {
         "0": "3 Num rows in current but not in future",
         "1": "0"
        },
        {
         "0": "4 Num rows in future but not in current",
         "1": "0"
        }
       ],
       "schema": {
        "fields": [
         {
          "name": "Key"
         },
         {
          "name": "Value"
         }
        ]
       }
      },
      "text/html": [
       "<table><tr><th>Key</th><th>Value</th></tr><tr><td>1 Num rows in current</td><td>4604</td></tr><tr><td>2 Num rows in future</td><td>4604</td></tr><tr><td>3 Num rows in current but not in future</td><td>0</td></tr><tr><td>4 Num rows in future but not in current</td><td>0</td></tr></table>"
      ]
     },
     "execution_count": 15,
     "metadata": {},
     "output_type": "execute_result"
    }
   ],
   "source": [
    "use TmsEPrd;\r\n",
    "\r\n",
    "declare\r\n",
    "    @hierarchyId INT = 133,\r\n",
    "    @attributeId INT = 150;\r\n",
    "\r\n",
    "declare @yearterms table (YR_CDE CHAR(4), TRM_CDE CHAR(2));\r\n",
    "insert into @yearterms values\r\n",
    "('2018', 'SU'),\r\n",
    "('2018', 'FA'),\r\n",
    "('2019', 'SP');\r\n",
    "\r\n",
    "select * from @yearterms;\r\n",
    "\r\n",
    "select '1 Num rows in current' [Key], count(*) [Value]\r\n",
    "from ##jjj_current\r\n",
    "where HIERARCHY_VERSION_ID = @hierarchyId and ATTRIBUTE_VERSION_ID = @attributeId\r\n",
    "and concat(YR_CDE, TRM_CDE) in (select concat(YR_CDE, TRM_CDE) from @yearterms)\r\n",
    "\r\n",
    "union\r\n",
    "\r\n",
    "select '2 Num rows in future' [Key], count(*) [Value]\r\n",
    "from ##jjj_future\r\n",
    "where HIERARCHY_VERSION_ID = @hierarchyId and ATTRIBUTE_VERSION_ID = @attributeId\r\n",
    "and concat(YR_CDE, TRM_CDE) in (select concat(YR_CDE, TRM_CDE) from @yearterms)\r\n",
    "\r\n",
    "union\r\n",
    "\r\n",
    "select '3 Num rows in current but not in future' [Key], count(*) [Value] from (\r\n",
    "select MAPPING_TYPE, YR_CDE, TRM_CDE, CRS_CDE, CRS_CDE_HIER, LOC_CDE, ACCT_CDE\r\n",
    "from ##jjj_current\r\n",
    "where HIERARCHY_VERSION_ID = @hierarchyId and ATTRIBUTE_VERSION_ID = @attributeId\r\n",
    "and concat(YR_CDE, TRM_CDE) in (select concat(YR_CDE, TRM_CDE) from @yearterms)\r\n",
    "except\r\n",
    "select MAPPING_TYPE, YR_CDE, TRM_CDE, CRS_CDE, CRS_CDE_HIER, LOC_CDE, ACCT_CDE\r\n",
    "from ##jjj_future\r\n",
    "where HIERARCHY_VERSION_ID = @hierarchyId and ATTRIBUTE_VERSION_ID = @attributeId\r\n",
    "and concat(YR_CDE, TRM_CDE) in (select concat(YR_CDE, TRM_CDE) from @yearterms)\r\n",
    ") x\r\n",
    "\r\n",
    "union\r\n",
    "\r\n",
    "select '4 Num rows in future but not in current' [Key], count(*) [Value] from (\r\n",
    "select MAPPING_TYPE, YR_CDE, TRM_CDE, CRS_CDE, CRS_CDE_HIER, LOC_CDE, ACCT_CDE\r\n",
    "from ##jjj_future\r\n",
    "where HIERARCHY_VERSION_ID = @hierarchyId and ATTRIBUTE_VERSION_ID = @attributeId\r\n",
    "and concat(YR_CDE, TRM_CDE) in (select concat(YR_CDE, TRM_CDE) from @yearterms)\r\n",
    "except\r\n",
    "select MAPPING_TYPE, YR_CDE, TRM_CDE, CRS_CDE, CRS_CDE_HIER, LOC_CDE, ACCT_CDE\r\n",
    "from ##jjj_current\r\n",
    "where HIERARCHY_VERSION_ID = @hierarchyId and ATTRIBUTE_VERSION_ID = @attributeId\r\n",
    "and concat(YR_CDE, TRM_CDE) in (select concat(YR_CDE, TRM_CDE) from @yearterms)\r\n",
    ") x"
   ]
  },
  {
   "cell_type": "markdown",
   "metadata": {},
   "source": [
    "## What does it look like for calendar year 2018?"
   ]
  },
  {
   "cell_type": "code",
   "execution_count": 16,
   "metadata": {},
   "outputs": [
    {
     "data": {
      "text/html": [
       "(3 rows affected)"
      ]
     },
     "metadata": {},
     "output_type": "display_data"
    },
    {
     "data": {
      "text/html": [
       "(3 rows affected)"
      ]
     },
     "metadata": {},
     "output_type": "display_data"
    },
    {
     "data": {
      "text/html": [
       "(4 rows affected)"
      ]
     },
     "metadata": {},
     "output_type": "display_data"
    },
    {
     "data": {
      "text/html": [
       "Total execution time: 00:00:00.433"
      ]
     },
     "metadata": {},
     "output_type": "display_data"
    },
    {
     "data": {
      "application/vnd.dataresource+json": {
       "data": [
        {
         "0": "2018",
         "1": "SP"
        },
        {
         "0": "2018",
         "1": "SU"
        },
        {
         "0": "2018",
         "1": "FA"
        }
       ],
       "schema": {
        "fields": [
         {
          "name": "YR_CDE"
         },
         {
          "name": "TRM_CDE"
         }
        ]
       }
      },
      "text/html": [
       "<table><tr><th>YR_CDE</th><th>TRM_CDE</th></tr><tr><td>2018</td><td>SP</td></tr><tr><td>2018</td><td>SU</td></tr><tr><td>2018</td><td>FA</td></tr></table>"
      ]
     },
     "execution_count": 16,
     "metadata": {},
     "output_type": "execute_result"
    },
    {
     "data": {
      "application/vnd.dataresource+json": {
       "data": [
        {
         "0": "1 Num rows in current",
         "1": "4567"
        },
        {
         "0": "2 Num rows in future",
         "1": "2703"
        },
        {
         "0": "3 Num rows in current but not in future",
         "1": "1864"
        },
        {
         "0": "4 Num rows in future but not in current",
         "1": "0"
        }
       ],
       "schema": {
        "fields": [
         {
          "name": "Key"
         },
         {
          "name": "Value"
         }
        ]
       }
      },
      "text/html": [
       "<table><tr><th>Key</th><th>Value</th></tr><tr><td>1 Num rows in current</td><td>4567</td></tr><tr><td>2 Num rows in future</td><td>2703</td></tr><tr><td>3 Num rows in current but not in future</td><td>1864</td></tr><tr><td>4 Num rows in future but not in current</td><td>0</td></tr></table>"
      ]
     },
     "execution_count": 16,
     "metadata": {},
     "output_type": "execute_result"
    }
   ],
   "source": [
    "use TmsEPrd;\r\n",
    "\r\n",
    "declare\r\n",
    "    @hierarchyId INT = 133,\r\n",
    "    @attributeId INT = 150;\r\n",
    "\r\n",
    "declare @yearterms table (YR_CDE CHAR(4), TRM_CDE CHAR(2));\r\n",
    "insert into @yearterms values\r\n",
    "('2018', 'SP'),\r\n",
    "('2018', 'SU'),\r\n",
    "('2018', 'FA');\r\n",
    "\r\n",
    "select * from @yearterms;\r\n",
    "\r\n",
    "select '1 Num rows in current' [Key], count(*) [Value]\r\n",
    "from ##jjj_current\r\n",
    "where HIERARCHY_VERSION_ID = @hierarchyId and ATTRIBUTE_VERSION_ID = @attributeId\r\n",
    "and concat(YR_CDE, TRM_CDE) in (select concat(YR_CDE, TRM_CDE) from @yearterms)\r\n",
    "\r\n",
    "union\r\n",
    "\r\n",
    "select '2 Num rows in future' [Key], count(*) [Value]\r\n",
    "from ##jjj_future\r\n",
    "where HIERARCHY_VERSION_ID = @hierarchyId and ATTRIBUTE_VERSION_ID = @attributeId\r\n",
    "and concat(YR_CDE, TRM_CDE) in (select concat(YR_CDE, TRM_CDE) from @yearterms)\r\n",
    "\r\n",
    "union\r\n",
    "\r\n",
    "select '3 Num rows in current but not in future' [Key], count(*) [Value] from (\r\n",
    "select MAPPING_TYPE, YR_CDE, TRM_CDE, CRS_CDE, CRS_CDE_HIER, LOC_CDE, ACCT_CDE\r\n",
    "from ##jjj_current\r\n",
    "where HIERARCHY_VERSION_ID = @hierarchyId and ATTRIBUTE_VERSION_ID = @attributeId\r\n",
    "and concat(YR_CDE, TRM_CDE) in (select concat(YR_CDE, TRM_CDE) from @yearterms)\r\n",
    "except\r\n",
    "select MAPPING_TYPE, YR_CDE, TRM_CDE, CRS_CDE, CRS_CDE_HIER, LOC_CDE, ACCT_CDE\r\n",
    "from ##jjj_future\r\n",
    "where HIERARCHY_VERSION_ID = @hierarchyId and ATTRIBUTE_VERSION_ID = @attributeId\r\n",
    "and concat(YR_CDE, TRM_CDE) in (select concat(YR_CDE, TRM_CDE) from @yearterms)\r\n",
    ") x\r\n",
    "\r\n",
    "union\r\n",
    "\r\n",
    "select '4 Num rows in future but not in current' [Key], count(*) [Value] from (\r\n",
    "select MAPPING_TYPE, YR_CDE, TRM_CDE, CRS_CDE, CRS_CDE_HIER, LOC_CDE, ACCT_CDE\r\n",
    "from ##jjj_future\r\n",
    "where HIERARCHY_VERSION_ID = @hierarchyId and ATTRIBUTE_VERSION_ID = @attributeId\r\n",
    "and concat(YR_CDE, TRM_CDE) in (select concat(YR_CDE, TRM_CDE) from @yearterms)\r\n",
    "except\r\n",
    "select MAPPING_TYPE, YR_CDE, TRM_CDE, CRS_CDE, CRS_CDE_HIER, LOC_CDE, ACCT_CDE\r\n",
    "from ##jjj_current\r\n",
    "where HIERARCHY_VERSION_ID = @hierarchyId and ATTRIBUTE_VERSION_ID = @attributeId\r\n",
    "and concat(YR_CDE, TRM_CDE) in (select concat(YR_CDE, TRM_CDE) from @yearterms)\r\n",
    ") x"
   ]
  },
  {
   "cell_type": "markdown",
   "metadata": {},
   "source": [
    "## What does it look like for calendar year 2019?"
   ]
  },
  {
   "cell_type": "code",
   "execution_count": 17,
   "metadata": {},
   "outputs": [
    {
     "data": {
      "text/html": [
       "(3 rows affected)"
      ]
     },
     "metadata": {},
     "output_type": "display_data"
    },
    {
     "data": {
      "text/html": [
       "(3 rows affected)"
      ]
     },
     "metadata": {},
     "output_type": "display_data"
    },
    {
     "data": {
      "text/html": [
       "(4 rows affected)"
      ]
     },
     "metadata": {},
     "output_type": "display_data"
    },
    {
     "data": {
      "text/html": [
       "Total execution time: 00:00:00.705"
      ]
     },
     "metadata": {},
     "output_type": "display_data"
    },
    {
     "data": {
      "application/vnd.dataresource+json": {
       "data": [
        {
         "0": "2019",
         "1": "SP"
        },
        {
         "0": "2019",
         "1": "SU"
        },
        {
         "0": "2019",
         "1": "FA"
        }
       ],
       "schema": {
        "fields": [
         {
          "name": "YR_CDE"
         },
         {
          "name": "TRM_CDE"
         }
        ]
       }
      },
      "text/html": [
       "<table><tr><th>YR_CDE</th><th>TRM_CDE</th></tr><tr><td>2019</td><td>SP</td></tr><tr><td>2019</td><td>SU</td></tr><tr><td>2019</td><td>FA</td></tr></table>"
      ]
     },
     "execution_count": 17,
     "metadata": {},
     "output_type": "execute_result"
    },
    {
     "data": {
      "application/vnd.dataresource+json": {
       "data": [
        {
         "0": "1 Num rows in current",
         "1": "4513"
        },
        {
         "0": "2 Num rows in future",
         "1": "1901"
        },
        {
         "0": "3 Num rows in current but not in future",
         "1": "2612"
        },
        {
         "0": "4 Num rows in future but not in current",
         "1": "0"
        }
       ],
       "schema": {
        "fields": [
         {
          "name": "Key"
         },
         {
          "name": "Value"
         }
        ]
       }
      },
      "text/html": [
       "<table><tr><th>Key</th><th>Value</th></tr><tr><td>1 Num rows in current</td><td>4513</td></tr><tr><td>2 Num rows in future</td><td>1901</td></tr><tr><td>3 Num rows in current but not in future</td><td>2612</td></tr><tr><td>4 Num rows in future but not in current</td><td>0</td></tr></table>"
      ]
     },
     "execution_count": 17,
     "metadata": {},
     "output_type": "execute_result"
    }
   ],
   "source": [
    "use TmsEPrd;\r\n",
    "\r\n",
    "declare\r\n",
    "    @hierarchyId INT = 133,\r\n",
    "    @attributeId INT = 150;\r\n",
    "\r\n",
    "declare @yearterms table (YR_CDE CHAR(4), TRM_CDE CHAR(2));\r\n",
    "insert into @yearterms values\r\n",
    "('2019', 'SP'),\r\n",
    "('2019', 'SU'),\r\n",
    "('2019', 'FA');\r\n",
    "\r\n",
    "select * from @yearterms;\r\n",
    "\r\n",
    "select '1 Num rows in current' [Key], count(*) [Value]\r\n",
    "from ##jjj_current\r\n",
    "where HIERARCHY_VERSION_ID = @hierarchyId and ATTRIBUTE_VERSION_ID = @attributeId\r\n",
    "and concat(YR_CDE, TRM_CDE) in (select concat(YR_CDE, TRM_CDE) from @yearterms)\r\n",
    "\r\n",
    "union\r\n",
    "\r\n",
    "select '2 Num rows in future' [Key], count(*) [Value]\r\n",
    "from ##jjj_future\r\n",
    "where HIERARCHY_VERSION_ID = @hierarchyId and ATTRIBUTE_VERSION_ID = @attributeId\r\n",
    "and concat(YR_CDE, TRM_CDE) in (select concat(YR_CDE, TRM_CDE) from @yearterms)\r\n",
    "\r\n",
    "union\r\n",
    "\r\n",
    "select '3 Num rows in current but not in future' [Key], count(*) [Value] from (\r\n",
    "select MAPPING_TYPE, YR_CDE, TRM_CDE, CRS_CDE, CRS_CDE_HIER, LOC_CDE, ACCT_CDE\r\n",
    "from ##jjj_current\r\n",
    "where HIERARCHY_VERSION_ID = @hierarchyId and ATTRIBUTE_VERSION_ID = @attributeId\r\n",
    "and concat(YR_CDE, TRM_CDE) in (select concat(YR_CDE, TRM_CDE) from @yearterms)\r\n",
    "except\r\n",
    "select MAPPING_TYPE, YR_CDE, TRM_CDE, CRS_CDE, CRS_CDE_HIER, LOC_CDE, ACCT_CDE\r\n",
    "from ##jjj_future\r\n",
    "where HIERARCHY_VERSION_ID = @hierarchyId and ATTRIBUTE_VERSION_ID = @attributeId\r\n",
    "and concat(YR_CDE, TRM_CDE) in (select concat(YR_CDE, TRM_CDE) from @yearterms)\r\n",
    ") x\r\n",
    "\r\n",
    "union\r\n",
    "\r\n",
    "select '4 Num rows in future but not in current' [Key], count(*) [Value] from (\r\n",
    "select MAPPING_TYPE, YR_CDE, TRM_CDE, CRS_CDE, CRS_CDE_HIER, LOC_CDE, ACCT_CDE\r\n",
    "from ##jjj_future\r\n",
    "where HIERARCHY_VERSION_ID = @hierarchyId and ATTRIBUTE_VERSION_ID = @attributeId\r\n",
    "and concat(YR_CDE, TRM_CDE) in (select concat(YR_CDE, TRM_CDE) from @yearterms)\r\n",
    "except\r\n",
    "select MAPPING_TYPE, YR_CDE, TRM_CDE, CRS_CDE, CRS_CDE_HIER, LOC_CDE, ACCT_CDE\r\n",
    "from ##jjj_current\r\n",
    "where HIERARCHY_VERSION_ID = @hierarchyId and ATTRIBUTE_VERSION_ID = @attributeId\r\n",
    "and concat(YR_CDE, TRM_CDE) in (select concat(YR_CDE, TRM_CDE) from @yearterms)\r\n",
    ") x"
   ]
  }
 ],
 "metadata": {
  "kernelspec": {
   "display_name": "SQL",
   "language": "sql",
   "name": "SQL"
  },
  "language_info": {
   "name": "sql",
   "version": ""
  }
 },
 "nbformat": 4,
 "nbformat_minor": 2
}
