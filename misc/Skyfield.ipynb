{
 "cells": [
  {
   "cell_type": "code",
   "execution_count": 1,
   "metadata": {},
   "outputs": [],
   "source": [
    "from datetime import datetime\n",
    "from pytz import timezone\n",
    "from skyfield.api import load, Topos\n",
    "from skyfield import api, almanac"
   ]
  },
  {
   "cell_type": "code",
   "execution_count": 2,
   "metadata": {},
   "outputs": [],
   "source": [
    "ts = load.timescale()"
   ]
  },
  {
   "cell_type": "code",
   "execution_count": 3,
   "metadata": {},
   "outputs": [],
   "source": [
    "planets = load('de421.bsp')"
   ]
  },
  {
   "cell_type": "code",
   "execution_count": 4,
   "metadata": {},
   "outputs": [],
   "source": [
    "earth, moon, sun, jupiter, venus = planets['earth'], planets['moon'], planets['sun'], planets['jupiter barycenter'], planets['venus']"
   ]
  },
  {
   "cell_type": "code",
   "execution_count": 5,
   "metadata": {},
   "outputs": [],
   "source": [
    "# Time and place.\n",
    "pacific = timezone('Canada/Pacific')\n",
    "\n",
    "jusoffice = earth + Topos('49.14145100 N', '122.60026800 W')\n",
    "jushome = earth + Topos('49.17897300 N', '122.64540700 W')\n",
    "matsquidike = earth + Topos('49.12741100 N', '122.22289000 W')\n",
    "harryjerome = earth + Topos('49.28844300 N', '122.94163600 W')\n",
    "derbyreach = earth + Topos('49.19825000 N', '122.59613790 W')\n",
    "harrisonhotsprings = earth + Topos('49.30459200 N', '121.77318100 W')\n",
    "oldyalerd = earth + Topos('49.0203070 N', '122.1248580 W')\n",
    "macdonaldpark = earth + Topos('49.0895856 N', '122.1374938 W')"
   ]
  },
  {
   "cell_type": "markdown",
   "metadata": {},
   "source": [
    "## Current sun and moon"
   ]
  },
  {
   "cell_type": "code",
   "execution_count": 6,
   "metadata": {},
   "outputs": [
    {
     "name": "stdout",
     "output_type": "stream",
     "text": [
      "2021-06-10 15:34:40.145830-07:00\n",
      "55.47010769627196 235.1379269256428\n"
     ]
    }
   ],
   "source": [
    "t = ts.now()\n",
    "astrometric = jushome.at(t).observe(moon)\n",
    "alt, az, d = astrometric.apparent().altaz()\n",
    "print(t.astimezone(pacific))\n",
    "print(alt.degrees, az.degrees)"
   ]
  },
  {
   "cell_type": "code",
   "execution_count": 7,
   "metadata": {},
   "outputs": [
    {
     "name": "stdout",
     "output_type": "stream",
     "text": [
      "2021-06-10 15:34:40.174421-07:00\n",
      "-40.61476334539537 305.96519313126265\n"
     ]
    }
   ],
   "source": [
    "t = ts.now()\n",
    "astrometric = jushome.at(t).observe(jupiter)\n",
    "alt, az, d = astrometric.apparent().altaz()\n",
    "print(t.astimezone(pacific))\n",
    "print(alt.degrees, az.degrees)"
   ]
  },
  {
   "cell_type": "code",
   "execution_count": 8,
   "metadata": {},
   "outputs": [],
   "source": [
    "def getApparent(body, time, place):\n",
    "    astrometric = place.at(time).observe(body)\n",
    "    alt, az, d = astrometric.apparent().altaz()\n",
    "    return alt, az"
   ]
  },
  {
   "cell_type": "code",
   "execution_count": 9,
   "metadata": {},
   "outputs": [],
   "source": [
    "from skyfield.framelib import ecliptic_frame\n",
    "def getMoonPhase(time, place, sun, moon):\n",
    "    e = place.at(time)\n",
    "    _, slon, _ = e.observe(sun).apparent().frame_latlon(ecliptic_frame)\n",
    "    _, mlon, _ = e.observe(moon).apparent().frame_latlon(ecliptic_frame)\n",
    "    phase = (mlon.degrees - slon.degrees) % 360.0\n",
    "    return phase"
   ]
  },
  {
   "cell_type": "markdown",
   "metadata": {},
   "source": [
    "## Sun and moon alt + azi"
   ]
  },
  {
   "cell_type": "code",
   "execution_count": 10,
   "metadata": {
    "scrolled": true
   },
   "outputs": [
    {
     "name": "stdout",
     "output_type": "stream",
     "text": [
      "2021-02-27 07:00:00-08:00 -0.18998057089254816 102.23360629145459\n",
      "2021-02-27 07:05:00-08:00 0.6082243758430238 103.17950536690445\n",
      "2021-02-27 07:10:00-08:00 1.4033520113172386 104.1281388460834\n",
      "2021-02-27 07:15:00-08:00 2.1951749883650273 105.07986220708948\n",
      "2021-02-27 07:20:00-08:00 2.9834635075564147 106.03502878402489\n",
      "2021-02-27 07:25:00-08:00 3.76798507266863 106.99398982483109\n",
      "2021-02-27 07:30:00-08:00 4.548504251185152 107.95709452143454\n",
      "2021-02-27 07:35:00-08:00 5.324782440145698 108.92469001038722\n",
      "2021-02-27 07:40:00-08:00 6.096577637716738 109.89712134205915\n",
      "2021-02-27 07:45:00-08:00 6.863644220959851 110.87473141638299\n",
      "2021-02-27 07:50:00-08:00 7.625732730352605 111.85786088304758\n",
      "2021-02-27 07:55:00-08:00 8.382589661724557 112.84684800397328\n"
     ]
    }
   ],
   "source": [
    "body = sun\n",
    "y, m, d, h = 2021, 2, 27, 7\n",
    "place = jushome\n",
    "for mi in range(0, 60, 5):\n",
    "    p = pacific.localize(datetime(y, m, d, h, mi, 0))\n",
    "    t = ts.utc(p)\n",
    "    alt, az = getApparent(body, t, place)\n",
    "    print(p, alt.degrees, az.degrees)"
   ]
  },
  {
   "cell_type": "code",
   "execution_count": 11,
   "metadata": {
    "scrolled": false
   },
   "outputs": [
    {
     "name": "stdout",
     "output_type": "stream",
     "text": [
      "2021-02-27 07:00:00-08:00 5.1107463302182605 280.2592211758113\n",
      "2021-02-27 07:05:00-08:00 4.320121639343267 281.14526041631143\n",
      "2021-02-27 07:10:00-08:00 3.5320048378243323 282.0323547719705\n",
      "2021-02-27 07:15:00-08:00 2.746580693496391 282.9208259611669\n",
      "2021-02-27 07:20:00-08:00 1.964034962848073 283.8109925290977\n",
      "2021-02-27 07:25:00-08:00 1.184554599603811 284.70317001921956\n",
      "2021-02-27 07:30:00-08:00 0.40832795893987806 285.5976711256406\n",
      "2021-02-27 07:35:00-08:00 -0.3644550026050334 286.4948058256031\n",
      "2021-02-27 07:40:00-08:00 -1.133602531541229 287.39488149123923\n",
      "2021-02-27 07:45:00-08:00 -1.8989208861709033 288.2982029797191\n",
      "2021-02-27 07:50:00-08:00 -2.660214149771579 289.2050727008202\n",
      "2021-02-27 07:55:00-08:00 -3.4172840483839977 290.1157906609157\n"
     ]
    }
   ],
   "source": [
    "body = moon\n",
    "y, m, d = 2021, 2, 27\n",
    "place = jushome\n",
    "for h in range(7, 8):\n",
    "    for mi in range(0, 60, 5):\n",
    "        p = pacific.localize(datetime(y, m, d, h, mi, 0))\n",
    "        t = ts.utc(p)\n",
    "        alt, az = getApparent(body, t, place)\n",
    "        print(p, alt.degrees, az.degrees)"
   ]
  },
  {
   "cell_type": "code",
   "execution_count": 12,
   "metadata": {},
   "outputs": [
    {
     "name": "stdout",
     "output_type": "stream",
     "text": [
      "2020-04-27 20:00:00-07:00 38.11458051439673 269.68436360131005\n",
      "2020-04-27 20:05:00-07:00 37.29656717554416 270.62988427592666\n",
      "2020-04-27 20:10:00-07:00 36.47870147516939 271.5653746962365\n",
      "2020-04-27 20:15:00-07:00 35.66119894314161 272.4915304001698\n",
      "2020-04-27 20:20:00-07:00 34.84426877678332 273.4090144446371\n",
      "2020-04-27 20:25:00-07:00 34.028114449220645 274.3184594686135\n",
      "2020-04-27 20:30:00-07:00 33.212934273973275 275.2204696236028\n",
      "2020-04-27 20:35:00-07:00 32.39892192948311 276.1156223782935\n",
      "2020-04-27 20:40:00-07:00 31.58626694693333 277.0044702042053\n",
      "2020-04-27 20:45:00-07:00 30.775155164440694 277.8875421489661\n",
      "2020-04-27 20:50:00-07:00 29.965769150388 278.76534530370094\n",
      "2020-04-27 20:55:00-07:00 29.15828859846855 279.63836617070643\n"
     ]
    }
   ],
   "source": [
    "body = venus\n",
    "y, m, d, h = 2020, 4, 27, 20\n",
    "place = jushome\n",
    "for mi in range(0, 60, 5):\n",
    "    p = pacific.localize(datetime(y, m, d, h, mi, 0))\n",
    "    t = ts.utc(p)\n",
    "    alt, az = getApparent(body, t, place)\n",
    "    print(p, alt.degrees, az.degrees)"
   ]
  },
  {
   "cell_type": "markdown",
   "metadata": {},
   "source": [
    "## Solar system planets"
   ]
  },
  {
   "cell_type": "code",
   "execution_count": 13,
   "metadata": {},
   "outputs": [
    {
     "name": "stdout",
     "output_type": "stream",
     "text": [
      "SPICE kernel file 'de405.bsp' has 15 segments\n",
      "  JD 2433282.50 - JD 2469807.50  (1949-12-31 through 2049-12-31)\n",
      "      0 -> 1    SOLAR SYSTEM BARYCENTER -> MERCURY BARYCENTER\n",
      "      0 -> 2    SOLAR SYSTEM BARYCENTER -> VENUS BARYCENTER\n",
      "      0 -> 3    SOLAR SYSTEM BARYCENTER -> EARTH BARYCENTER\n",
      "      0 -> 4    SOLAR SYSTEM BARYCENTER -> MARS BARYCENTER\n",
      "      0 -> 5    SOLAR SYSTEM BARYCENTER -> JUPITER BARYCENTER\n",
      "      0 -> 6    SOLAR SYSTEM BARYCENTER -> SATURN BARYCENTER\n",
      "      0 -> 7    SOLAR SYSTEM BARYCENTER -> URANUS BARYCENTER\n",
      "      0 -> 8    SOLAR SYSTEM BARYCENTER -> NEPTUNE BARYCENTER\n",
      "      0 -> 9    SOLAR SYSTEM BARYCENTER -> PLUTO BARYCENTER\n",
      "      0 -> 10   SOLAR SYSTEM BARYCENTER -> SUN\n",
      "      3 -> 301  EARTH BARYCENTER -> MOON\n",
      "      3 -> 399  EARTH BARYCENTER -> EARTH\n",
      "      1 -> 199  MERCURY BARYCENTER -> MERCURY\n",
      "      2 -> 299  VENUS BARYCENTER -> VENUS\n",
      "      4 -> 499  MARS BARYCENTER -> MARS\n"
     ]
    }
   ],
   "source": [
    "solarsystem = load('de405.bsp')\n",
    "print(solarsystem)"
   ]
  },
  {
   "cell_type": "code",
   "execution_count": 14,
   "metadata": {},
   "outputs": [
    {
     "name": "stdout",
     "output_type": "stream",
     "text": [
      "Sum of 2 vectors:\n",
      " 'de405.bsp' segment 0 SOLAR SYSTEM BARYCENTER -> 2 VENUS BARYCENTER\n",
      " 'de405.bsp' segment 2 VENUS BARYCENTER -> 299 VENUS\n"
     ]
    }
   ],
   "source": [
    "print(solarsystem['venus'])"
   ]
  },
  {
   "cell_type": "markdown",
   "metadata": {},
   "source": [
    "## Moon phase"
   ]
  },
  {
   "cell_type": "code",
   "execution_count": 15,
   "metadata": {
    "scrolled": false
   },
   "outputs": [
    {
     "name": "stdout",
     "output_type": "stream",
     "text": [
      "359.80 -  99.95% - 2021-03-13 02:00:00-08:00\n",
      "359.85 -  99.96% - 2021-03-13 02:05:00-08:00\n",
      "359.90 -  99.97% - 2021-03-13 02:10:00-08:00\n",
      "359.95 -  99.99% - 2021-03-13 02:15:00-08:00\n",
      "  0.00 -   0.00% - 2021-03-13 02:20:00-08:00\n",
      "  0.05 -   0.01% - 2021-03-13 02:25:00-08:00\n",
      "  0.10 -   0.03% - 2021-03-13 02:30:00-08:00\n",
      "  0.15 -   0.04% - 2021-03-13 02:35:00-08:00\n",
      "  0.20 -   0.06% - 2021-03-13 02:40:00-08:00\n",
      "  0.25 -   0.07% - 2021-03-13 02:45:00-08:00\n",
      "  0.30 -   0.08% - 2021-03-13 02:50:00-08:00\n",
      "  0.35 -   0.10% - 2021-03-13 02:55:00-08:00\n"
     ]
    }
   ],
   "source": [
    "y, m, d = 2021, 3, 13\n",
    "h1, h2 = 2, 3\n",
    "\n",
    "for h in range(h1, h2):\n",
    "    for mi in range(0, 60, 5):\n",
    "        dt = datetime(y, m, d, h, mi, 0)\n",
    "        p = pacific.localize(dt)\n",
    "        t = ts.from_datetime(p)\n",
    "\n",
    "        phase = getMoonPhase(time=t, place=jushome, sun=sun, moon=moon)\n",
    "\n",
    "        print('{0:6.2f} - {1:6.2f}% - {2}'.format(phase, 100*phase/360, t.astimezone(pacific)))"
   ]
  },
  {
   "cell_type": "markdown",
   "metadata": {},
   "source": [
    "## Sunrise/sunset"
   ]
  },
  {
   "cell_type": "code",
   "execution_count": 16,
   "metadata": {
    "scrolled": true
   },
   "outputs": [
    {
     "name": "stdout",
     "output_type": "stream",
     "text": [
      "2021-06-15 05:04:53.997092-07:00 2021-06-15 21:17:41.053308-07:00 58367.056216\n",
      "2021-06-16 05:04:53.129022-07:00 2021-06-16 21:18:06.058443-07:00 58392.929421\n",
      "2021-06-17 05:04:54.992299-07:00 2021-06-17 21:18:28.420985-07:00 58413.428686\n",
      "2021-06-18 05:04:59.573445-07:00 2021-06-18 21:18:48.107501-07:00 58428.534056\n",
      "2021-06-19 05:05:06.856527-07:00 2021-06-19 21:19:05.088861-07:00 58438.232334\n",
      "2021-06-20 05:05:16.822436-07:00 2021-06-20 21:19:19.341691-07:00 58442.519255\n",
      "2021-06-21 05:05:29.450169-07:00 2021-06-21 21:19:30.846959-07:00 58441.39679\n",
      "2021-06-22 05:05:44.715827-07:00 2021-06-22 21:19:39.590585-07:00 58434.874758\n",
      "2021-06-23 05:06:02.593903-07:00 2021-06-23 21:19:45.562470-07:00 58422.968567\n",
      "2021-06-24 05:06:23.056999-07:00 2021-06-24 21:19:48.755371-07:00 58405.698372\n",
      "2021-06-25 05:06:46.076589-07:00 2021-06-25 21:19:49.163899-07:00 58383.08731\n"
     ]
    }
   ],
   "source": [
    "t0 = ts.from_datetime(pacific.localize(datetime(2021, 6, 15, 0, 0, 0)))\n",
    "t1 = ts.from_datetime(pacific.localize(datetime(2021, 6, 25, 23, 59, 59)))\n",
    "jushome_wgs84 = api.wgs84.latlon(+49.17897300, -122.64540700)\n",
    "t, y = almanac.find_discrete(t0, t1, almanac.sunrise_sunset(planets, jushome_wgs84))\n",
    "\n",
    "eachday = zip(t[::2], t[1::2])\n",
    "for sunrise, sunset in eachday:\n",
    "    print(sunrise.astimezone(pacific), sunset.astimezone(pacific),\n",
    "          (sunset.utc_datetime()\n",
    "           -sunrise.utc_datetime())\n",
    "          .total_seconds())"
   ]
  }
 ],
 "metadata": {
  "kernelspec": {
   "display_name": "Python 3",
   "language": "python",
   "name": "python3"
  },
  "language_info": {
   "codemirror_mode": {
    "name": "ipython",
    "version": 3
   },
   "file_extension": ".py",
   "mimetype": "text/x-python",
   "name": "python",
   "nbconvert_exporter": "python",
   "pygments_lexer": "ipython3",
   "version": "3.7.4"
  }
 },
 "nbformat": 4,
 "nbformat_minor": 2
}
