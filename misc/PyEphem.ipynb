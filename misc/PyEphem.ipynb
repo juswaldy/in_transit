{
 "cells": [
  {
   "cell_type": "code",
   "execution_count": 1,
   "metadata": {},
   "outputs": [],
   "source": [
    "import ephem\n",
    "from datetime import datetime"
   ]
  },
  {
   "cell_type": "code",
   "execution_count": 2,
   "metadata": {},
   "outputs": [
    {
     "name": "stdout",
     "output_type": "stream",
     "text": [
      "2019-08-08 13:32:19.888029\n"
     ]
    },
    {
     "data": {
      "text/plain": [
       "0.5928982712144745"
      ]
     },
     "execution_count": 2,
     "metadata": {},
     "output_type": "execute_result"
    }
   ],
   "source": [
    "print(datetime.now())\n",
    "m = ephem.Moon()\n",
    "m.compute(datetime.now())\n",
    "m.moon_phase"
   ]
  },
  {
   "cell_type": "code",
   "execution_count": 3,
   "metadata": {},
   "outputs": [
    {
     "name": "stdout",
     "output_type": "stream",
     "text": [
      "2019/8/15 12:29:14\n"
     ]
    }
   ],
   "source": [
    "nnm = ephem.next_full_moon('2019-08-08')\n",
    "print(nnm)"
   ]
  },
  {
   "cell_type": "code",
   "execution_count": 4,
   "metadata": {},
   "outputs": [],
   "source": [
    "jus = ephem.Observer()\n",
    "\n",
    "#christian.lon = -122.6006468\n",
    "#christian.lat = 49.1409649\n",
    "#christian.elevation = 14\n",
    "\n",
    "jus.lon = -122.6002680\n",
    "jus.lat = 49.1414510\n",
    "jus.elevation = 9"
   ]
  },
  {
   "cell_type": "code",
   "execution_count": 5,
   "metadata": {},
   "outputs": [],
   "source": [
    "def printStuff(observer, body):\n",
    "    print(\"Altitude: %f\\nAzymuth: %f\\nRight Ascension: %f\\nDeclination: %f\\n\" % (body.alt, body.az, body.ra, body.dec))\n",
    "    print(\"Next rising: %s\\nNext setting: %s\\n\" % (jus.next_rising(body), jus.next_setting(body)))"
   ]
  },
  {
   "cell_type": "code",
   "execution_count": 22,
   "metadata": {},
   "outputs": [
    {
     "name": "stdout",
     "output_type": "stream",
     "text": [
      "2019/8/8 21:12:17\n",
      "2019-08-08 14:12:16.000003\n"
     ]
    }
   ],
   "source": [
    "jus.date = datetime.utcnow()\n",
    "print(jus.date)\n",
    "print(ephem.localtime(jus.date))"
   ]
  },
  {
   "cell_type": "code",
   "execution_count": 23,
   "metadata": {},
   "outputs": [
    {
     "name": "stdout",
     "output_type": "stream",
     "text": [
      "-6:24:34.2 15:56:57.56 -15:33:07.6\n"
     ]
    }
   ],
   "source": [
    "moon = ephem.Moon(jus)\n",
    "\n",
    "#printStuff(jus, moon)\n",
    "moon.compute(jus)\n",
    "print(moon.alt, moon.ra, moon.dec)"
   ]
  },
  {
   "cell_type": "code",
   "execution_count": 26,
   "metadata": {},
   "outputs": [
    {
     "name": "stdout",
     "output_type": "stream",
     "text": [
      "Altitude: 0.034972\n",
      "Azymuth: 0.793120\n",
      "Right Ascension: 2.417219\n",
      "Declination: 0.279769\n",
      "\n",
      "Next rising: 2019/8/9 20:37:20\n",
      "Next setting: 2019/8/9 04:07:28\n",
      "\n",
      "Altitude: 0.034972\n",
      "Azymuth: 0.793120\n",
      "Right Ascension: 2.417219\n",
      "Declination: 0.279769\n",
      "\n",
      "Next rising: 2019/8/9 20:37:20\n",
      "Next setting: 2019/8/9 04:07:28\n",
      "\n",
      "-0:15:46.4 9:15:04.58 15:56:49.4\n"
     ]
    }
   ],
   "source": [
    "sun = ephem.Sun(jus)\n",
    "printStuff(jus, sun)\n",
    "sun.compute(jus)\n",
    "printStuff(jus, sun)\n",
    "print(sun.alt, sun.ra, sun.dec)"
   ]
  }
 ],
 "metadata": {
  "kernelspec": {
   "display_name": "Python 3",
   "language": "python",
   "name": "python3"
  },
  "language_info": {
   "codemirror_mode": {
    "name": "ipython",
    "version": 3
   },
   "file_extension": ".py",
   "mimetype": "text/x-python",
   "name": "python",
   "nbconvert_exporter": "python",
   "pygments_lexer": "ipython3",
   "version": "3.6.7"
  }
 },
 "nbformat": 4,
 "nbformat_minor": 2
}
