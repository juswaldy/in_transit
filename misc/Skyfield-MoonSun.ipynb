{
 "cells": [
  {
   "cell_type": "code",
   "execution_count": 1,
   "metadata": {},
   "outputs": [],
   "source": [
    "from datetime import datetime, timedelta\n",
    "from pytz import timezone\n",
    "from skyfield.api import load, Topos\n",
    "from skyfield import almanac"
   ]
  },
  {
   "cell_type": "code",
   "execution_count": 2,
   "metadata": {},
   "outputs": [],
   "source": [
    "ts = load.timescale()"
   ]
  },
  {
   "cell_type": "code",
   "execution_count": 3,
   "metadata": {},
   "outputs": [],
   "source": [
    "eph = load('de421.bsp')"
   ]
  },
  {
   "cell_type": "code",
   "execution_count": 4,
   "metadata": {},
   "outputs": [],
   "source": [
    "earth, moon, sun, jupiter, venus = eph['earth'], eph['moon'], eph['sun'], eph['jupiter barycenter'], eph['venus']"
   ]
  },
  {
   "cell_type": "code",
   "execution_count": 5,
   "metadata": {},
   "outputs": [],
   "source": [
    "pacific = timezone('Canada/Pacific')\n",
    "\n",
    "jusoffice = earth + Topos('49.14145100 N', '122.60026800 W')\n",
    "jushome = earth + Topos('49.17897300 N', '122.64540700 W')\n",
    "matsquidike = earth + Topos('49.12741100 N', '122.22289000 W')\n",
    "harryjerome = earth + Topos('49.28844300 N', '122.94163600 W')\n",
    "derbyreach = earth + Topos('49.19825000 N', '122.59613790 W')\n",
    "harrisonhotsprings = earth + Topos('49.30459200 N', '121.77318100 W')\n",
    "oldyalerd = earth + Topos('49.0203070 N', '122.1248580 W')\n",
    "macdonaldpark = earth + Topos('49.0895856 N', '122.1374938 W')"
   ]
  },
  {
   "cell_type": "code",
   "execution_count": 6,
   "metadata": {},
   "outputs": [],
   "source": [
    "def getApparent(body, time, place):\n",
    "    astrometric = place.at(time).observe(body)\n",
    "    alt, az, d = astrometric.apparent().altaz()\n",
    "    return alt, az"
   ]
  },
  {
   "cell_type": "code",
   "execution_count": 7,
   "metadata": {},
   "outputs": [],
   "source": [
    "from skyfield.framelib import ecliptic_frame\n",
    "def getMoonPhase(time, place, sun, moon):\n",
    "    e = place.at(time)\n",
    "    _, slon, _ = e.observe(sun).apparent().frame_latlon(ecliptic_frame)\n",
    "    _, mlon, _ = e.observe(moon).apparent().frame_latlon(ecliptic_frame)\n",
    "    phase = (mlon.degrees - slon.degrees) % 360.0\n",
    "    return phase"
   ]
  },
  {
   "cell_type": "markdown",
   "metadata": {},
   "source": [
    "## Moon phases"
   ]
  },
  {
   "cell_type": "code",
   "execution_count": 8,
   "metadata": {},
   "outputs": [
    {
     "name": "stdout",
     "output_type": "stream",
     "text": [
      "3 Last Quarter     2021-06-02 00:24:24.262547-07:00\n",
      "0 New Moon         2021-06-10 03:52:38.851626-07:00\n",
      "1 First Quarter    2021-06-17 20:54:17.196348-07:00\n",
      "2 Full Moon        2021-06-24 11:39:41.905381-07:00\n"
     ]
    }
   ],
   "source": [
    "t0 = ts.utc(2021, 6, 1)\n",
    "t1 = ts.utc(2021, 6, 30)\n",
    "t, y = almanac.find_discrete(t0, t1, almanac.moon_phases(eph))\n",
    "\n",
    "for yi, ti in zip(y, t):\n",
    "    print('{0:1d} {1:16} {2}'.format(yi, almanac.MOON_PHASES[yi], ti.astimezone(pacific)))"
   ]
  },
  {
   "cell_type": "markdown",
   "metadata": {},
   "source": [
    "## From Jus's home"
   ]
  },
  {
   "cell_type": "code",
   "execution_count": 9,
   "metadata": {},
   "outputs": [
    {
     "name": "stdout",
     "output_type": "stream",
     "text": [
      "359.91 - 99.97% - 2021-06-10 03:10:00-07:00\n",
      "359.96 - 99.99% - 2021-06-10 03:15:00-07:00\n",
      "  0.00 -  0.00% - 2021-06-10 03:20:00-07:00\n",
      "  0.05 -  0.01% - 2021-06-10 03:25:00-07:00\n",
      "179.92 - 49.98% - 2021-06-24 11:55:00-07:00\n",
      "179.98 - 49.99% - 2021-06-24 12:00:00-07:00\n",
      "180.04 - 50.01% - 2021-06-24 12:05:00-07:00\n",
      "180.10 - 50.03% - 2021-06-24 12:10:00-07:00\n"
     ]
    }
   ],
   "source": [
    "start = datetime(2021, 6, 1)\n",
    "finish = datetime(2021, 7, 1)\n",
    "step = timedelta(minutes=5)\n",
    "sentinel = start\n",
    "\n",
    "while sentinel <= finish:\n",
    "        p = pacific.localize(sentinel)\n",
    "        t = ts.from_datetime(p)\n",
    "        phase = getMoonPhase(time=t, place=jushome, sun=sun, moon=moon)\n",
    "        if phase < 0.1 or phase > 359.9 or 179.9 <= phase <= 180.1:\n",
    "            print('{0:6.2f} - {1:5.2f}% - {2}'.format(phase, 100*phase/360, t.astimezone(pacific)))\n",
    "        sentinel += step"
   ]
  },
  {
   "cell_type": "markdown",
   "metadata": {},
   "source": [
    "## Solstices and Equinoxes"
   ]
  },
  {
   "cell_type": "code",
   "execution_count": 10,
   "metadata": {},
   "outputs": [
    {
     "name": "stdout",
     "output_type": "stream",
     "text": [
      "0 Vernal Equinox   2021-03-20 02:37:28.523928-07:00\n",
      "1 Summer Solstice  2021-06-20 20:32:09.842816-07:00\n",
      "2 Autumnal Equinox 2021-09-22 12:21:05.515245-07:00\n",
      "3 Winter Solstice  2021-12-21 07:59:18.269469-08:00\n"
     ]
    }
   ],
   "source": [
    "t0 = ts.utc(2021, 1, 1)\n",
    "t1 = ts.utc(2021, 12, 31)\n",
    "t, y = almanac.find_discrete(t0, t1, almanac.seasons(eph))\n",
    "\n",
    "for yi, ti in zip(y, t):\n",
    "    print('{0:1d} {1:16} {2}'.format(yi, almanac.SEASON_EVENTS[yi], ti.astimezone(pacific)))"
   ]
  }
 ],
 "metadata": {
  "kernelspec": {
   "display_name": "Python 3",
   "language": "python",
   "name": "python3"
  },
  "language_info": {
   "codemirror_mode": {
    "name": "ipython",
    "version": 3
   },
   "file_extension": ".py",
   "mimetype": "text/x-python",
   "name": "python",
   "nbconvert_exporter": "python",
   "pygments_lexer": "ipython3",
   "version": "3.7.4"
  }
 },
 "nbformat": 4,
 "nbformat_minor": 2
}
