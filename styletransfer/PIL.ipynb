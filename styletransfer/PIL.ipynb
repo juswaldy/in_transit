{
 "cells": [
  {
   "cell_type": "code",
   "execution_count": 1,
   "metadata": {},
   "outputs": [],
   "source": [
    "from PIL import Image, ImageFont, ImageDraw"
   ]
  },
  {
   "cell_type": "code",
   "execution_count": 5,
   "metadata": {},
   "outputs": [],
   "source": [
    "mask = Image.open(\"pics/lastsupper-mask.png\")\n",
    "im1 = Image.open(\"results/hwalsuklee/lastsupper.jpg/aok.jpg\")\n",
    "im2 = Image.open(\"results/hwalsuklee/lastsupper.jpg/dognoodle.jpg\")\n",
    "x = Image.composite(im1, im2, mask)"
   ]
  },
  {
   "cell_type": "code",
   "execution_count": 19,
   "metadata": {
    "scrolled": true
   },
   "outputs": [
    {
     "name": "stdout",
     "output_type": "stream",
     "text": [
      "results/hwalsuklee/lastsupper.jpg/MiraWolf1.jpg\n",
      "results/hwalsuklee/lastsupper.jpg/aok.jpg\n",
      "results/hwalsuklee/lastsupper.jpg/aok.radial.jpg\n",
      "results/hwalsuklee/lastsupper.jpg/arhatsdetail.jpg\n",
      "results/hwalsuklee/lastsupper.jpg/blurryviolet.jpg\n",
      "results/hwalsuklee/lastsupper.jpg/crosshill.jpg\n",
      "results/hwalsuklee/lastsupper.jpg/daisy-painting-smaller.jpg\n",
      "results/hwalsuklee/lastsupper.jpg/dawes.milllakepark.jpg\n",
      "results/hwalsuklee/lastsupper.jpg/dognoodle.jpg\n",
      "results/hwalsuklee/lastsupper.jpg/forgodsoloved.jpg\n",
      "results/hwalsuklee/lastsupper.jpg/handpower.jpg\n",
      "results/hwalsuklee/lastsupper.jpg/katamari_day-small.jpg\n",
      "results/hwalsuklee/lastsupper.jpg/katamari_day-smaller.jpg\n",
      "results/hwalsuklee/lastsupper.jpg/katamari_night-small.jpg\n",
      "results/hwalsuklee/lastsupper.jpg/katamari_night-smaller.jpg\n",
      "results/hwalsuklee/lastsupper.jpg/kyle_1-small.jpg\n",
      "results/hwalsuklee/lastsupper.jpg/la_muse.jpg\n",
      "results/hwalsuklee/lastsupper.jpg/lamb3nooval.jpg\n",
      "results/hwalsuklee/lastsupper.jpg/leaf.jpg\n",
      "results/hwalsuklee/lastsupper.jpg/lecoy.trypophobia.jpg\n",
      "results/hwalsuklee/lastsupper.jpg/lingling.thankyou.jpg\n",
      "results/hwalsuklee/lastsupper.jpg/lingling.thankyou.radial.jpg\n",
      "results/hwalsuklee/lastsupper.jpg/mayadoodle.jpg\n",
      "results/hwalsuklee/lastsupper.jpg/minoru.jpg\n",
      "results/hwalsuklee/lastsupper.jpg/moomin_corrected-small.jpg\n",
      "results/hwalsuklee/lastsupper.jpg/moomin_corrected.jpg\n",
      "results/hwalsuklee/lastsupper.jpg/osiris-small.jpg\n",
      "results/hwalsuklee/lastsupper.jpg/phoenix1.jpg\n",
      "results/hwalsuklee/lastsupper.jpg/rain_princess.jpg\n",
      "results/hwalsuklee/lastsupper.jpg/samantha-small.jpg\n",
      "results/hwalsuklee/lastsupper.jpg/samantha-smaller.jpg\n",
      "results/hwalsuklee/lastsupper.jpg/sheepface.jpg\n",
      "results/hwalsuklee/lastsupper.jpg/starry-large.jpg\n",
      "results/hwalsuklee/lastsupper.jpg/starry-medium.jpg\n",
      "results/hwalsuklee/lastsupper.jpg/starry.jpg\n",
      "results/hwalsuklee/lastsupper.jpg/studentlife-reading.jpg\n",
      "results/hwalsuklee/lastsupper.jpg/the_scream.jpg\n",
      "results/hwalsuklee/lastsupper.jpg/tremblay-Whats-he-building-in-there.jpg\n",
      "results/hwalsuklee/lastsupper.jpg/tulip.jpg\n",
      "results/hwalsuklee/lastsupper.jpg/udnie-wiggles.jpg\n",
      "results/hwalsuklee/lastsupper.jpg/udnie.jpg\n",
      "results/hwalsuklee/lastsupper.jpg/uzi_pakkard-small.jpg\n",
      "results/hwalsuklee/lastsupper.jpg/uzi_pakkard.jpg\n",
      "results/hwalsuklee/lastsupper.jpg/wave.jpg\n",
      "results/hwalsuklee/lastsupper.jpg/wiggles-udnie.jpg\n",
      "results/hwalsuklee/lastsupper.jpg/wiggles_final.jpg\n",
      "results/hwalsuklee/lastsupper.jpg/ygartua.portofino1-small.jpg\n",
      "results/hwalsuklee/lastsupper.jpg/ygartua.sunmask-small.jpg\n"
     ]
    }
   ],
   "source": [
    "from glob import glob\n",
    "import os\n",
    "\n",
    "mask = Image.open(\"pics/lastsupper-mask.png\")\n",
    "rootdir = \"results/hwalsuklee/mix\"\n",
    "files = sorted(glob(\"results/hwalsuklee/lastsupper.jpg/*.jpg\"))\n",
    "for x in files:\n",
    "    resultdir = \"{}/{}\".format(rootdir, x.split('/')[-1])\n",
    "    os.makedirs(resultdir)\n",
    "    for y in files:\n",
    "        if x == y:\n",
    "            print(x)\n",
    "        else:\n",
    "            im1 = Image.open(x)\n",
    "            im2 = Image.open(y)\n",
    "            composite = Image.composite(im1, im2, mask)\n",
    "            compositeName = \"{}/{}\".format(resultdir, y.split('/')[-1])\n",
    "            composite.save(compositeName)"
   ]
  },
  {
   "cell_type": "code",
   "execution_count": 2,
   "metadata": {},
   "outputs": [],
   "source": [
    "x = Image.open(\"vids/zoolook/original/01213.jpg\")\n",
    "offset = 27\n",
    "x = x.crop((0, offset, 640, 480-offset))\n",
    "#x"
   ]
  },
  {
   "cell_type": "code",
   "execution_count": 3,
   "metadata": {},
   "outputs": [
    {
     "name": "stdout",
     "output_type": "stream",
     "text": [
      "RGB\n",
      "(1280, 532)\n",
      "(640, 532)\n"
     ]
    }
   ],
   "source": [
    "x = Image.open(\"vids/isheworthy/mix/0913.jpg\")\n",
    "print(x.mode)\n",
    "print(x.size)\n",
    "x = x.crop((300, 0, 940, 532))\n",
    "print(x.size)\n"
   ]
  },
  {
   "cell_type": "code",
   "execution_count": 4,
   "metadata": {},
   "outputs": [
    {
     "name": "stdout",
     "output_type": "stream",
     "text": [
      "(1280, 532)\n",
      "(640, 532)\n"
     ]
    }
   ],
   "source": [
    "y = Image.open(\"vids/isheworthy/final/0913.jpg\")\n",
    "print(y.size)\n",
    "y = y.crop((300, 0, 940, 532))\n",
    "print(y.size)\n"
   ]
  },
  {
   "cell_type": "code",
   "execution_count": 5,
   "metadata": {},
   "outputs": [],
   "source": [
    "z = Image.new('RGB', (1280, 532))\n",
    "z.paste(im=x, box=(0, 0))\n",
    "z.paste(im=y, box=(640, 0))\n",
    "font = ImageFont.truetype(\"/usr/share/fonts/dejavu/DejaVuSans.ttf\", 200)\n",
    "d = ImageDraw.Draw(z)\n",
    "d.text((560,160), \"➡\", (128,0,0), font=font)\n",
    "\n",
    "#z.save(\"vids/isheworthy/thumbnail.jpg\")"
   ]
  },
  {
   "cell_type": "code",
   "execution_count": 59,
   "metadata": {},
   "outputs": [
    {
     "name": "stdout",
     "output_type": "stream",
     "text": [
      "(850, 735)\n",
      "(425, 367)\n"
     ]
    }
   ],
   "source": [
    "denom = 2\n",
    "basename = \"style/nets/color-centered\"\n",
    "x = Image.open(basename + \".jpg\")\n",
    "print(x.size)\n",
    "newsize = (int(x.size[0]/denom), int(x.size[1]/denom))\n",
    "x = x.resize(newsize, resample=Image.LANCZOS)\n",
    "print(x.size)\n",
    "#x.save(basename + \"-small.jpg\")"
   ]
  },
  {
   "cell_type": "code",
   "execution_count": 131,
   "metadata": {},
   "outputs": [
    {
     "name": "stderr",
     "output_type": "stream",
     "text": [
      "/home/jus/anaconda3/lib/python3.6/site-packages/skimage/util/dtype.py:122: UserWarning: Possible precision loss when converting from float64 to uint8\n",
      "  .format(dtypeobj_in, dtypeobj_out))\n"
     ]
    }
   ],
   "source": [
    "from skimage import io, transform\n",
    "x = skimage.io.imread(\"vids/kickit/original/01234.jpg\")\n",
    "x = skimage.transform.pyramid_expand(x, upscale=1.5)\n",
    "#skimage.io.imsave(\"vids/kickit/skimage.enlarged.jpg\", x)"
   ]
  },
  {
   "cell_type": "markdown",
   "metadata": {},
   "source": [
    "# Causeview Sync\n",
    "\n",
    "## Description\n",
    "\n",
    "The Causeview-Jenzabar sync system is composed of 4 components:\n",
    "- Windows WCF Endpoint: to receive Outbound Messages from Causeview\n",
    "- SalesforceAdapter Database: to store mappings and messages from the Endpoint and from Clover\n",
    "- Clover Graphs: to process messages from SalesforceAdapter and to Causeview\n",
    "- SQL Stored Procedures: to be called by Clover graphs to actually load and save the data\n",
    "\n",
    "## Table of Contents\n",
    "\n",
    "- [Requirements](#Requirements)\n",
    "- [Wiring](#Wiring)\n",
    "\t- [When should I check the wiring again?](#When-should-I-check-the-wiring-again?)\n",
    "\t- [What steps do I follow to check the wiring?](#What-steps-do-I-follow-to-check-the-wiring?)\n",
    "- [Components](#Components)\n",
    "  * [WCF]\n",
    "\n",
    "## Requirements\n",
    "\n",
    "- System/Software:\n",
    "\t- Salesforce SOAP API >= 34.0\n",
    "\t- Salesforce Bulk API >= 34.0\n",
    "\t- Windows WCF >= 4.5\n",
    "\t- SQLServer >= 2012 (11.0.7001)\n",
    "\t- CloverETL Server >= 4.0.4\n",
    "\t- Ruby >= 2.0\n",
    "\t- inotifywait >= 3.14\n",
    "\n",
    "## Wiring\n",
    "\n",
    "### When should I check the wiring again?\n",
    "\n",
    "- When we spawn a new Causeview sandbox in Salesforce\n",
    "- When we publish a new Endpoint API version\n",
    "- When we move/rename a db server\n",
    "\n",
    "### What steps do I follow to check the wiring?\n",
    "\n",
    "1. Login to Causeview\n",
    "1. Update Causeview Outbound Messages Endpoint URL\n",
    "\t- Navigate to `Setup > Create > Workflow & Approvals > Outbound Messages`\n",
    "\t- For each Outbound Message, update its `Endpoint URL` field to `https://webapi1.twu.ca/SalesforceSyncTest/v1/Notification.svc`\n",
    "1. Get the Org Id from Causeview\n",
    "\t- Navigate to `Setup > Company Profile > Company Information`\n",
    "\t- Write down the `Salesforce.com Organization ID`\n",
    "1. Update the Endpoint Web.config with the Org Id\n",
    "\t- Login to `webapi1.twu.ca`\n",
    "\t- Go to `D:/inetpub/[Test] SalesforceAdapter/`\n",
    "\t- Open up the `Web.config` file\n",
    "\t- Navigate to `applicationSettings > SalesforceAdapter.Properties.Settings > SalesforceInstances`\n",
    "\t- Update the Causeview entry with the Org Id from above\n",
    "\t- (Optional) Navigate to `connectionStrings`, then add/update the relevant entries\n",
    "1. Update the connection configuration in the Clover sandbox\n",
    "\t- SSH to Clover server or browse to `https://cloveretl-test.twu.ca:8443/clover/gui/sandboxes.jsf`\n",
    "\t- Go to the `SalesfocesSync_Test` sandbox\n",
    "\t- Open the `conn` folder and update `Jenzabar.cfg` and `SalesforceAdapter.cfg`\n",
    "1. (Optional) Update the API version in the Clover sandbox\n",
    "\t- Go to the `conn` folder of `SalesforceSync_Test` sandbox\n",
    "\t- Update `parameters.prm` and set `APIVersion` to the appropriate version\n",
    "\n",
    "## Testing\n",
    "\n",
    "Existing Contact\n",
    "1. Login to Causeview staging https://test.salesforce.com\n",
    "2. Find an existing mapped person, e.g. 223792 David Aaker\n",
    "3. Update one or more of the fields that we sync and hit Save\n",
    "\tPREFERRED_NAME\n",
    "\tFIRST_NAME\n",
    "\tMIDDLE_NAME\n",
    "\tLAST_NAME\n",
    "\tSUFFIX\n",
    "\tBIRTH_NAME\n",
    "\tBIRTH_DTE\n",
    "\tGENDER\n",
    "\tEMAIL_ADDRESS\n",
    "\tPHONE\n",
    "\tHOME_PHONE\n",
    "\tMOBILE_PHONE\n",
    "\tADDR_LINE_1\n",
    "\tADDR_LINE_2\n",
    "\tADDR_LINE_3\n",
    "\tCITY\n",
    "\tSTATE\n",
    "\tZIP\n",
    "\tCOUNTRY\n",
    "\tDECEASED\n",
    "4. Login to db1.test.twu.ca\n",
    "5. Login to jenzabarsrvtest.twu.ca\n",
    "\n"
   ]
  }
 ],
 "metadata": {
  "kernelspec": {
   "display_name": "Python 3",
   "language": "python",
   "name": "python3"
  },
  "language_info": {
   "codemirror_mode": {
    "name": "ipython",
    "version": 3
   },
   "file_extension": ".py",
   "mimetype": "text/x-python",
   "name": "python",
   "nbconvert_exporter": "python",
   "pygments_lexer": "ipython3",
   "version": "3.7.4"
  }
 },
 "nbformat": 4,
 "nbformat_minor": 2
}
