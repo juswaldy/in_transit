{
 "cells": [
  {
   "cell_type": "code",
   "execution_count": 1,
   "metadata": {},
   "outputs": [],
   "source": [
    "from pydub import AudioSegment"
   ]
  },
  {
   "cell_type": "code",
   "execution_count": 2,
   "metadata": {},
   "outputs": [],
   "source": [
    "import soundfile as sf\n",
    "import pyrubberband as pyrb"
   ]
  },
  {
   "cell_type": "code",
   "execution_count": 3,
   "metadata": {},
   "outputs": [],
   "source": [
    "y, sr = sf.read('creep.moshejun_umxhq/other.wav')"
   ]
  },
  {
   "cell_type": "code",
   "execution_count": 4,
   "metadata": {},
   "outputs": [],
   "source": [
    "y_shifted = pyrb.pitch_shift(y, sr, 7)"
   ]
  },
  {
   "cell_type": "code",
   "execution_count": 5,
   "metadata": {},
   "outputs": [],
   "source": [
    "sf.write('creep.moshejun_umxhq/other_pitchG.wav', y_shifted, sr)"
   ]
  },
  {
   "cell_type": "code",
   "execution_count": 17,
   "metadata": {},
   "outputs": [
    {
     "name": "stdout",
     "output_type": "stream",
     "text": [
      "1.1668611435239207\n",
      "0.8333333333333334\n"
     ]
    }
   ],
   "source": [
    "print(1/0.857)\n",
    "print(1/1.2)"
   ]
  },
  {
   "cell_type": "code",
   "execution_count": 19,
   "metadata": {},
   "outputs": [],
   "source": [
    "y, sr = sf.read('creep.moshejun_umxhq/other_pitchG.wav')\n",
    "y_stretched = pyrb.time_stretch(y, sr, 1.2)\n",
    "sf.write('creep.moshejun_umxhq/other_pitchG_stretched.wav', y_stretched, sr)"
   ]
  },
  {
   "cell_type": "code",
   "execution_count": null,
   "metadata": {},
   "outputs": [],
   "source": [
    "silent6 = AudioSegment.silent(duration=5900/1.2)\n",
    "vocals = AudioSegment.from_file('creep.radiohead_umxhq/vocals.wav')\n",
    "final = silent6.append(vocals)\n",
    "final.export('creep.radiohead_umxhq/vocals_withsilence.wav', format='wav')"
   ]
  },
  {
   "cell_type": "code",
   "execution_count": 21,
   "metadata": {},
   "outputs": [
    {
     "data": {
      "text/plain": [
       "<_io.BufferedRandom name='creep.yorke.wav'>"
      ]
     },
     "execution_count": 21,
     "metadata": {},
     "output_type": "execute_result"
    }
   ],
   "source": [
    "yorkevocals = AudioSegment.from_file('creep.radiohead_umxhq/vocals_withsilence.wav')\n",
    "background = AudioSegment.from_file('creep.moshejun_umxhq/other_pitchG_stretched.wav')\n",
    "combined = background.overlay(yorkevocals)\n",
    "combined.export('creep.yorke.wav', format='wav')"
   ]
  }
 ],
 "metadata": {
  "kernelspec": {
   "display_name": "Python 3",
   "language": "python",
   "name": "python3"
  },
  "language_info": {
   "codemirror_mode": {
    "name": "ipython",
    "version": 3
   },
   "file_extension": ".py",
   "mimetype": "text/x-python",
   "name": "python",
   "nbconvert_exporter": "python",
   "pygments_lexer": "ipython3",
   "version": "3.6.8"
  }
 },
 "nbformat": 4,
 "nbformat_minor": 2
}
