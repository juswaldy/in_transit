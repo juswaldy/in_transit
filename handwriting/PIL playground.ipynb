{
 "cells": [
  {
   "cell_type": "code",
   "execution_count": 1,
   "metadata": {},
   "outputs": [],
   "source": [
    "import numpy as np\n",
    "import pandas as pd\n",
    "from PIL import Image\n",
    "width = 512\n",
    "height = 512"
   ]
  },
  {
   "cell_type": "code",
   "execution_count": 2,
   "metadata": {},
   "outputs": [],
   "source": [
    "def loadandresize(maxwidth, maxheight, filename):\n",
    "    f = Image.open(filename)\n",
    "    fsize = f.size\n",
    "    ratio = min(maxwidth/fsize[0], maxheight/fsize[1])\n",
    "    resultsize = (int(fsize[0]*ratio), int(fsize[1]*ratio))\n",
    "    return f.resize(resultsize)"
   ]
  },
  {
   "cell_type": "code",
   "execution_count": 3,
   "metadata": {},
   "outputs": [],
   "source": [
    "filename = \"2016.05.OctDec.pdf-12.jpg\"\n",
    "#base = loadandresize(width, height, filename)\n",
    "#base\n",
    "base = Image.open(filename)"
   ]
  },
  {
   "cell_type": "code",
   "execution_count": 4,
   "metadata": {},
   "outputs": [
    {
     "data": {
      "text/plain": [
       "{'jfif': 257,\n",
       " 'jfif_density': (300, 300),\n",
       " 'jfif_unit': 0,\n",
       " 'jfif_version': (1, 1)}"
      ]
     },
     "execution_count": 4,
     "metadata": {},
     "output_type": "execute_result"
    }
   ],
   "source": [
    "base.info"
   ]
  },
  {
   "cell_type": "code",
   "execution_count": 5,
   "metadata": {},
   "outputs": [
    {
     "data": {
      "text/plain": [
       "(1650, 2550)"
      ]
     },
     "execution_count": 5,
     "metadata": {},
     "output_type": "execute_result"
    }
   ],
   "source": [
    "width, height = base.size\n",
    "base.size"
   ]
  },
  {
   "cell_type": "code",
   "execution_count": 6,
   "metadata": {},
   "outputs": [
    {
     "data": {
      "text/plain": [
       "4207500"
      ]
     },
     "execution_count": 6,
     "metadata": {},
     "output_type": "execute_result"
    }
   ],
   "source": [
    "data = base.getdata()\n",
    "len(data)"
   ]
  },
  {
   "cell_type": "code",
   "execution_count": 7,
   "metadata": {},
   "outputs": [
    {
     "data": {
      "text/plain": [
       "<ImagingCore at 0x7f54f4998170>"
      ]
     },
     "execution_count": 7,
     "metadata": {},
     "output_type": "execute_result"
    }
   ],
   "source": [
    "data"
   ]
  },
  {
   "cell_type": "code",
   "execution_count": 8,
   "metadata": {},
   "outputs": [
    {
     "data": {
      "text/plain": [
       "(4207500, 3)"
      ]
     },
     "execution_count": 8,
     "metadata": {},
     "output_type": "execute_result"
    }
   ],
   "source": [
    "x = np.array(data)\n",
    "x.shape"
   ]
  },
  {
   "cell_type": "code",
   "execution_count": 9,
   "metadata": {},
   "outputs": [
    {
     "data": {
      "text/plain": [
       "array([[53, 53, 53],\n",
       "       [52, 52, 52],\n",
       "       [41, 41, 41],\n",
       "       [29, 29, 29],\n",
       "       [29, 29, 29],\n",
       "       [36, 36, 36],\n",
       "       [34, 34, 34],\n",
       "       [23, 23, 23],\n",
       "       [26, 26, 26],\n",
       "       [ 0,  0,  0],\n",
       "       [ 1,  1,  1],\n",
       "       [37, 37, 37]])"
      ]
     },
     "execution_count": 9,
     "metadata": {},
     "output_type": "execute_result"
    }
   ],
   "source": [
    "x = x[:width*100]\n",
    "x[:12]"
   ]
  },
  {
   "cell_type": "code",
   "execution_count": 10,
   "metadata": {},
   "outputs": [
    {
     "data": {
      "text/plain": [
       "array([53, 52, 41, 29, 29, 36, 34, 23, 26,  0,  1, 37])"
      ]
     },
     "execution_count": 10,
     "metadata": {},
     "output_type": "execute_result"
    }
   ],
   "source": [
    "y = np.delete(x, np.s_[::2], 1)\n",
    "y = y.flatten()\n",
    "y[:12]"
   ]
  },
  {
   "cell_type": "code",
   "execution_count": 11,
   "metadata": {
    "scrolled": true
   },
   "outputs": [
    {
     "data": {
      "text/plain": [
       "array([53, 52, 41, 29, 29, 36, 34, 23, 26,  0,  1, 37, 49, 30, 29, 54, 41,\n",
       "       24, 62,  6,  0, 30, 13, 30, 30, 23, 24, 18,  2,  1,  2,  0, 20, 41,\n",
       "        2,  0, 23,  8,  2, 60, 18, 11,  2,  0,  0,  0, 10, 23,  1,  1,  6,\n",
       "       21, 39, 47, 45, 40, 40, 39, 32, 27, 38, 50, 50, 41, 29, 55, 52,  7,\n",
       "        0,  6, 24, 20, 21, 20, 24, 30, 26, 11,  2,  2, 27, 18,  2,  1, 22,\n",
       "       49, 45, 23,  0, 62, 77, 30,  2, 28, 37,  6,  0,  3, 54, 56])"
      ]
     },
     "execution_count": 11,
     "metadata": {},
     "output_type": "execute_result"
    }
   ],
   "source": [
    "z = y.reshape(width, 100)\n",
    "z[0]"
   ]
  },
  {
   "cell_type": "code",
   "execution_count": 12,
   "metadata": {
    "scrolled": true
   },
   "outputs": [
    {
     "data": {
      "text/plain": [
       "array([[[ 53,  53,  53],\n",
       "        [ 52,  52,  52],\n",
       "        [ 41,  41,  41],\n",
       "        ...,\n",
       "        [ 63,  63,  63],\n",
       "        [ 60,  60,  60],\n",
       "        [ 73,  73,  73]],\n",
       "\n",
       "       [[ 60,  60,  60],\n",
       "        [ 63,  63,  63],\n",
       "        [ 57,  57,  57],\n",
       "        ...,\n",
       "        [ 49,  49,  49],\n",
       "        [ 54,  54,  54],\n",
       "        [ 66,  66,  66]],\n",
       "\n",
       "       [[ 47,  47,  47],\n",
       "        [ 50,  50,  50],\n",
       "        [ 50,  50,  50],\n",
       "        ...,\n",
       "        [ 45,  45,  45],\n",
       "        [ 50,  50,  50],\n",
       "        [ 60,  60,  60]],\n",
       "\n",
       "       ...,\n",
       "\n",
       "       [[255, 255, 255],\n",
       "        [255, 255, 255],\n",
       "        [255, 255, 255],\n",
       "        ...,\n",
       "        [  0,   0,   0],\n",
       "        [  1,   1,   1],\n",
       "        [ 45,  45,  45]],\n",
       "\n",
       "       [[255, 255, 255],\n",
       "        [255, 255, 255],\n",
       "        [255, 255, 255],\n",
       "        ...,\n",
       "        [  1,   1,   1],\n",
       "        [  3,   3,   3],\n",
       "        [ 49,  49,  49]],\n",
       "\n",
       "       [[255, 255, 255],\n",
       "        [255, 255, 255],\n",
       "        [255, 255, 255],\n",
       "        ...,\n",
       "        [ 13,  13,  13],\n",
       "        [  0,   0,   0],\n",
       "        [ 24,  24,  24]]], dtype=uint8)"
      ]
     },
     "execution_count": 12,
     "metadata": {},
     "output_type": "execute_result"
    }
   ],
   "source": [
    "z = np.repeat(y, 3)\n",
    "z = np.reshape(z, (100, width, 3)).astype('uint8')\n",
    "z"
   ]
  },
  {
   "cell_type": "code",
   "execution_count": 13,
   "metadata": {
    "scrolled": false
   },
   "outputs": [],
   "source": [
    "top100 = Image.fromarray(z).convert(mode='L')"
   ]
  },
  {
   "cell_type": "code",
   "execution_count": 14,
   "metadata": {},
   "outputs": [
    {
     "data": {
      "text/plain": [
       "array([53, 52, 41, ..., 13,  0, 24])"
      ]
     },
     "execution_count": 14,
     "metadata": {},
     "output_type": "execute_result"
    }
   ],
   "source": [
    "z = np.array(top100.getdata())\n",
    "z"
   ]
  },
  {
   "cell_type": "code",
   "execution_count": 15,
   "metadata": {
    "scrolled": false
   },
   "outputs": [
    {
     "data": {
      "image/png": "[encoded data removed]",
      "text/plain": [
       "<PIL.Image.Image image mode=L size=1650x100 at 0x7F54957820B8>"
      ]
     },
     "execution_count": 15,
     "metadata": {},
     "output_type": "execute_result"
    }
   ],
   "source": [
    "z = np.reshape(z, (100, width)).astype('uint8')\n",
    "Image.fromarray(z)"
   ]
  },
  {
   "cell_type": "code",
   "execution_count": 16,
   "metadata": {},
   "outputs": [
    {
     "name": "stdout",
     "output_type": "stream",
     "text": [
      "(100, 1650)\n",
      "(100, 200)\n"
     ]
    }
   ],
   "source": [
    "print(z.shape)\n",
    "z = np.delete(z, np.s_[200::], 1)\n",
    "print(z.shape)"
   ]
  },
  {
   "cell_type": "code",
   "execution_count": 17,
   "metadata": {},
   "outputs": [
    {
     "data": {
      "image/png": "[encoded data removed]",
      "text/plain": [
       "<PIL.Image.Image image mode=L size=200x100 at 0x7F54957824A8>"
      ]
     },
     "execution_count": 17,
     "metadata": {},
     "output_type": "execute_result"
    }
   ],
   "source": [
    "Image.fromarray(z)"
   ]
  },
  {
   "cell_type": "code",
   "execution_count": 18,
   "metadata": {},
   "outputs": [
    {
     "data": {
      "image/png": "[encoded data removed]",
      "text/plain": [
       "<PIL.Image.Image image mode=L size=200x100 at 0x7F5495782588>"
      ]
     },
     "execution_count": 18,
     "metadata": {},
     "output_type": "execute_result"
    }
   ],
   "source": [
    "cutoff = 200\n",
    "a = z.flatten()\n",
    "a[a < cutoff] = 0\n",
    "a[a >= cutoff] = 255\n",
    "\n",
    "a = np.reshape(a, (100, 200)).astype('uint8')\n",
    "Image.fromarray(a)"
   ]
  },
  {
   "cell_type": "code",
   "execution_count": 19,
   "metadata": {},
   "outputs": [],
   "source": [
    "a = np.array(data)"
   ]
  },
  {
   "cell_type": "code",
   "execution_count": 20,
   "metadata": {},
   "outputs": [
    {
     "data": {
      "text/plain": [
       "(4207500, 3)"
      ]
     },
     "execution_count": 20,
     "metadata": {},
     "output_type": "execute_result"
    }
   ],
   "source": [
    "a.shape"
   ]
  }
 ],
 "metadata": {
  "kernelspec": {
   "display_name": "Python 3",
   "language": "python",
   "name": "python3"
  },
  "language_info": {
   "codemirror_mode": {
    "name": "ipython",
    "version": 3
   },
   "file_extension": ".py",
   "mimetype": "text/x-python",
   "name": "python",
   "nbconvert_exporter": "python",
   "pygments_lexer": "ipython3",
   "version": "3.6.5"
  }
 },
 "nbformat": 4,
 "nbformat_minor": 2
}
